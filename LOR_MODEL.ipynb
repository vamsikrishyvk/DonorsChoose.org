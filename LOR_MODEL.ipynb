{
  "nbformat": 4,
  "nbformat_minor": 0,
  "metadata": {
    "colab": {
      "name": "LOR_MODEL.ipynb",
      "provenance": []
    },
    "kernelspec": {
      "name": "python3",
      "display_name": "Python 3"
    },
    "accelerator": "GPU"
  },
  "cells": [
    {
      "cell_type": "markdown",
      "metadata": {
        "colab_type": "text",
        "id": "-Ab-X-IrCyl0"
      },
      "source": [
        "# DonorsChoose"
      ]
    },
    {
      "cell_type": "markdown",
      "metadata": {
        "colab_type": "text",
        "id": "etNpzy7rCyl2"
      },
      "source": [
        "<p>\n",
        "DonorsChoose.org receives hundreds of thousands of project proposals each year for classroom projects in need of funding. Right now, a large number of volunteers is needed to manually screen each submission before it's approved to be posted on the DonorsChoose.org website.\n",
        "</p>\n",
        "<p>\n",
        "    Next year, DonorsChoose.org expects to receive close to 500,000 project proposals. As a result, there are three main problems they need to solve:\n",
        "<ul>\n",
        "<li>\n",
        "    How to scale current manual processes and resources to screen 500,000 projects so that they can be posted as quickly and as efficiently as possible</li>\n",
        "    <li>How to increase the consistency of project vetting across different volunteers to improve the experience for teachers</li>\n",
        "    <li>How to focus volunteer time on the applications that need the most assistance</li>\n",
        "    </ul>\n",
        "</p>    \n",
        "<p>\n",
        "The goal of the competition is to predict whether or not a DonorsChoose.org project proposal submitted by a teacher will be approved, using the text of project descriptions as well as additional metadata about the project, teacher, and school. DonorsChoose.org can then use this information to identify projects most likely to need further review before approval.\n",
        "</p>"
      ]
    },
    {
      "cell_type": "markdown",
      "metadata": {
        "colab_type": "text",
        "id": "kO2Kg7TgCyl4"
      },
      "source": [
        "## About the DonorsChoose Data Set\n",
        "\n",
        "The `train.csv` data set provided by DonorsChoose contains the following features:\n",
        "\n",
        "Feature | Description \n",
        "----------|---------------\n",
        "**`project_id`** | A unique identifier for the proposed project. **Example:** `p036502`   \n",
        "**`project_title`**    | Title of the project. **Examples:**<br><ul><li><code>Art Will Make You Happy!</code></li><li><code>First Grade Fun</code></li></ul> \n",
        "**`project_grade_category`** | Grade level of students for which the project is targeted. One of the following enumerated values: <br/><ul><li><code>Grades PreK-2</code></li><li><code>Grades 3-5</code></li><li><code>Grades 6-8</code></li><li><code>Grades 9-12</code></li></ul>  \n",
        " **`project_subject_categories`** | One or more (comma-separated) subject categories for the project from the following enumerated list of values:  <br/><ul><li><code>Applied Learning</code></li><li><code>Care &amp; Hunger</code></li><li><code>Health &amp; Sports</code></li><li><code>History &amp; Civics</code></li><li><code>Literacy &amp; Language</code></li><li><code>Math &amp; Science</code></li><li><code>Music &amp; The Arts</code></li><li><code>Special Needs</code></li><li><code>Warmth</code></li></ul><br/> **Examples:** <br/><ul><li><code>Music &amp; The Arts</code></li><li><code>Literacy &amp; Language, Math &amp; Science</code></li>  \n",
        "  **`school_state`** | State where school is located ([Two-letter U.S. postal code](https://en.wikipedia.org/wiki/List_of_U.S._state_abbreviations#Postal_codes)). **Example:** `WY`\n",
        "**`project_subject_subcategories`** | One or more (comma-separated) subject subcategories for the project. **Examples:** <br/><ul><li><code>Literacy</code></li><li><code>Literature &amp; Writing, Social Sciences</code></li></ul> \n",
        "**`project_resource_summary`** | An explanation of the resources needed for the project. **Example:** <br/><ul><li><code>My students need hands on literacy materials to manage sensory needs!</code</li></ul> \n",
        "**`project_essay_1`**    | First application essay<sup>*</sup>  \n",
        "**`project_essay_2`**    | Second application essay<sup>*</sup> \n",
        "**`project_essay_3`**    | Third application essay<sup>*</sup> \n",
        "**`project_essay_4`**    | Fourth application essay<sup>*</sup> \n",
        "**`project_submitted_datetime`** | Datetime when project application was submitted. **Example:** `2016-04-28 12:43:56.245`   \n",
        "**`teacher_id`** | A unique identifier for the teacher of the proposed project. **Example:** `bdf8baa8fedef6bfeec7ae4ff1c15c56`  \n",
        "**`teacher_prefix`** | Teacher's title. One of the following enumerated values: <br/><ul><li><code>nan</code></li><li><code>Dr.</code></li><li><code>Mr.</code></li><li><code>Mrs.</code></li><li><code>Ms.</code></li><li><code>Teacher.</code></li></ul>  \n",
        "**`teacher_number_of_previously_posted_projects`** | Number of project applications previously submitted by the same teacher. **Example:** `2` \n",
        "\n",
        "<sup>*</sup> See the section <b>Notes on the Essay Data</b> for more details about these features.\n",
        "\n",
        "Additionally, the `resources.csv` data set provides more data about the resources required for each project. Each line in this file represents a resource required by a project:\n",
        "\n",
        "Feature | Description \n",
        "----------|---------------\n",
        "**`id`** | A `project_id` value from the `train.csv` file.  **Example:** `p036502`   \n",
        "**`description`** | Desciption of the resource. **Example:** `Tenor Saxophone Reeds, Box of 25`   \n",
        "**`quantity`** | Quantity of the resource required. **Example:** `3`   \n",
        "**`price`** | Price of the resource required. **Example:** `9.95`   \n",
        "\n",
        "**Note:** Many projects require multiple resources. The `id` value corresponds to a `project_id` in train.csv, so you use it as a key to retrieve all resources needed for a project:\n",
        "\n",
        "The data set contains the following label (the value you will attempt to predict):\n",
        "\n",
        "Label | Description\n",
        "----------|---------------\n",
        "`project_is_approved` | A binary flag indicating whether DonorsChoose approved the project. A value of `0` indicates the project was not approved, and a value of `1` indicates the project was approved."
      ]
    },
    {
      "cell_type": "markdown",
      "metadata": {
        "colab_type": "text",
        "id": "dBGA_YStCyl6"
      },
      "source": [
        "### Notes on the Essay Data\n",
        "\n",
        "<ul>\n",
        "Prior to May 17, 2016, the prompts for the essays were as follows:\n",
        "<li>__project_essay_1:__ \"Introduce us to your classroom\"</li>\n",
        "<li>__project_essay_2:__ \"Tell us more about your students\"</li>\n",
        "<li>__project_essay_3:__ \"Describe how your students will use the materials you're requesting\"</li>\n",
        "<li>__project_essay_3:__ \"Close by sharing why your project will make a difference\"</li>\n",
        "</ul>\n",
        "\n",
        "\n",
        "<ul>\n",
        "Starting on May 17, 2016, the number of essays was reduced from 4 to 2, and the prompts for the first 2 essays were changed to the following:<br>\n",
        "<li>__project_essay_1:__ \"Describe your students: What makes your students special? Specific details about their background, your neighborhood, and your school are all helpful.\"</li>\n",
        "<li>__project_essay_2:__ \"About your project: How will these materials make a difference in your students' learning and improve their school lives?\"</li>\n",
        "<br>For all projects with project_submitted_datetime of 2016-05-17 and later, the values of project_essay_3 and project_essay_4 will be NaN.\n",
        "</ul>\n"
      ]
    },
    {
      "cell_type": "code",
      "metadata": {
        "id": "s59ZAQQevomO",
        "colab_type": "code",
        "outputId": "5430ae1a-5992-4a43-e87a-139af11326fe",
        "colab": {
          "base_uri": "https://localhost:8080/",
          "height": 34
        }
      },
      "source": [
        "from google.colab import drive\n",
        "drive.mount('/content/drive')"
      ],
      "execution_count": 0,
      "outputs": [
        {
          "output_type": "stream",
          "text": [
            "Drive already mounted at /content/drive; to attempt to forcibly remount, call drive.mount(\"/content/drive\", force_remount=True).\n"
          ],
          "name": "stdout"
        }
      ]
    },
    {
      "cell_type": "code",
      "metadata": {
        "id": "S5nKYmYnv6ps",
        "colab_type": "code",
        "outputId": "b7906a64-d8fe-4264-80cd-3969a250a8ff",
        "colab": {
          "base_uri": "https://localhost:8080/",
          "height": 173
        }
      },
      "source": [
        "!pip install chart_studio"
      ],
      "execution_count": 0,
      "outputs": [
        {
          "output_type": "stream",
          "text": [
            "Requirement already satisfied: chart_studio in /usr/local/lib/python3.6/dist-packages (1.1.0)\n",
            "Requirement already satisfied: requests in /usr/local/lib/python3.6/dist-packages (from chart_studio) (2.21.0)\n",
            "Requirement already satisfied: six in /usr/local/lib/python3.6/dist-packages (from chart_studio) (1.12.0)\n",
            "Requirement already satisfied: plotly in /usr/local/lib/python3.6/dist-packages (from chart_studio) (4.4.1)\n",
            "Requirement already satisfied: retrying>=1.3.3 in /usr/local/lib/python3.6/dist-packages (from chart_studio) (1.3.3)\n",
            "Requirement already satisfied: chardet<3.1.0,>=3.0.2 in /usr/local/lib/python3.6/dist-packages (from requests->chart_studio) (3.0.4)\n",
            "Requirement already satisfied: idna<2.9,>=2.5 in /usr/local/lib/python3.6/dist-packages (from requests->chart_studio) (2.8)\n",
            "Requirement already satisfied: urllib3<1.25,>=1.21.1 in /usr/local/lib/python3.6/dist-packages (from requests->chart_studio) (1.24.3)\n",
            "Requirement already satisfied: certifi>=2017.4.17 in /usr/local/lib/python3.6/dist-packages (from requests->chart_studio) (2019.11.28)\n"
          ],
          "name": "stdout"
        }
      ]
    },
    {
      "cell_type": "code",
      "metadata": {
        "id": "LAHpquhlvjaI",
        "colab_type": "code",
        "colab": {}
      },
      "source": [
        "%matplotlib inline\n",
        "import warnings\n",
        "warnings.filterwarnings(\"ignore\")\n",
        "\n",
        "import sqlite3\n",
        "import pandas as pd\n",
        "import numpy as np\n",
        "import nltk\n",
        "import string\n",
        "import matplotlib.pyplot as plt\n",
        "import seaborn as sns\n",
        "from sklearn.feature_extraction.text import TfidfTransformer\n",
        "from sklearn.feature_extraction.text import TfidfVectorizer\n",
        "\n",
        "from sklearn.feature_extraction.text import CountVectorizer\n",
        "from sklearn.metrics import confusion_matrix\n",
        "from sklearn import metrics\n",
        "from sklearn.metrics import roc_curve, auc\n",
        "from nltk.stem.porter import PorterStemmer\n",
        "\n",
        "import re\n",
        "# Tutorial about Python regular expressions: https://pymotw.com/2/re/\n",
        "import string\n",
        "from nltk.corpus import stopwords\n",
        "from nltk.stem import PorterStemmer\n",
        "from nltk.stem.wordnet import WordNetLemmatizer\n",
        "\n",
        "from gensim.models import Word2Vec\n",
        "from gensim.models import KeyedVectors\n",
        "import pickle\n",
        "\n",
        "from tqdm import tqdm\n",
        "import os\n",
        "\n",
        "import chart_studio.plotly as py\n",
        "import plotly.graph_objs as go\n",
        "from collections import Counter"
      ],
      "execution_count": 0,
      "outputs": []
    },
    {
      "cell_type": "markdown",
      "metadata": {
        "colab_type": "text",
        "id": "MjknLZQqCymQ"
      },
      "source": [
        "## 1.1 Reading Data"
      ]
    },
    {
      "cell_type": "code",
      "metadata": {
        "id": "xR-TDDv2vlja",
        "colab_type": "code",
        "colab": {}
      },
      "source": [
        "project_data = pd.read_csv('/content/drive/My Drive/6_Donors_choose_NB/train_data.csv')\n",
        "resource_data = pd.read_csv('/content/drive/My Drive/6_Donors_choose_NB/resources.csv')"
      ],
      "execution_count": 0,
      "outputs": []
    },
    {
      "cell_type": "code",
      "metadata": {
        "id": "Gr5R8DcrwKen",
        "colab_type": "code",
        "outputId": "6f789d52-1a7c-4be0-b9b1-c7fb1e8c1644",
        "colab": {
          "base_uri": "https://localhost:8080/"
        }
      },
      "source": [
        "print(\"Number of data points in train data\", project_data.shape)\n",
        "print('-'*50)\n",
        "print(\"The attributes of data :\", project_data.columns.values)"
      ],
      "execution_count": 0,
      "outputs": [
        {
          "output_type": "stream",
          "text": [
            "Number of data points in train data (109248, 17)\n",
            "--------------------------------------------------\n",
            "The attributes of data : ['Unnamed: 0' 'id' 'teacher_id' 'teacher_prefix' 'school_state'\n",
            " 'project_submitted_datetime' 'project_grade_category'\n",
            " 'project_subject_categories' 'project_subject_subcategories'\n",
            " 'project_title' 'project_essay_1' 'project_essay_2' 'project_essay_3'\n",
            " 'project_essay_4' 'project_resource_summary'\n",
            " 'teacher_number_of_previously_posted_projects' 'project_is_approved']\n"
          ],
          "name": "stdout"
        }
      ]
    },
    {
      "cell_type": "code",
      "metadata": {
        "id": "hUxsPQGGwPH3",
        "colab_type": "code",
        "outputId": "df79d7c4-94dc-45f5-bcd8-c8f5f9e7e040",
        "colab": {
          "base_uri": "https://localhost:8080/"
        }
      },
      "source": [
        "# how to replace elements in list python: https://stackoverflow.com/a/2582163/4084039\n",
        "cols = ['Date' if x=='project_submitted_datetime' else x for x in list(project_data.columns)]\n",
        "\n",
        "\n",
        "#sort dataframe based on time pandas python: https://stackoverflow.com/a/49702492/4084039\n",
        "project_data['Date'] = pd.to_datetime(project_data['project_submitted_datetime'])\n",
        "project_data.drop('project_submitted_datetime', axis=1, inplace=True)\n",
        "project_data.sort_values(by=['Date'], inplace=True)\n",
        "\n",
        "\n",
        "# how to reorder columns pandas python: https://stackoverflow.com/a/13148611/4084039\n",
        "project_data = project_data[cols]\n",
        "\n",
        "\n",
        "project_data.head(2)"
      ],
      "execution_count": 0,
      "outputs": [
        {
          "output_type": "execute_result",
          "data": {
            "text/html": [
              "<div>\n",
              "<style scoped>\n",
              "    .dataframe tbody tr th:only-of-type {\n",
              "        vertical-align: middle;\n",
              "    }\n",
              "\n",
              "    .dataframe tbody tr th {\n",
              "        vertical-align: top;\n",
              "    }\n",
              "\n",
              "    .dataframe thead th {\n",
              "        text-align: right;\n",
              "    }\n",
              "</style>\n",
              "<table border=\"1\" class=\"dataframe\">\n",
              "  <thead>\n",
              "    <tr style=\"text-align: right;\">\n",
              "      <th></th>\n",
              "      <th>Unnamed: 0</th>\n",
              "      <th>id</th>\n",
              "      <th>teacher_id</th>\n",
              "      <th>teacher_prefix</th>\n",
              "      <th>school_state</th>\n",
              "      <th>Date</th>\n",
              "      <th>project_grade_category</th>\n",
              "      <th>project_subject_categories</th>\n",
              "      <th>project_subject_subcategories</th>\n",
              "      <th>project_title</th>\n",
              "      <th>project_essay_1</th>\n",
              "      <th>project_essay_2</th>\n",
              "      <th>project_essay_3</th>\n",
              "      <th>project_essay_4</th>\n",
              "      <th>project_resource_summary</th>\n",
              "      <th>teacher_number_of_previously_posted_projects</th>\n",
              "      <th>project_is_approved</th>\n",
              "    </tr>\n",
              "  </thead>\n",
              "  <tbody>\n",
              "    <tr>\n",
              "      <th>55660</th>\n",
              "      <td>8393</td>\n",
              "      <td>p205479</td>\n",
              "      <td>2bf07ba08945e5d8b2a3f269b2b3cfe5</td>\n",
              "      <td>Mrs.</td>\n",
              "      <td>CA</td>\n",
              "      <td>2016-04-27 00:27:36</td>\n",
              "      <td>Grades PreK-2</td>\n",
              "      <td>Math &amp; Science</td>\n",
              "      <td>Applied Sciences, Health &amp; Life Science</td>\n",
              "      <td>Engineering STEAM into the Primary Classroom</td>\n",
              "      <td>I have been fortunate enough to use the Fairy ...</td>\n",
              "      <td>My students come from a variety of backgrounds...</td>\n",
              "      <td>Each month I try to do several science or STEM...</td>\n",
              "      <td>It is challenging to develop high quality scie...</td>\n",
              "      <td>My students need STEM kits to learn critical s...</td>\n",
              "      <td>53</td>\n",
              "      <td>1</td>\n",
              "    </tr>\n",
              "    <tr>\n",
              "      <th>76127</th>\n",
              "      <td>37728</td>\n",
              "      <td>p043609</td>\n",
              "      <td>3f60494c61921b3b43ab61bdde2904df</td>\n",
              "      <td>Ms.</td>\n",
              "      <td>UT</td>\n",
              "      <td>2016-04-27 00:31:25</td>\n",
              "      <td>Grades 3-5</td>\n",
              "      <td>Special Needs</td>\n",
              "      <td>Special Needs</td>\n",
              "      <td>Sensory Tools for Focus</td>\n",
              "      <td>Imagine being 8-9 years old. You're in your th...</td>\n",
              "      <td>Most of my students have autism, anxiety, anot...</td>\n",
              "      <td>It is tough to do more than one thing at a tim...</td>\n",
              "      <td>When my students are able to calm themselves d...</td>\n",
              "      <td>My students need Boogie Boards for quiet senso...</td>\n",
              "      <td>4</td>\n",
              "      <td>1</td>\n",
              "    </tr>\n",
              "  </tbody>\n",
              "</table>\n",
              "</div>"
            ],
            "text/plain": [
              "       Unnamed: 0  ... project_is_approved\n",
              "55660        8393  ...                   1\n",
              "76127       37728  ...                   1\n",
              "\n",
              "[2 rows x 17 columns]"
            ]
          },
          "metadata": {
            "tags": []
          },
          "execution_count": 6
        }
      ]
    },
    {
      "cell_type": "code",
      "metadata": {
        "id": "CkcK03p4wQcn",
        "colab_type": "code",
        "outputId": "ff4a2be4-9f7d-498b-f693-7b792bd10314",
        "colab": {
          "base_uri": "https://localhost:8080/"
        }
      },
      "source": [
        "print(\"Number of data points in train data\", resource_data.shape)\n",
        "print(resource_data.columns.values)\n",
        "resource_data.head(2)"
      ],
      "execution_count": 0,
      "outputs": [
        {
          "output_type": "stream",
          "text": [
            "Number of data points in train data (1541272, 4)\n",
            "['id' 'description' 'quantity' 'price']\n"
          ],
          "name": "stdout"
        },
        {
          "output_type": "execute_result",
          "data": {
            "text/html": [
              "<div>\n",
              "<style scoped>\n",
              "    .dataframe tbody tr th:only-of-type {\n",
              "        vertical-align: middle;\n",
              "    }\n",
              "\n",
              "    .dataframe tbody tr th {\n",
              "        vertical-align: top;\n",
              "    }\n",
              "\n",
              "    .dataframe thead th {\n",
              "        text-align: right;\n",
              "    }\n",
              "</style>\n",
              "<table border=\"1\" class=\"dataframe\">\n",
              "  <thead>\n",
              "    <tr style=\"text-align: right;\">\n",
              "      <th></th>\n",
              "      <th>id</th>\n",
              "      <th>description</th>\n",
              "      <th>quantity</th>\n",
              "      <th>price</th>\n",
              "    </tr>\n",
              "  </thead>\n",
              "  <tbody>\n",
              "    <tr>\n",
              "      <th>0</th>\n",
              "      <td>p233245</td>\n",
              "      <td>LC652 - Lakeshore Double-Space Mobile Drying Rack</td>\n",
              "      <td>1</td>\n",
              "      <td>149.00</td>\n",
              "    </tr>\n",
              "    <tr>\n",
              "      <th>1</th>\n",
              "      <td>p069063</td>\n",
              "      <td>Bouncy Bands for Desks (Blue support pipes)</td>\n",
              "      <td>3</td>\n",
              "      <td>14.95</td>\n",
              "    </tr>\n",
              "  </tbody>\n",
              "</table>\n",
              "</div>"
            ],
            "text/plain": [
              "        id                                        description  quantity   price\n",
              "0  p233245  LC652 - Lakeshore Double-Space Mobile Drying Rack         1  149.00\n",
              "1  p069063        Bouncy Bands for Desks (Blue support pipes)         3   14.95"
            ]
          },
          "metadata": {
            "tags": []
          },
          "execution_count": 7
        }
      ]
    },
    {
      "cell_type": "markdown",
      "metadata": {
        "colab_type": "text",
        "id": "6WZaYhwJCymp"
      },
      "source": [
        "## 1.2 preprocessing of `project_subject_categories`"
      ]
    },
    {
      "cell_type": "code",
      "metadata": {
        "id": "Q-X-kdflwSFn",
        "colab_type": "code",
        "colab": {}
      },
      "source": [
        "catogories = list(project_data['project_subject_categories'].values)\n",
        "# remove special characters from list of strings python: https://stackoverflow.com/a/47301924/4084039\n",
        "\n",
        "# https://www.geeksforgeeks.org/removing-stop-words-nltk-python/\n",
        "# https://stackoverflow.com/questions/23669024/how-to-strip-a-specific-word-from-a-string\n",
        "# https://stackoverflow.com/questions/8270092/remove-all-whitespace-in-a-string-in-python\n",
        "cat_list = []\n",
        "for i in catogories:\n",
        "    temp = \"\"\n",
        "    # consider we have text like this \"Math & Science, Warmth, Care & Hunger\"\n",
        "    for j in i.split(','): # it will split it in three parts [\"Math & Science\", \"Warmth\", \"Care & Hunger\"]\n",
        "        if 'The' in j.split(): # this will split each of the catogory based on space \"Math & Science\"=> \"Math\",\"&\", \"Science\"\n",
        "            j=j.replace('The','') # if we have the words \"The\" we are going to replace it with ''(i.e removing 'The')\n",
        "        j = j.replace(' ','') # we are placeing all the ' '(space) with ''(empty) ex:\"Math & Science\"=>\"Math&Science\"\n",
        "        temp+=j.strip()+\" \" #\" abc \".strip() will return \"abc\", remove the trailing spaces\n",
        "        temp = temp.replace('&','_') # we are replacing the & value into \n",
        "    cat_list.append(temp.strip())\n",
        "    \n",
        "project_data['clean_categories'] = cat_list\n",
        "project_data.drop(['project_subject_categories'], axis=1, inplace=True)\n",
        "\n",
        "from collections import Counter\n",
        "my_counter = Counter()\n",
        "for word in project_data['clean_categories'].values:\n",
        "    my_counter.update(word.split())\n",
        "\n",
        "cat_dict = dict(my_counter)\n",
        "sorted_cat_dict = dict(sorted(cat_dict.items(), key=lambda kv: kv[1]))\n"
      ],
      "execution_count": 0,
      "outputs": []
    },
    {
      "cell_type": "markdown",
      "metadata": {
        "colab_type": "text",
        "id": "386yx3T2Cymv"
      },
      "source": [
        "## 1.3 preprocessing of `project_subject_subcategories`"
      ]
    },
    {
      "cell_type": "code",
      "metadata": {
        "id": "zgiLaQpUwVcH",
        "colab_type": "code",
        "colab": {}
      },
      "source": [
        "sub_catogories = list(project_data['project_subject_subcategories'].values)\n",
        "# remove special characters from list of strings python: https://stackoverflow.com/a/47301924/4084039\n",
        "\n",
        "# https://www.geeksforgeeks.org/removing-stop-words-nltk-python/\n",
        "# https://stackoverflow.com/questions/23669024/how-to-strip-a-specific-word-from-a-string\n",
        "# https://stackoverflow.com/questions/8270092/remove-all-whitespace-in-a-string-in-python\n",
        "\n",
        "sub_cat_list = []\n",
        "for i in sub_catogories:\n",
        "    temp = \"\"\n",
        "    # consider we have text like this \"Math & Science, Warmth, Care & Hunger\"\n",
        "    for j in i.split(','): # it will split it in three parts [\"Math & Science\", \"Warmth\", \"Care & Hunger\"]\n",
        "        if 'The' in j.split(): # this will split each of the catogory based on space \"Math & Science\"=> \"Math\",\"&\", \"Science\"\n",
        "            j=j.replace('The','') # if we have the words \"The\" we are going to replace it with ''(i.e removing 'The')\n",
        "        j = j.replace(' ','') # we are placeing all the ' '(space) with ''(empty) ex:\"Math & Science\"=>\"Math&Science\"\n",
        "        temp +=j.strip()+\" \"#\" abc \".strip() will return \"abc\", remove the trailing spaces\n",
        "        temp = temp.replace('&','_')\n",
        "    sub_cat_list.append(temp.strip())\n",
        "\n",
        "project_data['clean_subcategories'] = sub_cat_list\n",
        "project_data.drop(['project_subject_subcategories'], axis=1, inplace=True)\n",
        "\n",
        "# count of all the words in corpus python: https://stackoverflow.com/a/22898595/4084039\n",
        "my_counter = Counter()\n",
        "for word in project_data['clean_subcategories'].values:\n",
        "    my_counter.update(word.split())\n",
        "    \n",
        "sub_cat_dict = dict(my_counter)\n",
        "sorted_sub_cat_dict = dict(sorted(sub_cat_dict.items(), key=lambda kv: kv[1]))"
      ],
      "execution_count": 0,
      "outputs": []
    },
    {
      "cell_type": "markdown",
      "metadata": {
        "colab_type": "text",
        "id": "NANzhWlLCynN"
      },
      "source": [
        "## 1.3 Text preprocessing"
      ]
    },
    {
      "cell_type": "code",
      "metadata": {
        "id": "mUX-0z-DwYYX",
        "colab_type": "code",
        "colab": {}
      },
      "source": [
        "# merge two column text dataframe: \n",
        "project_data[\"essay\"] = project_data[\"project_essay_1\"].map(str) +\\\n",
        "                        project_data[\"project_essay_2\"].map(str) + \\\n",
        "                        project_data[\"project_essay_3\"].map(str) + \\\n",
        "                        project_data[\"project_essay_4\"].map(str)"
      ],
      "execution_count": 0,
      "outputs": []
    },
    {
      "cell_type": "code",
      "metadata": {
        "id": "EcScXat7wc3n",
        "colab_type": "code",
        "outputId": "51b22936-9e73-4ba1-cf99-c754080cfb53",
        "colab": {
          "base_uri": "https://localhost:8080/",
          "height": 335
        }
      },
      "source": [
        "project_data.head(2)"
      ],
      "execution_count": 0,
      "outputs": [
        {
          "output_type": "execute_result",
          "data": {
            "text/html": [
              "<div>\n",
              "<style scoped>\n",
              "    .dataframe tbody tr th:only-of-type {\n",
              "        vertical-align: middle;\n",
              "    }\n",
              "\n",
              "    .dataframe tbody tr th {\n",
              "        vertical-align: top;\n",
              "    }\n",
              "\n",
              "    .dataframe thead th {\n",
              "        text-align: right;\n",
              "    }\n",
              "</style>\n",
              "<table border=\"1\" class=\"dataframe\">\n",
              "  <thead>\n",
              "    <tr style=\"text-align: right;\">\n",
              "      <th></th>\n",
              "      <th>Unnamed: 0</th>\n",
              "      <th>id</th>\n",
              "      <th>teacher_id</th>\n",
              "      <th>teacher_prefix</th>\n",
              "      <th>school_state</th>\n",
              "      <th>Date</th>\n",
              "      <th>project_grade_category</th>\n",
              "      <th>project_title</th>\n",
              "      <th>project_essay_1</th>\n",
              "      <th>project_essay_2</th>\n",
              "      <th>project_essay_3</th>\n",
              "      <th>project_essay_4</th>\n",
              "      <th>project_resource_summary</th>\n",
              "      <th>teacher_number_of_previously_posted_projects</th>\n",
              "      <th>project_is_approved</th>\n",
              "      <th>clean_categories</th>\n",
              "      <th>clean_subcategories</th>\n",
              "      <th>essay</th>\n",
              "    </tr>\n",
              "  </thead>\n",
              "  <tbody>\n",
              "    <tr>\n",
              "      <th>55660</th>\n",
              "      <td>8393</td>\n",
              "      <td>p205479</td>\n",
              "      <td>2bf07ba08945e5d8b2a3f269b2b3cfe5</td>\n",
              "      <td>Mrs.</td>\n",
              "      <td>CA</td>\n",
              "      <td>2016-04-27 00:27:36</td>\n",
              "      <td>Grades PreK-2</td>\n",
              "      <td>Engineering STEAM into the Primary Classroom</td>\n",
              "      <td>I have been fortunate enough to use the Fairy ...</td>\n",
              "      <td>My students come from a variety of backgrounds...</td>\n",
              "      <td>Each month I try to do several science or STEM...</td>\n",
              "      <td>It is challenging to develop high quality scie...</td>\n",
              "      <td>My students need STEM kits to learn critical s...</td>\n",
              "      <td>53</td>\n",
              "      <td>1</td>\n",
              "      <td>Math_Science</td>\n",
              "      <td>AppliedSciences Health_LifeScience</td>\n",
              "      <td>I have been fortunate enough to use the Fairy ...</td>\n",
              "    </tr>\n",
              "    <tr>\n",
              "      <th>76127</th>\n",
              "      <td>37728</td>\n",
              "      <td>p043609</td>\n",
              "      <td>3f60494c61921b3b43ab61bdde2904df</td>\n",
              "      <td>Ms.</td>\n",
              "      <td>UT</td>\n",
              "      <td>2016-04-27 00:31:25</td>\n",
              "      <td>Grades 3-5</td>\n",
              "      <td>Sensory Tools for Focus</td>\n",
              "      <td>Imagine being 8-9 years old. You're in your th...</td>\n",
              "      <td>Most of my students have autism, anxiety, anot...</td>\n",
              "      <td>It is tough to do more than one thing at a tim...</td>\n",
              "      <td>When my students are able to calm themselves d...</td>\n",
              "      <td>My students need Boogie Boards for quiet senso...</td>\n",
              "      <td>4</td>\n",
              "      <td>1</td>\n",
              "      <td>SpecialNeeds</td>\n",
              "      <td>SpecialNeeds</td>\n",
              "      <td>Imagine being 8-9 years old. You're in your th...</td>\n",
              "    </tr>\n",
              "  </tbody>\n",
              "</table>\n",
              "</div>"
            ],
            "text/plain": [
              "       Unnamed: 0  ...                                              essay\n",
              "55660        8393  ...  I have been fortunate enough to use the Fairy ...\n",
              "76127       37728  ...  Imagine being 8-9 years old. You're in your th...\n",
              "\n",
              "[2 rows x 18 columns]"
            ]
          },
          "metadata": {
            "tags": []
          },
          "execution_count": 11
        }
      ]
    },
    {
      "cell_type": "markdown",
      "metadata": {
        "id": "yvyMW73WwgAw",
        "colab_type": "text"
      },
      "source": [
        "#### 1.4.2.3 Using Pretrained Models: TFIDF weighted W2V"
      ]
    },
    {
      "cell_type": "code",
      "metadata": {
        "id": "v2GN2nvlweUH",
        "colab_type": "code",
        "outputId": "143e8922-8442-4219-b833-492239734fa8",
        "colab": {
          "base_uri": "https://localhost:8080/",
          "height": 210
        }
      },
      "source": [
        "# printing some random reviews\n",
        "print(project_data['essay'].values[0])\n",
        "print(\"=\"*50)\n",
        "print(project_data['essay'].values[150])\n",
        "print(\"=\"*50)\n",
        "print(project_data['essay'].values[1000])\n",
        "print(\"=\"*50)\n",
        "print(project_data['essay'].values[20000])\n",
        "print(\"=\"*50)\n",
        "print(project_data['essay'].values[99999])\n",
        "print(\"=\"*50)"
      ],
      "execution_count": 0,
      "outputs": [
        {
          "output_type": "stream",
          "text": [
            "I have been fortunate enough to use the Fairy Tale STEM kits in my classroom as well as the STEM journals, which my students really enjoyed.  I would love to implement more of the Lakeshore STEM kits in my classroom for the next school year as they provide excellent and engaging STEM lessons.My students come from a variety of backgrounds, including language and socioeconomic status.  Many of them don't have a lot of experience in science and engineering and these kits give me the materials to provide these exciting opportunities for my students.Each month I try to do several science or STEM/STEAM projects.  I would use the kits and robot to help guide my science instruction in engaging and meaningful ways.  I can adapt the kits to my current language arts pacing guide where we already teach some of the material in the kits like tall tales (Paul Bunyan) or Johnny Appleseed.  The following units will be taught in the next school year where I will implement these kits: magnets, motion, sink vs. float, robots.  I often get to these units and don't know If I am teaching the right way or using the right materials.    The kits will give me additional ideas, strategies, and lessons to prepare my students in science.It is challenging to develop high quality science activities.  These kits give me the materials I need to provide my students with science activities that will go along with the curriculum in my classroom.  Although I have some things (like magnets) in my classroom, I don't know how to use them effectively.  The kits will provide me with the right amount of materials and show me how to use them in an appropriate way.\n",
            "==================================================\n",
            "I teach high school English to students with learning and behavioral disabilities. My students all vary in their ability level. However, the ultimate goal is to increase all students literacy levels. This includes their reading, writing, and communication levels.I teach a really dynamic group of students. However, my students face a lot of challenges. My students all live in poverty and in a dangerous neighborhood. Despite these challenges, I have students who have the the desire to defeat these challenges. My students all have learning disabilities and currently all are performing below grade level. My students are visual learners and will benefit from a classroom that fulfills their preferred learning style.The materials I am requesting will allow my students to be prepared for the classroom with the necessary supplies.  Too often I am challenged with students who come to school unprepared for class due to economic challenges.  I want my students to be able to focus on learning and not how they will be able to get school supplies.  The supplies will last all year.  Students will be able to complete written assignments and maintain a classroom journal.  The chart paper will be used to make learning more visual in class and to create posters to aid students in their learning.  The students have access to a classroom printer.  The toner will be used to print student work that is completed on the classroom Chromebooks.I want to try and remove all barriers for the students learning and create opportunities for learning. One of the biggest barriers is the students not having the resources to get pens, paper, and folders. My students will be able to increase their literacy skills because of this project.\n",
            "==================================================\n",
            "\\\"Life moves pretty fast. If you don't stop and look around once in awhile, you could miss it.\\\"  from the movie, Ferris Bueller's Day Off.  Think back...what do you remember about your grandparents?  How amazing would it be to be able to flip through a book to see a day in their lives?My second graders are voracious readers! They love to read both fiction and nonfiction books.  Their favorite characters include Pete the Cat, Fly Guy, Piggie and Elephant, and Mercy Watson. They also love to read about insects, space and plants. My students are hungry bookworms! My students are eager to learn and read about the world around them. My kids love to be at school and are like little sponges absorbing everything around them. Their parents work long hours and usually do not see their children. My students are usually cared for by their grandparents or a family friend. Most of my students do not have someone who speaks English at home. Thus it is difficult for my students to acquire language.Now think forward... wouldn't it mean a lot to your kids, nieces or nephews or grandchildren, to be able to see a day in your life today 30 years from now? Memories are so precious to us and being able to share these memories with future generations will be a rewarding experience.  As part of our social studies curriculum, students will be learning about changes over time.  Students will be studying photos to learn about how their community has changed over time.  In particular, we will look at photos to study how the land, buildings, clothing, and schools have changed over time.  As a culminating activity, my students will capture a slice of their history and preserve it through scrap booking. Key important events in their young lives will be documented with the date, location, and names.   Students will be using photos from home and from school to create their second grade memories.   Their scrap books will preserve their unique stories for future generations to enjoy.Your donation to this project will provide my second graders with an opportunity to learn about social studies in a fun and creative manner.  Through their scrapbooks, children will share their story with others and have a historical document for the rest of their lives.\n",
            "==================================================\n",
            "\\\"A person's a person, no matter how small.\\\" (Dr.Seuss) I teach the smallest students with the biggest enthusiasm for learning. My students learn in many different ways using all of our senses and multiple intelligences. I use a wide range of techniques to help all my students succeed. \\r\\nStudents in my class come from a variety of different backgrounds which makes for wonderful sharing of experiences and cultures, including Native Americans.\\r\\nOur school is a caring community of successful learners which can be seen through collaborative student project based learning in and out of the classroom. Kindergarteners in my class love to work with hands-on materials and have many different opportunities to practice a skill before it is mastered. Having the social skills to work cooperatively with friends is a crucial aspect of the kindergarten curriculum.Montana is the perfect place to learn about agriculture and nutrition. My students love to role play in our pretend kitchen in the early childhood classroom. I have had several kids ask me, \\\"Can we try cooking with REAL food?\\\" I will take their idea and create \\\"Common Core Cooking Lessons\\\" where we learn important math and writing concepts while cooking delicious healthy food for snack time. My students will have a grounded appreciation for the work that went into making the food and knowledge of where the ingredients came from as well as how it's healthy for their bodies. This project would expand our learning of nutrition and agricultural cooking recipes by having us peel our own apples to make homemade applesauce, make our own bread, and mix up healthy plants from our classroom garden in the spring. We will also create our own cookbooks to be printed and shared with families. \\r\\nStudents will gain math and literature skills as well as a life long enjoyment for healthy cooking.nannan\n",
            "==================================================\n",
            "My classroom consists of twenty-two amazing sixth graders from different cultures and backgrounds. They are a social bunch who enjoy working in partners and working with groups. They are hard-working and eager to head to middle school next year. My job is to get them ready to make this transition and make it as smooth as possible. In order to do this, my students need to come to school every day and feel safe and ready to learn. Because they are getting ready to head to middle school, I give them lots of choice- choice on where to sit and work, the order to complete assignments, choice of projects, etc. Part of the students feeling safe is the ability for them to come into a welcoming, encouraging environment. My room is colorful and the atmosphere is casual. I want them to take ownership of the classroom because we ALL share it together. Because my time with them is limited, I want to ensure they get the most of this time and enjoy it to the best of their abilities.Currently, we have twenty-two desks of differing sizes, yet the desks are similar to the ones the students will use in middle school. We also have a kidney table with crates for seating. I allow my students to choose their own spots while they are working independently or in groups. More often than not, most of them move out of their desks and onto the crates. Believe it or not, this has proven to be more successful than making them stay at their desks! It is because of this that I am looking toward the “Flexible Seating” option for my classroom.\\r\\n The students look forward to their work time so they can move around the room. I would like to get rid of the constricting desks and move toward more “fun” seating options. I am requesting various seating so my students have more options to sit. Currently, I have a stool and a papasan chair I inherited from the previous sixth-grade teacher as well as five milk crate seats I made, but I would like to give them more options and reduce the competition for the “good seats”. I am also requesting two rugs as not only more seating options but to make the classroom more welcoming and appealing. In order for my students to be able to write and complete work without desks, I am requesting a class set of clipboards. Finally, due to curriculum that requires groups to work together, I am requesting tables that we can fold up when we are not using them to leave more room for our flexible seating options.\\r\\nI know that with more seating options, they will be that much more excited about coming to school! Thank you for your support in making my classroom one students will remember forever!nannan\n",
            "==================================================\n"
          ],
          "name": "stdout"
        }
      ]
    },
    {
      "cell_type": "code",
      "metadata": {
        "id": "EmATgIPTwiH3",
        "colab_type": "code",
        "colab": {}
      },
      "source": [
        "# https://stackoverflow.com/a/47091490/4084039\n",
        "import re\n",
        "\n",
        "def decontracted(phrase):\n",
        "    # specific\n",
        "    phrase = re.sub(r\"won't\", \"will not\", phrase)\n",
        "    phrase = re.sub(r\"can\\'t\", \"can not\", phrase)\n",
        "\n",
        "    # general\n",
        "    phrase = re.sub(r\"n\\'t\", \" not\", phrase)\n",
        "    phrase = re.sub(r\"\\'re\", \" are\", phrase)\n",
        "    phrase = re.sub(r\"\\'s\", \" is\", phrase)\n",
        "    phrase = re.sub(r\"\\'d\", \" would\", phrase)\n",
        "    phrase = re.sub(r\"\\'ll\", \" will\", phrase)\n",
        "    phrase = re.sub(r\"\\'t\", \" not\", phrase)\n",
        "    phrase = re.sub(r\"\\'ve\", \" have\", phrase)\n",
        "    phrase = re.sub(r\"\\'m\", \" am\", phrase)\n",
        "    return phrase"
      ],
      "execution_count": 0,
      "outputs": []
    },
    {
      "cell_type": "code",
      "metadata": {
        "id": "TflvfK7TwkL2",
        "colab_type": "code",
        "outputId": "7b8f5e5d-ccf2-4d7f-e96b-978ec8949eb4",
        "colab": {
          "base_uri": "https://localhost:8080/",
          "height": 72
        }
      },
      "source": [
        "sent = decontracted(project_data['essay'].values[20000])\n",
        "print(sent)\n",
        "print(\"=\"*50)"
      ],
      "execution_count": 0,
      "outputs": [
        {
          "output_type": "stream",
          "text": [
            "\\\"A person is a person, no matter how small.\\\" (Dr.Seuss) I teach the smallest students with the biggest enthusiasm for learning. My students learn in many different ways using all of our senses and multiple intelligences. I use a wide range of techniques to help all my students succeed. \\r\\nStudents in my class come from a variety of different backgrounds which makes for wonderful sharing of experiences and cultures, including Native Americans.\\r\\nOur school is a caring community of successful learners which can be seen through collaborative student project based learning in and out of the classroom. Kindergarteners in my class love to work with hands-on materials and have many different opportunities to practice a skill before it is mastered. Having the social skills to work cooperatively with friends is a crucial aspect of the kindergarten curriculum.Montana is the perfect place to learn about agriculture and nutrition. My students love to role play in our pretend kitchen in the early childhood classroom. I have had several kids ask me, \\\"Can we try cooking with REAL food?\\\" I will take their idea and create \\\"Common Core Cooking Lessons\\\" where we learn important math and writing concepts while cooking delicious healthy food for snack time. My students will have a grounded appreciation for the work that went into making the food and knowledge of where the ingredients came from as well as how it is healthy for their bodies. This project would expand our learning of nutrition and agricultural cooking recipes by having us peel our own apples to make homemade applesauce, make our own bread, and mix up healthy plants from our classroom garden in the spring. We will also create our own cookbooks to be printed and shared with families. \\r\\nStudents will gain math and literature skills as well as a life long enjoyment for healthy cooking.nannan\n",
            "==================================================\n"
          ],
          "name": "stdout"
        }
      ]
    },
    {
      "cell_type": "code",
      "metadata": {
        "id": "kWeyk8W0wls3",
        "colab_type": "code",
        "outputId": "8242ab6d-94c5-495c-f119-d8f1457a656b",
        "colab": {
          "base_uri": "https://localhost:8080/",
          "height": 54
        }
      },
      "source": [
        "# \\r \\n \\t remove from string python: http://texthandler.com/info/remove-line-breaks-python/\n",
        "sent = sent.replace('\\\\r', ' ')\n",
        "sent = sent.replace('\\\\\"', ' ')\n",
        "sent = sent.replace('\\\\n', ' ')\n",
        "print(sent)"
      ],
      "execution_count": 0,
      "outputs": [
        {
          "output_type": "stream",
          "text": [
            " A person is a person, no matter how small.  (Dr.Seuss) I teach the smallest students with the biggest enthusiasm for learning. My students learn in many different ways using all of our senses and multiple intelligences. I use a wide range of techniques to help all my students succeed.   Students in my class come from a variety of different backgrounds which makes for wonderful sharing of experiences and cultures, including Native Americans.  Our school is a caring community of successful learners which can be seen through collaborative student project based learning in and out of the classroom. Kindergarteners in my class love to work with hands-on materials and have many different opportunities to practice a skill before it is mastered. Having the social skills to work cooperatively with friends is a crucial aspect of the kindergarten curriculum.Montana is the perfect place to learn about agriculture and nutrition. My students love to role play in our pretend kitchen in the early childhood classroom. I have had several kids ask me,  Can we try cooking with REAL food?  I will take their idea and create  Common Core Cooking Lessons  where we learn important math and writing concepts while cooking delicious healthy food for snack time. My students will have a grounded appreciation for the work that went into making the food and knowledge of where the ingredients came from as well as how it is healthy for their bodies. This project would expand our learning of nutrition and agricultural cooking recipes by having us peel our own apples to make homemade applesauce, make our own bread, and mix up healthy plants from our classroom garden in the spring. We will also create our own cookbooks to be printed and shared with families.   Students will gain math and literature skills as well as a life long enjoyment for healthy cooking.nannan\n"
          ],
          "name": "stdout"
        }
      ]
    },
    {
      "cell_type": "code",
      "metadata": {
        "id": "CJqFdoV6wnF3",
        "colab_type": "code",
        "outputId": "8efc5ce7-8197-45ef-9844-0fca3d15cc6f",
        "colab": {
          "base_uri": "https://localhost:8080/",
          "height": 54
        }
      },
      "source": [
        "#remove spacial character: https://stackoverflow.com/a/5843547/4084039\n",
        "sent = re.sub('[^A-Za-z0-9]+', ' ', sent)\n",
        "print(sent)"
      ],
      "execution_count": 0,
      "outputs": [
        {
          "output_type": "stream",
          "text": [
            " A person is a person no matter how small Dr Seuss I teach the smallest students with the biggest enthusiasm for learning My students learn in many different ways using all of our senses and multiple intelligences I use a wide range of techniques to help all my students succeed Students in my class come from a variety of different backgrounds which makes for wonderful sharing of experiences and cultures including Native Americans Our school is a caring community of successful learners which can be seen through collaborative student project based learning in and out of the classroom Kindergarteners in my class love to work with hands on materials and have many different opportunities to practice a skill before it is mastered Having the social skills to work cooperatively with friends is a crucial aspect of the kindergarten curriculum Montana is the perfect place to learn about agriculture and nutrition My students love to role play in our pretend kitchen in the early childhood classroom I have had several kids ask me Can we try cooking with REAL food I will take their idea and create Common Core Cooking Lessons where we learn important math and writing concepts while cooking delicious healthy food for snack time My students will have a grounded appreciation for the work that went into making the food and knowledge of where the ingredients came from as well as how it is healthy for their bodies This project would expand our learning of nutrition and agricultural cooking recipes by having us peel our own apples to make homemade applesauce make our own bread and mix up healthy plants from our classroom garden in the spring We will also create our own cookbooks to be printed and shared with families Students will gain math and literature skills as well as a life long enjoyment for healthy cooking nannan\n"
          ],
          "name": "stdout"
        }
      ]
    },
    {
      "cell_type": "code",
      "metadata": {
        "id": "OS6XP0bswod3",
        "colab_type": "code",
        "colab": {}
      },
      "source": [
        "# https://gist.github.com/sebleier/554280\n",
        "# we are removing the words from the stop words list: 'no', 'nor', 'not'\n",
        "stopwords= ['i', 'me', 'my', 'myself', 'we', 'our', 'ours', 'ourselves', 'you', \"you're\", \"you've\",\\\n",
        "            \"you'll\", \"you'd\", 'your', 'yours', 'yourself', 'yourselves', 'he', 'him', 'his', 'himself', \\\n",
        "            'she', \"she's\", 'her', 'hers', 'herself', 'it', \"it's\", 'its', 'itself', 'they', 'them', 'their',\\\n",
        "            'theirs', 'themselves', 'what', 'which', 'who', 'whom', 'this', 'that', \"that'll\", 'these', 'those', \\\n",
        "            'am', 'is', 'are', 'was', 'were', 'be', 'been', 'being', 'have', 'has', 'had', 'having', 'do', 'does', \\\n",
        "            'did', 'doing', 'a', 'an', 'the', 'and', 'but', 'if', 'or', 'because', 'as', 'until', 'while', 'of', \\\n",
        "            'at', 'by', 'for', 'with', 'about', 'against', 'between', 'into', 'through', 'during', 'before', 'after',\\\n",
        "            'above', 'below', 'to', 'from', 'up', 'down', 'in', 'out', 'on', 'off', 'over', 'under', 'again', 'further',\\\n",
        "            'then', 'once', 'here', 'there', 'when', 'where', 'why', 'how', 'all', 'any', 'both', 'each', 'few', 'more',\\\n",
        "            'most', 'other', 'some', 'such', 'only', 'own', 'same', 'so', 'than', 'too', 'very', \\\n",
        "            's', 't', 'can', 'will', 'just', 'don', \"don't\", 'should', \"should've\", 'now', 'd', 'll', 'm', 'o', 're', \\\n",
        "            've', 'y', 'ain', 'aren', \"aren't\", 'couldn', \"couldn't\", 'didn', \"didn't\", 'doesn', \"doesn't\", 'hadn',\\\n",
        "            \"hadn't\", 'hasn', \"hasn't\", 'haven', \"haven't\", 'isn', \"isn't\", 'ma', 'mightn', \"mightn't\", 'mustn',\\\n",
        "            \"mustn't\", 'needn', \"needn't\", 'shan', \"shan't\", 'shouldn', \"shouldn't\", 'wasn', \"wasn't\", 'weren', \"weren't\", \\\n",
        "            'won', \"won't\", 'wouldn', \"wouldn't\"]"
      ],
      "execution_count": 0,
      "outputs": []
    },
    {
      "cell_type": "code",
      "metadata": {
        "id": "AGFrcj0wwp33",
        "colab_type": "code",
        "outputId": "2965c89b-3338-481b-818a-343d577b6e56",
        "colab": {
          "base_uri": "https://localhost:8080/",
          "height": 34
        }
      },
      "source": [
        "# Combining all the above stundents \n",
        "from tqdm import tqdm\n",
        "preprocessed_essays = []\n",
        "# tqdm is for printing the status bar\n",
        "for sentance in tqdm(project_data['essay'].values):\n",
        "    sent = decontracted(sentance)\n",
        "    sent = sent.replace('\\\\r', ' ')\n",
        "    sent = sent.replace('\\\\\"', ' ')\n",
        "    sent = sent.replace('\\\\n', ' ')\n",
        "    sent = re.sub('[^A-Za-z0-9]+', ' ', sent)\n",
        "    # https://gist.github.com/sebleier/554280\n",
        "    sent = ' '.join(e for e in sent.split() if e.lower() not in stopwords)\n",
        "    preprocessed_essays.append(sent.lower().strip())"
      ],
      "execution_count": 0,
      "outputs": [
        {
          "output_type": "stream",
          "text": [
            "100%|██████████| 109248/109248 [00:54<00:00, 2002.42it/s]\n"
          ],
          "name": "stderr"
        }
      ]
    },
    {
      "cell_type": "code",
      "metadata": {
        "id": "hRljcwJewrXG",
        "colab_type": "code",
        "colab": {}
      },
      "source": [
        "preprocessed_essay_count= pd.DataFrame(preprocessed_essays)\n",
        "project_data['essay_count'] = preprocessed_essay_count[0].str.count(' ')"
      ],
      "execution_count": 0,
      "outputs": []
    },
    {
      "cell_type": "code",
      "metadata": {
        "id": "wKXMxZvNws6G",
        "colab_type": "code",
        "colab": {}
      },
      "source": [
        "def preprocessing(x,y):\n",
        "    from tqdm import tqdm\n",
        "    import math\n",
        "    from collections import Counter\n",
        "    preprocessed_essays = []\n",
        "    my_count = Counter()\n",
        "    a=[]\n",
        "    # tqdm is for printing the status bar\n",
        "    for sentance in tqdm(x[y].values):\n",
        "        if sentance!=0:\n",
        "            sent = decontracted(sentance)\n",
        "            sent = sent.replace('\\\\r', ' ')\n",
        "            sent = sent.replace('\\\\\"', ' ')\n",
        "            sent = sent.replace('\\\\n', ' ')\n",
        "            sent = re.sub('[^A-Za-z0-9]+', ' ', sent)\n",
        "            # https://gist.github.com/sebleier/554280\n",
        "            sent = ' '.join(e for e in sent.split() if e.lower() not in stopwords)\n",
        "            preprocessed_essays.append(sent.lower().strip())\n",
        "        else:\n",
        "            preprocessed_essays.append(0)\n",
        "    return preprocessed_essays"
      ],
      "execution_count": 0,
      "outputs": []
    },
    {
      "cell_type": "code",
      "metadata": {
        "id": "cmci58ZrwuOm",
        "colab_type": "code",
        "outputId": "b7554964-5de6-4543-866d-06e1c4fccfe7",
        "colab": {
          "base_uri": "https://localhost:8080/",
          "height": 34
        }
      },
      "source": [
        "preprocessed_essay1= preprocessing( project_data,\"project_essay_1\")\n",
        "preprocessed_essay1= pd.DataFrame(preprocessed_essay1)"
      ],
      "execution_count": 0,
      "outputs": [
        {
          "output_type": "stream",
          "text": [
            "100%|██████████| 109248/109248 [00:23<00:00, 4603.34it/s]\n"
          ],
          "name": "stderr"
        }
      ]
    },
    {
      "cell_type": "code",
      "metadata": {
        "id": "9XaNj9Ozwvjm",
        "colab_type": "code",
        "outputId": "5798dd52-3531-41f6-ac56-2a761027093a",
        "colab": {
          "base_uri": "https://localhost:8080/",
          "height": 34
        }
      },
      "source": [
        "preprocessed_essay2= preprocessing( project_data,\"project_essay_2\")\n",
        "preprocessed_essay2= pd.DataFrame(preprocessed_essay2)"
      ],
      "execution_count": 0,
      "outputs": [
        {
          "output_type": "stream",
          "text": [
            "100%|██████████| 109248/109248 [00:30<00:00, 3640.81it/s]\n"
          ],
          "name": "stderr"
        }
      ]
    },
    {
      "cell_type": "code",
      "metadata": {
        "id": "hrrq38mCww52",
        "colab_type": "code",
        "outputId": "9b3a5194-ce30-4c1f-8d18-1b3cca8d3da7",
        "colab": {
          "base_uri": "https://localhost:8080/",
          "height": 34
        }
      },
      "source": [
        "project_data[\"project_essay_3\"].fillna(0, inplace=True)\n",
        "\n",
        "preprocessed_essay3= preprocessing( project_data, \"project_essay_3\")\n",
        "preprocessed_essay3= pd.DataFrame(preprocessed_essay3)"
      ],
      "execution_count": 0,
      "outputs": [
        {
          "output_type": "stream",
          "text": [
            "100%|██████████| 109248/109248 [00:00<00:00, 144516.54it/s]\n"
          ],
          "name": "stderr"
        }
      ]
    },
    {
      "cell_type": "code",
      "metadata": {
        "id": "oMrXE8o6wyU2",
        "colab_type": "code",
        "outputId": "1025c614-96ec-4b97-d9ad-909c61190c33",
        "colab": {
          "base_uri": "https://localhost:8080/",
          "height": 34
        }
      },
      "source": [
        "project_data[\"project_essay_4\"].fillna(0, inplace=True)\n",
        "preprocessed_essay4= preprocessing( project_data,\"project_essay_4\")\n",
        "preprocessed_essay4= pd.DataFrame(preprocessed_essay4)"
      ],
      "execution_count": 0,
      "outputs": [
        {
          "output_type": "stream",
          "text": [
            "100%|██████████| 109248/109248 [00:00<00:00, 222726.11it/s]\n"
          ],
          "name": "stderr"
        }
      ]
    },
    {
      "cell_type": "code",
      "metadata": {
        "id": "q8hLx0Fywz73",
        "colab_type": "code",
        "colab": {}
      },
      "source": [
        "project_data['essay1'] = preprocessed_essay1[0].str.count(' ')\n",
        "project_data['essay2'] = preprocessed_essay2[0].str.count(' ')\n",
        "project_data['essay3'] = preprocessed_essay3[0].str.count(' ')\n",
        "project_data['essay4'] = preprocessed_essay4[0].str.count(' ')"
      ],
      "execution_count": 0,
      "outputs": []
    },
    {
      "cell_type": "code",
      "metadata": {
        "id": "RG1quaiiw193",
        "colab_type": "code",
        "outputId": "63668b04-051e-48ea-e45b-82fb3d1825fb",
        "colab": {
          "base_uri": "https://localhost:8080/",
          "height": 54
        }
      },
      "source": [
        "# after preprocesing\n",
        "preprocessed_essays[20000]"
      ],
      "execution_count": 0,
      "outputs": [
        {
          "output_type": "execute_result",
          "data": {
            "text/plain": [
              "'person person no matter small dr seuss teach smallest students biggest enthusiasm learning students learn many different ways using senses multiple intelligences use wide range techniques help students succeed students class come variety different backgrounds makes wonderful sharing experiences cultures including native americans school caring community successful learners seen collaborative student project based learning classroom kindergarteners class love work hands materials many different opportunities practice skill mastered social skills work cooperatively friends crucial aspect kindergarten curriculum montana perfect place learn agriculture nutrition students love role play pretend kitchen early childhood classroom several kids ask try cooking real food take idea create common core cooking lessons learn important math writing concepts cooking delicious healthy food snack time students grounded appreciation work went making food knowledge ingredients came well healthy bodies project would expand learning nutrition agricultural cooking recipes us peel apples make homemade applesauce make bread mix healthy plants classroom garden spring also create cookbooks printed shared families students gain math literature skills well life long enjoyment healthy cooking nannan'"
            ]
          },
          "metadata": {
            "tags": []
          },
          "execution_count": 26
        }
      ]
    },
    {
      "cell_type": "markdown",
      "metadata": {
        "colab_type": "text",
        "id": "QeUw6WMKCyn7"
      },
      "source": [
        "<h2><font color='black'> 1.4 Preprocessing of `project_title`</font></h2>"
      ]
    },
    {
      "cell_type": "code",
      "metadata": {
        "id": "LP6i5GIew5cm",
        "colab_type": "code",
        "outputId": "ea239e23-1ed5-4e76-d116-e9877baf8a6c",
        "colab": {
          "base_uri": "https://localhost:8080/",
          "height": 52
        }
      },
      "source": [
        "# similarly you can preprocess the titles also\n",
        "from tqdm import tqdm\n",
        "preprocessed_titles = []\n",
        "# tqdm is for printing the status bar\n",
        "for sentance in tqdm(project_data['project_title'].values):\n",
        "    sent = decontracted(sentance)\n",
        "    sent = sent.replace('\\\\r', ' ')\n",
        "    sent = sent.replace('\\\\\"', ' ')\n",
        "    sent = sent.replace('\\\\n', ' ')\n",
        "    sent = re.sub('[^A-Za-z0-9]+', ' ', sent)\n",
        "    # https://gist.github.com/sebleier/554280\n",
        "    sent = ' '.join(e for e in sent.split() if e.lower() not in stopwords)\n",
        "    preprocessed_titles.append(sent.lower().strip())\n",
        "preprocessed_titles[2]"
      ],
      "execution_count": 0,
      "outputs": [
        {
          "output_type": "stream",
          "text": [
            "100%|██████████| 109248/109248 [00:02<00:00, 48404.43it/s]\n"
          ],
          "name": "stderr"
        },
        {
          "output_type": "execute_result",
          "data": {
            "text/plain": [
              "'mobile learning mobile listening center'"
            ]
          },
          "metadata": {
            "tags": []
          },
          "execution_count": 27
        }
      ]
    },
    {
      "cell_type": "code",
      "metadata": {
        "id": "ACOSCvlrw_o3",
        "colab_type": "code",
        "colab": {}
      },
      "source": [
        "preprocessed_titlec= pd.DataFrame(preprocessed_titles)\n",
        "project_data['title_count'] = preprocessed_titlec[0].str.count(' ')"
      ],
      "execution_count": 0,
      "outputs": []
    },
    {
      "cell_type": "markdown",
      "metadata": {
        "id": "qySBahT3W6Lu",
        "colab_type": "text"
      },
      "source": [
        "### resource summary"
      ]
    },
    {
      "cell_type": "code",
      "metadata": {
        "id": "D1Aglsk0xBQW",
        "colab_type": "code",
        "outputId": "f2c712be-d98e-4615-820c-8ce5a31e1fba",
        "colab": {
          "base_uri": "https://localhost:8080/",
          "height": 52
        }
      },
      "source": [
        "from tqdm import tqdm\n",
        "preprocessed_summary = []\n",
        "# tqdm is for printing the status bar\n",
        "for sentance in tqdm(project_data['project_resource_summary'].values):\n",
        "    sent = decontracted(sentance)\n",
        "    sent = sent.replace('\\\\r', ' ')\n",
        "    sent = sent.replace('\\\\\"', ' ')\n",
        "    sent = sent.replace('\\\\n', ' ')\n",
        "    sent = re.sub('[^A-Za-z0-9]+', ' ', sent)\n",
        "    # https://gist.github.com/sebleier/554280\n",
        "    sent = ' '.join(e for e in sent.split() if e.lower() not in stopwords)\n",
        "    preprocessed_summary.append(sent.lower().strip())\n",
        "preprocessed_summary[2]"
      ],
      "execution_count": 0,
      "outputs": [
        {
          "output_type": "stream",
          "text": [
            "100%|██████████| 109248/109248 [00:05<00:00, 20212.18it/s]\n"
          ],
          "name": "stderr"
        },
        {
          "output_type": "execute_result",
          "data": {
            "text/plain": [
              "'students need mobile listening center able enhance learning'"
            ]
          },
          "metadata": {
            "tags": []
          },
          "execution_count": 29
        }
      ]
    },
    {
      "cell_type": "markdown",
      "metadata": {
        "colab_type": "text",
        "id": "NQg4ZfFtCyn9"
      },
      "source": [
        "## 1.5 Preparing data for models"
      ]
    },
    {
      "cell_type": "code",
      "metadata": {
        "id": "uYase3Z1xERn",
        "colab_type": "code",
        "outputId": "4aa789c7-6582-4cf6-8df8-d9bc33ab0195",
        "colab": {
          "base_uri": "https://localhost:8080/",
          "height": 155
        }
      },
      "source": [
        "project_data.columns"
      ],
      "execution_count": 0,
      "outputs": [
        {
          "output_type": "execute_result",
          "data": {
            "text/plain": [
              "Index(['Unnamed: 0', 'id', 'teacher_id', 'teacher_prefix', 'school_state',\n",
              "       'Date', 'project_grade_category', 'project_title', 'project_essay_1',\n",
              "       'project_essay_2', 'project_essay_3', 'project_essay_4',\n",
              "       'project_resource_summary',\n",
              "       'teacher_number_of_previously_posted_projects', 'project_is_approved',\n",
              "       'clean_categories', 'clean_subcategories', 'essay', 'essay_count',\n",
              "       'essay1', 'essay2', 'essay3', 'essay4', 'title_count'],\n",
              "      dtype='object')"
            ]
          },
          "metadata": {
            "tags": []
          },
          "execution_count": 30
        }
      ]
    },
    {
      "cell_type": "markdown",
      "metadata": {
        "colab_type": "text",
        "id": "6FDsc1epCyoD"
      },
      "source": [
        "we are going to consider\n",
        "\n",
        "       - school_state : categorical data\n",
        "       - clean_categories : categorical data\n",
        "       - clean_subcategories : categorical data\n",
        "       - project_grade_category : categorical data\n",
        "       - teacher_prefix : categorical data\n",
        "       \n",
        "       - project_title : text data\n",
        "       - text : text data\n",
        "       - project_resource_summary: text data (optinal)\n",
        "       \n",
        "       - quantity : numerical (optinal)\n",
        "       - teacher_number_of_previously_posted_projects : numerical\n",
        "       - price : numerical"
      ]
    },
    {
      "cell_type": "markdown",
      "metadata": {
        "colab_type": "text",
        "id": "0d0QeeQ-CyoD"
      },
      "source": [
        "### 1.5.1 Vectorizing Categorical data"
      ]
    },
    {
      "cell_type": "markdown",
      "metadata": {
        "colab_type": "text",
        "id": "YHwGesZUCyo1"
      },
      "source": [
        "#### 1.5.2.3 Using Pretrained Models: Avg W2V"
      ]
    },
    {
      "cell_type": "code",
      "metadata": {
        "id": "V27wC_VCxHVV",
        "colab_type": "code",
        "colab": {}
      },
      "source": [
        "# stronging variables into pickle files python: http://www.jessicayung.com/how-to-use-pickle-to-save-and-load-variables-in-python/\n",
        "# make sure you have the glove_vectors file\n",
        "with open('/content/drive/My Drive/6_Donors_choose_NB/glove_vectors', 'rb') as f:\n",
        "    model = pickle.load(f)\n",
        "    glove_words =  set(model.keys())"
      ],
      "execution_count": 0,
      "outputs": []
    },
    {
      "cell_type": "markdown",
      "metadata": {
        "colab_type": "text",
        "id": "6Em6Kb2-CypR"
      },
      "source": [
        "### 1.5.3 Vectorizing Numerical features"
      ]
    },
    {
      "cell_type": "code",
      "metadata": {
        "id": "-EXV8wyQxRtW",
        "colab_type": "code",
        "colab": {}
      },
      "source": [
        "price_data = resource_data.groupby('id').agg({'price':'sum', 'quantity':'sum'}).reset_index()\n",
        "project_data = pd.merge(project_data, price_data, on='id', how='left')"
      ],
      "execution_count": 0,
      "outputs": []
    },
    {
      "cell_type": "code",
      "metadata": {
        "id": "EIb88Gt8xVm2",
        "colab_type": "code",
        "outputId": "a73abd25-d7e7-4287-d97f-8cdfe8671ae5",
        "colab": {
          "base_uri": "https://localhost:8080/",
          "height": 34
        }
      },
      "source": [
        "# check this one: https://www.youtube.com/watch?v=0HOqOcln3Z4&t=530s\n",
        "# standardization sklearn: https://scikit-learn.org/stable/modules/generated/sklearn.preprocessing.StandardScaler.html\n",
        "from sklearn.preprocessing import StandardScaler\n",
        "\n",
        "# price_standardized = standardScalar.fit(project_data['price'].values)\n",
        "# this will rise the error\n",
        "# ValueError: Expected 2D array, got 1D array instead: array=[725.05 213.03 329.   ... 399.   287.73   5.5 ].\n",
        "# Reshape your data either using array.reshape(-1, 1)\n",
        "\n",
        "price_scalar = StandardScaler()\n",
        "price_scalar.fit(project_data['price'].values.reshape(-1,1)) # finding the mean and standard deviation of this data\n",
        "print(f\"Mean : {price_scalar.mean_[0]}, Standard deviation : {np.sqrt(price_scalar.var_[0])}\")\n",
        "\n",
        "# Now standardize the data with above maen and variance.\n",
        "price_standardized = price_scalar.transform(project_data['price'].values.reshape(-1, 1))"
      ],
      "execution_count": 0,
      "outputs": [
        {
          "output_type": "stream",
          "text": [
            "Mean : 298.1193425966608, Standard deviation : 367.49634838483496\n"
          ],
          "name": "stdout"
        }
      ]
    },
    {
      "cell_type": "markdown",
      "metadata": {
        "colab_type": "text",
        "id": "u7svGNyWCypl"
      },
      "source": [
        "<h1>2. Logistic Regression"
      ]
    },
    {
      "cell_type": "markdown",
      "metadata": {
        "colab_type": "text",
        "id": "W6fBRNBMCypl"
      },
      "source": [
        "<h2>2.1 Splitting data into Train and cross validation(or test): Stratified Sampling</h2>"
      ]
    },
    {
      "cell_type": "code",
      "metadata": {
        "id": "L-tWce32xX0V",
        "colab_type": "code",
        "outputId": "fe117373-7de5-40fd-e0e0-59b252456c96",
        "colab": {
          "base_uri": "https://localhost:8080/",
          "height": 328
        }
      },
      "source": [
        "#prepare a dataframe  \n",
        "print(project_data.columns)\n",
        "#print(project_data[\"Date\"].head(10))\n",
        "#must inlcude categories,subcategories, preprocessed essay,preprocessed title,state,grade and prefix\n",
        "print(\"=\"*70)\n",
        "important_data= project_data[['teacher_number_of_previously_posted_projects','teacher_prefix', 'school_state','Date', 'project_grade_category','project_is_approved','clean_categories', 'clean_subcategories','price']].copy()\n",
        "#include preprocessed titles,essays\n",
        "#important_data = important_data.sort_values(by = \"Date\")\n",
        "#print(important_data[\"Date\"].head(10))\n",
        "important_data[\"teacher_prefix\"].fillna(\"None\", inplace = True)\n",
        "important_data[\"processed_essays\"]= preprocessed_essays\n",
        "important_data[\"processed_titles\"]= preprocessed_titles\n",
        "important_data[\"processed_summary\"]=preprocessed_summary\n",
        "important_data['title_count']= project_data['title_count']\n",
        "important_data[\"essay_count\"]= project_data['essay_count']\n",
        "important_data[\"essay1\"]= project_data['essay1']\n",
        "important_data[\"essay2\"]= project_data['essay2']\n",
        "important_data[\"essay3\"]= project_data['essay3']\n",
        "important_data[\"essay4\"]= project_data['essay4']\n",
        "important_data[\"essay3\"].fillna(0, inplace=True)\n",
        "important_data[\"essay4\"].fillna(0, inplace=True)\n",
        "\n",
        "\n",
        "print(important_data.columns)\n",
        "print(\"=\"*70)\n",
        "print(\"shape of new data is: \",important_data.shape)\n",
        "#important_data.project_is_approved = important_data.project_is_approved.map({0.0: -1, 1.0: 1})\n"
      ],
      "execution_count": 0,
      "outputs": [
        {
          "output_type": "stream",
          "text": [
            "Index(['Unnamed: 0', 'id', 'teacher_id', 'teacher_prefix', 'school_state',\n",
            "       'Date', 'project_grade_category', 'project_title', 'project_essay_1',\n",
            "       'project_essay_2', 'project_essay_3', 'project_essay_4',\n",
            "       'project_resource_summary',\n",
            "       'teacher_number_of_previously_posted_projects', 'project_is_approved',\n",
            "       'clean_categories', 'clean_subcategories', 'essay', 'essay_count',\n",
            "       'essay1', 'essay2', 'essay3', 'essay4', 'title_count', 'price',\n",
            "       'quantity'],\n",
            "      dtype='object')\n",
            "======================================================================\n",
            "Index(['teacher_number_of_previously_posted_projects', 'teacher_prefix',\n",
            "       'school_state', 'Date', 'project_grade_category', 'project_is_approved',\n",
            "       'clean_categories', 'clean_subcategories', 'price', 'processed_essays',\n",
            "       'processed_titles', 'processed_summary', 'title_count', 'essay_count',\n",
            "       'essay1', 'essay2', 'essay3', 'essay4'],\n",
            "      dtype='object')\n",
            "======================================================================\n",
            "shape of new data is:  (109248, 18)\n"
          ],
          "name": "stdout"
        }
      ]
    },
    {
      "cell_type": "code",
      "metadata": {
        "id": "qODrRxBEyCH2",
        "colab_type": "code",
        "colab": {}
      },
      "source": [
        "#splitting data into train test and cv\n",
        "#https://stackoverflow.com/questions/24147278/how-do-i-create-test-and-train-samples-from-one-dataframe-with-pandas\n",
        "from sklearn.model_selection import train_test_split\n",
        "train_data1, data_test= train_test_split(important_data, test_size=0.2, random_state=0)#splitting data into train and test\n",
        "data_train, data_cv= train_test_split(train_data1, test_size= 0.25, random_state=0)\n",
        "Y_train= data_train[\"project_is_approved\"].values.reshape(-1,1)\n",
        "Y_test=  data_test[\"project_is_approved\"].values.reshape(-1,1)\n",
        "Y_cv=  data_cv[\"project_is_approved\"].values.reshape(-1,1)\n"
      ],
      "execution_count": 0,
      "outputs": []
    },
    {
      "cell_type": "code",
      "metadata": {
        "id": "6KhEEDU4yH0X",
        "colab_type": "code",
        "outputId": "04c90aa6-4ed6-4672-dd53-1b067f587ca6",
        "colab": {
          "base_uri": "https://localhost:8080/",
          "height": 86
        }
      },
      "source": [
        "print(\"the shape of train data is: \",data_train.shape) \n",
        "print(\"the shape of test data is: \",data_test.shape)\n",
        "print(\"the shape of cv data is: \",data_cv.shape)\n",
        "data_train[\"essay_count\"].shape"
      ],
      "execution_count": 0,
      "outputs": [
        {
          "output_type": "stream",
          "text": [
            "the shape of train data is:  (65548, 18)\n",
            "the shape of test data is:  (21850, 18)\n",
            "the shape of cv data is:  (21850, 18)\n"
          ],
          "name": "stdout"
        },
        {
          "output_type": "execute_result",
          "data": {
            "text/plain": [
              "(65548,)"
            ]
          },
          "metadata": {
            "tags": []
          },
          "execution_count": 36
        }
      ]
    },
    {
      "cell_type": "markdown",
      "metadata": {
        "colab_type": "text",
        "id": "VG7SrQdCCypn"
      },
      "source": [
        "<h2>2.2 Make Data Model Ready: encoding numerical, categorical features, essays and titles</h2>"
      ]
    },
    {
      "cell_type": "code",
      "metadata": {
        "id": "8Tija15tyKDG",
        "colab_type": "code",
        "colab": {}
      },
      "source": [
        "def pre_model(y,x): #subfunction\n",
        "    if y==1:\n",
        "        #project_essay\n",
        "        #avg_w2v\n",
        "        avg_w2v_vectors = []; # the avg-w2v for each sentence/review is stored in this list\n",
        "        for sentence in tqdm(x.processed_essays): # for each review/sentence\n",
        "            vector = np.zeros(300) # as word vectors are of zero length\n",
        "            cnt_words =0; # num of words with a valid vector in the sentence/review\n",
        "            for word in sentence.split(): # for each word in a review/sentence\n",
        "                if word in glove_words:\n",
        "                    vector += model[word]\n",
        "                    cnt_words += 1\n",
        "            if cnt_words != 0:\n",
        "                vector /= cnt_words\n",
        "            avg_w2v_vectors.append(vector)\n",
        "        avg_w2v_vectors_array= np.array(avg_w2v_vectors)\n",
        "        A=avg_w2v_vectors_array\n",
        "        #print(\"The shape of matrix after one hot encoding(AVG-V2V): \",avg_w2v_vectors_array.shape)\n",
        "        #print(\"=\"*50)\n",
        "\n",
        "        #project_title\n",
        "        #avg_w2v\n",
        "        avg_w2vt = []; # the avg-w2v for each sentence/review is stored in this list\n",
        "        for sentence in x.processed_titles: # for each review/sentence\n",
        "            vector = np.zeros(300) # as word vectors are of zero length\n",
        "            cnt_words =0; # num of words with a valid vector in the sentence/review\n",
        "            for word in sentence.split(): # for each word in a review/sentence\n",
        "                if word in glove_words:\n",
        "                    vector += model[word]\n",
        "                    cnt_words += 1\n",
        "            if cnt_words != 0:\n",
        "                vector /= cnt_words\n",
        "            avg_w2vt.append(vector)\n",
        "        avg_w2vt_array= np.array(avg_w2vt)\n",
        "        B=avg_w2vt_array\n",
        "        \n",
        "        #project_summary\n",
        "        #avg_w2v\n",
        "        avg_w2vtc = []; # the avg-w2v for each sentence/review is stored in this list\n",
        "        for sentence in x.processed_summary: # for each review/sentence\n",
        "            vector = np.zeros(300) # as word vectors are of zero length\n",
        "            cnt_words =0; # num of words with a valid vector in the sentence/review\n",
        "            for word in sentence.split(): # for each word in a review/sentence\n",
        "                if word in glove_words:\n",
        "                    vector += model[word]\n",
        "                    cnt_words += 1\n",
        "            if cnt_words != 0:\n",
        "                vector /= cnt_words\n",
        "            avg_w2vtc.append(vector)\n",
        "        avg_w2vt_arrayc= np.array(avg_w2vtc)\n",
        "        C=avg_w2vt_arrayc\n",
        " \n",
        "        return A,B,C\n",
        "    if y==2:\n",
        "        #project_essay\n",
        "        #tfidf_w2v\n",
        "        tfidf_model = TfidfVectorizer()\n",
        "        tfidf_model.fit(x.processed_essays)\n",
        "        # we are converting a dictionary with word as a key, and the idf as a value\n",
        "        dictionary = dict(zip(tfidf_model.get_feature_names(), list(tfidf_model.idf_)))\n",
        "        tfidf_words = set(tfidf_model.get_feature_names())\n",
        "\n",
        "        # compute average word2vec for each review.\n",
        "        tfidf_w2v_vectors = []; # the avg-w2v for each sentence/review is stored in this list\n",
        "        for sentence in tqdm(x.processed_essays): # for each review/sentence\n",
        "            vector = np.zeros(300) # as word vectors are of zero length\n",
        "            tf_idf_weight =0; # num of words with a valid vector in the sentence/review\n",
        "            for word in sentence.split(): # for each word in a review/sentence\n",
        "                if (word in glove_words) and (word in tfidf_words):\n",
        "                    vec = model[word] # getting the vector for each word\n",
        "                    # here we are multiplying idf value(dictionary[word]) and the tf value((sentence.count(word)/len(sentence.split())))\n",
        "                    tf_idf = dictionary[word]*(sentence.count(word)/len(sentence.split())) # getting the tfidf value for each word\n",
        "                    vector += (vec * tf_idf) # calculating tfidf weighted w2v\n",
        "                    tf_idf_weight += tf_idf\n",
        "            if tf_idf_weight != 0:\n",
        "                vector /= tf_idf_weight\n",
        "            tfidf_w2v_vectors.append(vector)\n",
        "        tfidf_w2v_vectors_array= np.array(tfidf_w2v_vectors)\n",
        "        #print(len(tfidf_w2v_vectors[1]))\n",
        "        A= tfidf_w2v_vectors_array \n",
        "        #print(\"The shape of matrix after one hot encoding(TFIDF-W2V): \",tfidf_w2v_vectors_array.shape)\n",
        "\n",
        "        #project_title\n",
        "        #tfidf_w2v\n",
        "        tfidf_models = TfidfVectorizer()\n",
        "        tfidf_models.fit(x.processed_titles)\n",
        "        # we are converting a dictionary with word as a key, and the idf as a value\n",
        "        dictionary = dict(zip(tfidf_models.get_feature_names(), list(tfidf_models.idf_)))\n",
        "        tfidf_word = set(tfidf_models.get_feature_names())\n",
        "\n",
        "        # compute average word2vec for each review.\n",
        "        tfidf_w2vt = []; # the avg-w2v for each sentence/review is stored in this list\n",
        "        for sentence in x.processed_titles: # for each review/sentence\n",
        "            vector = np.zeros(300) # as word vectors are of zero length\n",
        "            tf_idf_weight =0; # num of words with a valid vector in the sentence/review\n",
        "            for word in sentence.split(): # for each word in a review/sentence\n",
        "                if (word in glove_words) and (word in tfidf_word):\n",
        "                    vec = model[word] # getting the vector for each word\n",
        "                    # here we are multiplying idf value(dictionary[word]) and the tf value((sentence.count(word)/len(sentence.split())))\n",
        "                    tf_idf = dictionary[word]*(sentence.count(word)/len(sentence.split())) # getting the tfidf value for each word\n",
        "                    vector += (vec * tf_idf) # calculating tfidf weighted w2v\n",
        "                    tf_idf_weight += tf_idf\n",
        "            if tf_idf_weight != 0:\n",
        "                vector /= tf_idf_weight\n",
        "            tfidf_w2vt.append(vector)\n",
        "        #print(len(tfidf_w2vt[1]))    \n",
        "        tfidf_w2vt_array= np.array(tfidf_w2vt)\n",
        "        B=tfidf_w2vt_array\n",
        "        \n",
        "        #summary\n",
        "        tfidf_w2vtc = []; # the avg-w2v for each sentence/review is stored in this list\n",
        "        for sentence in x.processed_summary: # for each review/sentence\n",
        "            vector = np.zeros(300) # as word vectors are of zero length\n",
        "            tf_idf_weight =0; # num of words with a valid vector in the sentence/review\n",
        "            for word in sentence.split(): # for each word in a review/sentence\n",
        "                if (word in glove_words) and (word in tfidf_word):\n",
        "                    vec = model[word] # getting the vector for each word\n",
        "                    # here we are multiplying idf value(dictionary[word]) and the tf value((sentence.count(word)/len(sentence.split())))\n",
        "                    tf_idf = dictionary[word]*(sentence.count(word)/len(sentence.split())) # getting the tfidf value for each word\n",
        "                    vector += (vec * tf_idf) # calculating tfidf weighted w2v\n",
        "                    tf_idf_weight += tf_idf\n",
        "            if tf_idf_weight != 0:\n",
        "                vector /= tf_idf_weight\n",
        "            tfidf_w2vtc.append(vector)\n",
        "        #print(len(tfidf_w2vt[1]))    \n",
        "        tfidf_w2vt_arrayc= np.array(tfidf_w2vtc)\n",
        "        C=tfidf_w2vt_array\n",
        "        \n",
        "        return A,B,C  "
      ],
      "execution_count": 0,
      "outputs": []
    },
    {
      "cell_type": "code",
      "metadata": {
        "id": "IB_P5_P7yNXn",
        "colab_type": "code",
        "colab": {}
      },
      "source": [
        "def data_modelling(y,x,z,u):#function for vectorizing numerical,categorical data along with essays and titles\n",
        "    %matplotlib inline\n",
        "    import warnings\n",
        "    warnings.filterwarnings(\"ignore\")\n",
        "\n",
        "    import sqlite3\n",
        "    import pandas as pd\n",
        "    import numpy as np\n",
        "    import nltk\n",
        "    import string\n",
        "    import matplotlib.pyplot as plt\n",
        "    import seaborn as sns\n",
        "    from sklearn.feature_extraction.text import TfidfTransformer\n",
        "    from sklearn.feature_extraction.text import TfidfVectorizer\n",
        "\n",
        "    from sklearn.feature_extraction.text import CountVectorizer\n",
        "    from sklearn.metrics import confusion_matrix\n",
        "    from sklearn import metrics\n",
        "    from sklearn.metrics import roc_curve, auc\n",
        "    from nltk.stem.porter import PorterStemmer\n",
        "\n",
        "    import re\n",
        "    # Tutorial about Python regular expressions: https://pymotw.com/2/re/\n",
        "    import string\n",
        "    from nltk.corpus import stopwords\n",
        "    from nltk.stem import PorterStemmer\n",
        "    from nltk.stem.wordnet import WordNetLemmatizer\n",
        "\n",
        "    from gensim.models import Word2Vec\n",
        "    from gensim.models import KeyedVectors\n",
        "    import pickle\n",
        "\n",
        "    from tqdm import tqdm\n",
        "    import os\n",
        "\n",
        "    import chart_studio.plotly as py\n",
        "    import plotly.graph_objs as go\n",
        "    from collections import Counter\n",
        "    \n",
        "    #state encoding\n",
        "    from collections import Counter\n",
        "    my_count = Counter()\n",
        "    for wor in x['school_state'].values:\n",
        "        my_count.update(wor.split())\n",
        "    cat_dicti = dict(my_count)\n",
        "    #print(my_count)\n",
        "    sorted_cat_dicti = dict(sorted(cat_dicti.items(), key=lambda kv: kv[1]))\n",
        "\n",
        "    vectorize = CountVectorizer(vocabulary=list(sorted_cat_dicti.keys()), lowercase=False, binary=True)\n",
        "    vectorize.fit(x['school_state'].values)\n",
        "    a1= vectorize.get_feature_names()\n",
        "\n",
        "    categories_state = vectorize.transform(x['school_state'].values)\n",
        "    categories_state1 = vectorize.transform(z['school_state'].values)\n",
        "    categories_state2 = vectorize.transform(u['school_state'].values)\n",
        "    #print(\"Shape of matrix after one hot encodig \",categories_state.shape)\n",
        "    #print(\"=\"*50)\n",
        "    ##############\n",
        "\n",
        "    #teacher_prefix encoding\n",
        "    from tqdm import tqdm\n",
        "    import string\n",
        "    \n",
        "    #https://www.geeksforgeeks.org/python-pandas-dataframe-fillna-to-replace-null-values-in-dataframe/\n",
        "    my_coun = Counter()\n",
        "    for wo in x.teacher_prefix.values:\n",
        "        my_coun.update(wo.split())\n",
        "    cat_dictio = dict(my_coun)\n",
        "    sorted_cat_dictio = dict(sorted(cat_dictio.items(), key=lambda kv: kv[1]))\n",
        "\n",
        "    vectoriz = CountVectorizer(vocabulary=list(sorted_cat_dictio.keys()), lowercase=False, binary=True)\n",
        "    vectoriz.fit(x['teacher_prefix'].values)\n",
        "    a2= vectoriz.get_feature_names()#print(vectoriz.get_feature_names())\n",
        "    categories_prefix = vectoriz.transform(x['teacher_prefix'].values)\n",
        "    categories_prefix1 = vectoriz.transform(z['teacher_prefix'].values)\n",
        "    categories_prefix2 = vectoriz.transform(u['teacher_prefix'].values)\n",
        "    #print(\"Shape of matrix after one hot encoding \",categories_prefix.shape)\n",
        "    #print(\"=\"*50)\n",
        "\n",
        "\n",
        "    #project grade category\n",
        "    my_count = Counter()\n",
        "    for w in x['project_grade_category'].values:\n",
        "        my_count.update(w.split(\",\"))\n",
        "    cat_dic = dict(my_count)\n",
        "    sorted_cat_dic = dict(sorted(cat_dic.items(), key=lambda kv: kv[1]))\n",
        "\n",
        "    vector = CountVectorizer(vocabulary=list(sorted_cat_dic.keys()), lowercase=False, binary=True)\n",
        "    vector.fit(x['project_grade_category'].values)\n",
        "    a3= vector.get_feature_names()\n",
        "    categories_grade= vector.transform(x['project_grade_category'].values)\n",
        "    categories_grade1= vector.transform(z['project_grade_category'].values)\n",
        "    categories_grade2= vector.transform(u['project_grade_category'].values)\n",
        "    #print(\"Shape of matrix after one hot encoding \",categories_grade.shape)\n",
        "    #print(\"=\"*50)\n",
        "\n",
        "\n",
        "    #categories_encoding\n",
        "    from collections import Counter\n",
        "    my_counter = Counter()\n",
        "    for word in x['clean_categories'].values:\n",
        "        my_counter.update(word.split())\n",
        "\n",
        "    cat_dict = dict(my_counter)\n",
        "    sorted_cat_dict = dict(sorted(cat_dict.items(), key=lambda kv: kv[1]))\n",
        "    from sklearn.feature_extraction.text import CountVectorizer\n",
        "    vectorizer = CountVectorizer(vocabulary=list(sorted_cat_dict.keys()), lowercase=False, binary=True)\n",
        "    categories_one_hot= vectorizer.fit_transform(x['clean_categories'].values)\n",
        "    categories_one_hot1= vectorizer.fit_transform(z['clean_categories'].values)\n",
        "    categories_one_hot2= vectorizer.fit_transform(u['clean_categories'].values)\n",
        "    a4= vectorizer.get_feature_names()\n",
        "    #print(\"Shape of matrix after one hot encoding \",categories_one_hot.shape)\n",
        "    #print(\"=\"*50)\n",
        "\n",
        "\n",
        "    #sub_categories_encoding\n",
        "    my_counter = Counter()\n",
        "    for word in x['clean_subcategories'].values:\n",
        "        my_counter.update(word.split())    \n",
        "    sub_cat_dict = dict(my_counter)\n",
        "    sorted_sub_cat_dict = dict(sorted(sub_cat_dict.items(), key=lambda kv: kv[1]))\n",
        "\n",
        "    vectorizer = CountVectorizer(vocabulary=list(sorted_sub_cat_dict.keys()), lowercase=False, binary=True)\n",
        "    sub_categories_one_hot = vectorizer.fit_transform(x['clean_subcategories'].values)\n",
        "    sub_categories_one_hot1 = vectorizer.fit_transform(z['clean_subcategories'].values)\n",
        "    sub_categories_one_hot2 = vectorizer.fit_transform(u['clean_subcategories'].values)\n",
        "    a5= vectorizer.get_feature_names()\n",
        "    #rint(\"Shape of matrix after one hot encoding \",sub_categories_one_hot.shape)\n",
        "    #print(\"=\"*50)\n",
        "\n",
        "    #price_standardization\n",
        "    from sklearn.preprocessing import StandardScaler\n",
        "\n",
        "    # price_standardized = standardScalar.fit(project_data['price'].values)\n",
        "    # this will rise the error\n",
        "    # ValueError: Expected 2D array, got 1D array instead: array=[725.05 213.03 329.   ... 399.   287.73   5.5 ].\n",
        "    # Reshape your data either using array.reshape(-1, 1)\n",
        "\n",
        "    price_scalar = StandardScaler()\n",
        "    price_scalar.fit(x['price'].values.reshape(-1,1)) # finding the mean and standard deviation of this data\n",
        "    price_standardized= price_scalar.transform(x['price'].values.reshape(-1, 1))\n",
        "    price_standardized1= price_scalar.transform(z['price'].values.reshape(-1, 1))\n",
        "    price_standardized2= price_scalar.transform(u['price'].values.reshape(-1, 1))\n",
        "    #print(\"the shape of matrix for price is: \", price_standardized.shape)\n",
        "    #print(\"=\"*50)\n",
        "    a6= [\"price\"]\n",
        "    #number_of_previously_posted_projects\n",
        "    from sklearn.preprocessing import StandardScaler\n",
        "    project_scalar = StandardScaler()\n",
        "    project_scalar.fit(x['teacher_number_of_previously_posted_projects'].values.reshape(-1,1)) # finding the mean and standard deviation of this data\n",
        "    project_standardized= project_scalar.transform(x['teacher_number_of_previously_posted_projects'].values.reshape(-1, 1))\n",
        "    project_standardized1= project_scalar.transform(z['teacher_number_of_previously_posted_projects'].values.reshape(-1, 1))\n",
        "    project_standardized2= project_scalar.transform(u['teacher_number_of_previously_posted_projects'].values.reshape(-1, 1))\n",
        "    a7= [\"number_of_projects\"]\n",
        "    #print(\"the shape of matrix for price is: \", price_standardized.shape)\n",
        "    #print(\"=\"*50)\n",
        "    from scipy.sparse import hstack\n",
        "    if y==0:\n",
        "        from sklearn.preprocessing import StandardScaler\n",
        "        #print(\"x1\",X1_model.shape)\n",
        "        from scipy.sparse import hstack\n",
        "        X_model= hstack((x['teacher_number_of_previously_posted_projects'].values.reshape(-1, 1),categories_prefix,categories_state,categories_grade,categories_one_hot,sub_categories_one_hot,x['price'].values.reshape(-1, 1),x[\"essay_count\"].values.reshape(-1, 1),x[\"essay1\"].values.reshape(-1, 1),x[\"essay2\"].values.reshape(-1, 1),x[\"essay3\"].values.reshape(-1, 1),x[\"essay4\"].values.reshape(-1, 1),x[\"title_count\"].values.reshape(-1, 1)))\n",
        "        Y_model= hstack((z['teacher_number_of_previously_posted_projects'].values.reshape(-1, 1),categories_prefix1,categories_state1,categories_grade1,categories_one_hot1,sub_categories_one_hot1,z['price'].values.reshape(-1, 1),z[\"essay_count\"].values.reshape(-1, 1),z[\"essay1\"].values.reshape(-1, 1),z[\"essay2\"].values.reshape(-1, 1),z[\"essay3\"].values.reshape(-1, 1),z[\"essay4\"].values.reshape(-1, 1),z[\"title_count\"].values.reshape(-1, 1)))\n",
        "        Z_model= hstack((u['teacher_number_of_previously_posted_projects'].values.reshape(-1, 1),categories_prefix2,categories_state2,categories_grade2,categories_one_hot2,sub_categories_one_hot2,u['price'].values.reshape(-1, 1),u[\"essay_count\"].values.reshape(-1, 1),u[\"essay1\"].values.reshape(-1, 1),u[\"essay2\"].values.reshape(-1, 1),u[\"essay3\"].values.reshape(-1, 1),u[\"essay4\"].values.reshape(-1, 1),u[\"title_count\"].values.reshape(-1, 1)))\n",
        "        \n",
        "        #print(\"x model\", X_model.shape)\n",
        "        X_model= X_model.tocsr()\n",
        "        Y_model= Y_model.tocsr()\n",
        "        Z_model= Z_model.tocsr()\n",
        "        #afinal= a7+a2+a1+a3+a4+a5+a6+a8+a10+a9\n",
        "        #X_model= X_model[:, :-2]\n",
        "        #print(X_model.shape)\n",
        "        return X_model,Y_model,Z_model\n",
        "    if y==1:\n",
        "        #project_essay \n",
        "        #bow\n",
        "        vectorizer = CountVectorizer(min_df=10, ngram_range=(1, 2), max_features=5000)\n",
        "        vectorizer.fit(x.processed_essays)\n",
        "        a8= vectorizer.get_feature_names()\n",
        "        text_bow= vectorizer.transform(x.processed_essays)\n",
        "        print(\"The shape of essay words after applying BOW: \",text_bow.shape)\n",
        "        A= text_bow\n",
        "        #print(\"Shape of matrix after one hot encoding(BOW): \",text_bow.shape)\n",
        "        #print(\"=\"*50)\n",
        "        ###########\n",
        "        #summary\n",
        "        vectorizerc = CountVectorizer(min_df=10)\n",
        "        vectorizerc.fit(x.processed_summary)\n",
        "        a9= vectorizerc.get_feature_names()\n",
        "        resource_bow= vectorizerc.transform(x.processed_summary)\n",
        "        A1= resource_bow\n",
        "        #project_title\n",
        "        #bow\n",
        "        vectorizers = CountVectorizer(min_df=10)\n",
        "        vectorizers.fit(x.processed_titles)\n",
        "        a10= vectorizers.get_feature_names()\n",
        "        text_bowt= vectorizers.transform(x.processed_titles)\n",
        "        B= text_bowt\n",
        "        #print(B.shape)\n",
        "        from scipy.sparse import hstack\n",
        "        D=vectorizer.transform(z.processed_essays)\n",
        "        A2= vectorizerc.transform(z.processed_summary)\n",
        "        #print(D.shape)\n",
        "        E=vectorizers.transform(z.processed_titles)\n",
        "        #print(E.shape)\n",
        "        #a_b= z  \n",
        "        F=vectorizer.transform(u.processed_essays)\n",
        "        G=vectorizers.transform(u.processed_titles)\n",
        "        A3= vectorizerc.transform(u.processed_summary)\n",
        "    \n",
        "        print(\"All the features are encoded successfully and BOW is used! \")\n",
        "        #print(\"=\"*50)\n",
        "    if y==2:\n",
        "        #project_essay\n",
        "        #tfidf\n",
        "        vectorizer = TfidfVectorizer(min_df=10, ngram_range=(1, 2), max_features=5000)\n",
        "        vectorizer.fit(x.processed_essays)\n",
        "        a8= vectorizer.get_feature_names()\n",
        "        text_tfidf= vectorizer.transform(x.processed_essays)\n",
        "        print(\"The shape of essay words after applying BOW: \",text_tfidf.shape)\n",
        "        A= text_tfidf\n",
        "        \n",
        "        #print(\"Shape of matrix after one hot encoding(BOW): \",text_bow.shape)\n",
        "        #print(\"=\"*50)\n",
        "        #review\n",
        "        vectorizerc = TfidfVectorizer(min_df=5)\n",
        "        vectorizerc.fit(x.processed_summary)\n",
        "        a10= vectorizerc.get_feature_names()\n",
        "        A1= vectorizerc.transform(x.processed_summary)\n",
        "        A2= vectorizerc.transform(z.processed_summary)\n",
        "        A3= vectorizerc.transform(u.processed_summary)\n",
        "        \n",
        "        \n",
        "        #project_title\n",
        "        vectorizers = TfidfVectorizer(min_df=5)\n",
        "        vectorizers.fit(x.processed_titles)\n",
        "        a9= vectorizers.get_feature_names()\n",
        "        text_tfidft= vectorizers.transform(x.processed_titles)\n",
        "        B= text_tfidft\n",
        "        #print(B.shape)\n",
        "        from scipy.sparse import hstack\n",
        "        D=vectorizer.transform(z.processed_essays)\n",
        "        #print(D.shape)\n",
        "        E=vectorizers.transform(z.processed_titles)   \n",
        "        F=vectorizer.transform(u.processed_essays)\n",
        "        G=vectorizers.transform(u.processed_titles)\n",
        "        print(\"All the features are encoded successfully and TF-IDF is used! \")\n",
        "        #print(\"=\"*50)\n",
        "    if y==3:\n",
        "        A,B,A1= pre_model(1,x)\n",
        "        D,E,A2= pre_model(1,z)\n",
        "        F,G,A3= pre_model(1,u)\n",
        "        print(\"All the features are encoded successfully and AVG-W2V is used! \")\n",
        "    if y==4:\n",
        "        A,B,A1= pre_model(2,x)\n",
        "        D,E,A2= pre_model(2,z)\n",
        "        F,G,A3= pre_model(2,u)\n",
        "\n",
        "        print(\"All the features are encoded successfully and TFIDF-W2V is used! \")\n",
        "    from scipy.sparse import hstack\n",
        "    X_model= hstack((x['teacher_number_of_previously_posted_projects'].values.reshape(-1, 1),categories_prefix,categories_state,categories_grade,categories_one_hot,sub_categories_one_hot,x['price'].values.reshape(-1, 1),A,B,A1))\n",
        "    Y_model= hstack((z['teacher_number_of_previously_posted_projects'].values.reshape(-1, 1),categories_prefix1,categories_state1,categories_grade1,categories_one_hot1,sub_categories_one_hot1,z['price'].values.reshape(-1, 1),D,E,A2))\n",
        "    Z_model= hstack((u['teacher_number_of_previously_posted_projects'].values.reshape(-1, 1),categories_prefix2,categories_state2,categories_grade2,categories_one_hot2,sub_categories_one_hot2,u['price'].values.reshape(-1, 1),F,G,A3))\n",
        "    #print(\"x model\", X_model.shape)\n",
        "    X_model= X_model.tocsr()\n",
        "    Y_model= Y_model.tocsr()\n",
        "    Z_model= Z_model.tocsr()\n",
        "    #afinal= a7+a2+a1+a3+a4+a5+a6+a8+a10+a9\n",
        "    #X_model= X_model[:, :-2]\n",
        "    #print(X_model.shape)\n",
        "    return X_model,Y_model,Z_model\n"
      ],
      "execution_count": 0,
      "outputs": []
    },
    {
      "cell_type": "markdown",
      "metadata": {
        "id": "spZVcEshW6MI",
        "colab_type": "text"
      },
      "source": [
        "<h2>2.4 Appling Logistic Regression on different kind of featurization as mentioned in the instructions</h2>\n",
        "\n",
        "<br>Apply Logistic Regression on different kind of featurization as mentioned in the instructions\n",
        "<br> For Every model that you work on make sure you do the step 2 and step 3 of instrucations"
      ]
    },
    {
      "cell_type": "markdown",
      "metadata": {
        "colab_type": "text",
        "id": "B1dIm8PiCypw"
      },
      "source": [
        "### 2.4.1 Applying Logistic Regression on BOW,<font color='red'> SET 1</font>"
      ]
    },
    {
      "cell_type": "code",
      "metadata": {
        "id": "UaQ9TJHYyPMn",
        "colab_type": "code",
        "outputId": "6e2a642e-eb0f-47cd-a6b4-3644b9b94117",
        "colab": {
          "base_uri": "https://localhost:8080/",
          "height": 104
        }
      },
      "source": [
        "#emcoding data using data modelling function\n",
        "x1_train, x1_test,x1_cv= data_modelling(1,data_train,data_test,data_cv)\n",
        "print(\"The shape of training data after encoding: \",x1_train.shape , \"Y_train: \", Y_train.shape)\n",
        "print(\"The shape of testing data after encoding: \",x1_test.shape , \"Y_test: \", Y_test.shape)\n",
        "print(\"The shape of cross validation data after encoding: \",x1_cv.shape,\"Y_cv: \",Y_cv.shape)"
      ],
      "execution_count": 0,
      "outputs": [
        {
          "output_type": "stream",
          "text": [
            "The shape of essay words after applying BOW:  (65548, 5000)\n",
            "All the features are encoded successfully and BOW is used! \n",
            "The shape of training data after encoding:  (65548, 11985) Y_train:  (65548, 1)\n",
            "The shape of testing data after encoding:  (21850, 11985) Y_test:  (21850, 1)\n",
            "The shape of cross validation data after encoding:  (21850, 11985) Y_cv:  (21850, 1)\n"
          ],
          "name": "stdout"
        }
      ]
    },
    {
      "cell_type": "markdown",
      "metadata": {
        "id": "HX9DPXjiW6MS",
        "colab_type": "text"
      },
      "source": [
        "### Simple Cross validation(Maximum AUC value)"
      ]
    },
    {
      "cell_type": "code",
      "metadata": {
        "id": "xhKhCeb8yUC2",
        "colab_type": "code",
        "outputId": "973dec86-7ff2-4948-d0ce-0f13b3bd70ca",
        "colab": {
          "base_uri": "https://localhost:8080/",
          "height": 312
        }
      },
      "source": [
        "train_auc = []\n",
        "cv_auc = []\n",
        "from sklearn.metrics import roc_curve, auc\n",
        "from sklearn.linear_model import LogisticRegression\n",
        "from sklearn.metrics import roc_auc_score\n",
        "from matplotlib import pylab\n",
        "from tqdm import tqdm\n",
        "import numpy as np\n",
        "rain_auc = []\n",
        "cv_auc = []\n",
        "#k1 = np.arange(0,2,0.0001)\n",
        "k1= [0.00001,0.0001,0.001,0.01,0.02,0.03,0.04,0.05,0.06,0.07,0.08,0.09,0.1,0.2,0.3,0.4,0.5,0.6,0.7,0.8,0.9,1]\n",
        "for i in tqdm(k1):\n",
        "    neigh = LogisticRegression(C=i, class_weight= \"balanced\")\n",
        "    neigh.fit(x1_train, Y_train)\n",
        "    # roc_auc_score(y_true, y_score) the 2nd parameter should be probability estimates of the positive class\n",
        "    # not the predicted outputs\n",
        "    predicted_labels = []\n",
        "    for j in range(0, 65548, 1000):\n",
        "        predicted_labels.extend(neigh.predict_proba(x1_train[j:j+1000])[:,1])\n",
        "    \n",
        "    #print(len(predicted_labels))\n",
        "    predicted_labelss = []\n",
        "    for k in range(0, 21850, 1000):\n",
        "        predicted_labelss.extend(neigh.predict_proba(x1_cv[k:k+1000])[:,1])\n",
        "\n",
        "    #y_train_pred =  neigh.predict_proba(x1_train)[:,1]\n",
        "    #y_cv_pred =  neigh.predict_proba(x1_cv)[:,1]\n",
        "    #print(len(predicted_labelss))\n",
        "\n",
        "    train_auc.append(roc_auc_score(Y_train,predicted_labels))\n",
        "    cv_auc.append(roc_auc_score(Y_cv, predicted_labelss))\n",
        "\n",
        "\n",
        "plt.plot(k1, train_auc, label='Train AUC')\n",
        "pylab.ylim([0,1])\n",
        "\n",
        "plt.plot(k1, cv_auc, label='CV AUC')\n",
        "pylab.ylim([0,1])\n",
        "\n",
        "plt.legend()\n",
        "plt.xlabel(\"K: hyperparameter\")\n",
        "plt.ylabel(\"AUC\")\n",
        "plt.title(\"ERROR PLOTS\")\n",
        "plt.show()"
      ],
      "execution_count": 0,
      "outputs": [
        {
          "output_type": "stream",
          "text": [
            "100%|██████████| 22/22 [01:57<00:00,  5.36s/it]\n"
          ],
          "name": "stderr"
        },
        {
          "output_type": "display_data",
          "data": {
            "image/png": "[encoded data removed]",
            "text/plain": [
              "<Figure size 432x288 with 1 Axes>"
            ]
          },
          "metadata": {
            "tags": []
          }
        }
      ]
    },
    {
      "cell_type": "markdown",
      "metadata": {
        "id": "tFKlyWT2W6MV",
        "colab_type": "text"
      },
      "source": [
        "#### Observations\n",
        "    1. After applying Logistic Regression on BOW model, the model is obtained. Both train and cv seem to be close or a\n",
        "       good C can be very close to zero.\n",
        "    2. Hence, by trail and error we can consider 0.005 as our optimal C.\n",
        "    3. As C value increases, We can say that the model tends to overfit, and as the value of C decreases, the model\n",
        "       underfits.\n",
        "    4. As the data is unbalanced, We used the feature balanced to assign weights for majority and minority class."
      ]
    },
    {
      "cell_type": "markdown",
      "metadata": {
        "id": "xFmdAEnuW6MV",
        "colab_type": "text"
      },
      "source": [
        "### Testing with Test data"
      ]
    },
    {
      "cell_type": "code",
      "metadata": {
        "id": "kV1PlWcRygd3",
        "colab_type": "code",
        "outputId": "fadf9151-94b8-4378-caa9-cbaf110df82d",
        "colab": {
          "base_uri": "https://localhost:8080/",
          "height": 329
        }
      },
      "source": [
        "from sklearn.metrics import roc_curve, auc\n",
        "from sklearn.metrics import roc_auc_score\n",
        "from sklearn.linear_model import LogisticRegression\n",
        "neigh = LogisticRegression(C=0.005, class_weight= \"balanced\")\n",
        "\n",
        "neigh.fit(x1_train, Y_train)\n",
        "# roc_auc_score(y_true, y_score) the 2nd parameter should be probability estimates of the positive class\n",
        "# not the predicted outputs\n",
        "predicted_labels=[]\n",
        "predicted_labelss=[]\n",
        "for j in tqdm(range(0, 65548, 1000)):\n",
        "    predicted_labels.extend(neigh.predict_proba(x1_train[j:j+1000])[:,1])\n",
        "for m in range(0, 21850, 1000):\n",
        "    predicted_labelss.extend(neigh.predict_proba(x1_test[m:m+1000])[:,1])    \n",
        "\n",
        "    \n",
        "train_fpr, train_tpr, threshold = roc_curve(Y_train, predicted_labels)\n",
        "test_fpr, test_tpr, thresholds = roc_curve(Y_test, predicted_labelss)\n",
        "#print(train_fpr[0:150])\n",
        "#print(threshold[0:150])\n",
        "plt.plot(train_fpr, train_tpr, label=\"train AUC =\"+str(np.round(auc(train_fpr, train_tpr),3)))\n",
        "plt.plot(test_fpr, test_tpr, label=\"test AUC =\"+str(np.round(auc(test_fpr, test_tpr),3)))\n",
        "plt.legend()\n",
        "plt.xlabel(\"fpr\")\n",
        "plt.ylabel(\"tpr\")\n",
        "plt.title(\"AUC\")\n",
        "plt.show()\n",
        "\n",
        "print(\"=\"*100)\n",
        "\n",
        "#from sklearn.metrics import confusion_matrix\n",
        "#print(\"Train confusion matrix\")\n",
        "#print(confusion_matrix(y_train, neigh.predict(X_train_bow)))\n",
        "#print(\"Test confusion matrix\")\n",
        "#print(confusion_matrix(y_test, neigh.predict(X_test_bow)))"
      ],
      "execution_count": 0,
      "outputs": [
        {
          "output_type": "stream",
          "text": [
            "100%|██████████| 66/66 [00:00<00:00, 480.68it/s]\n"
          ],
          "name": "stderr"
        },
        {
          "output_type": "display_data",
          "data": {
            "image/png": "[encoded data removed]",
            "text/plain": [
              "<Figure size 432x288 with 1 Axes>"
            ]
          },
          "metadata": {
            "tags": []
          }
        },
        {
          "output_type": "stream",
          "text": [
            "====================================================================================================\n"
          ],
          "name": "stdout"
        }
      ]
    },
    {
      "cell_type": "markdown",
      "metadata": {
        "id": "wJA2QGR2W6MX",
        "colab_type": "text"
      },
      "source": [
        "#### Observations\n",
        "    1. We observe that the area under curve or the Roc plot shows that both train and test have an area of nearly\n",
        "       0.823 and 0.733.\n",
        "    2. After testing with various values of C, such an optimized result has been obtained.\n",
        "    3. As C value increases,the data tends to overfit and as C values decreases,the data tends to underfit.\n",
        "    3. After multiple trials, we find that the AUC is highest for C= 0.005."
      ]
    },
    {
      "cell_type": "markdown",
      "metadata": {
        "id": "GNphrO4eW6MY",
        "colab_type": "text"
      },
      "source": [
        "### Confusion matrix"
      ]
    },
    {
      "cell_type": "code",
      "metadata": {
        "id": "8-SpcgRYzRcX",
        "colab_type": "code",
        "outputId": "5930f62d-30f9-49ea-b6be-d7a713cf0415",
        "colab": {
          "base_uri": "https://localhost:8080/",
          "height": 713
        }
      },
      "source": [
        "from sklearn.metrics import confusion_matrix#https://seaborn.pydata.org/generated/seaborn.heatmap.html\n",
        "import seaborn as sns\n",
        "from sklearn.metrics import roc_curve, auc\n",
        "from sklearn.neighbors import KNeighborsClassifier\n",
        "from sklearn.metrics import roc_auc_score\n",
        "from sklearn.linear_model import LogisticRegression\n",
        "neigh = LogisticRegression(C=0.005, class_weight= \"balanced\")\n",
        "predicted_labels=[]\n",
        "predicted_labelss=[]\n",
        "neigh.fit(x1_train, Y_train)\n",
        "for j in tqdm(range(0, 65548, 1000)):\n",
        "    predicted_labels.extend(neigh.predict(x1_train[j:j+1000]))\n",
        "for m in range(0, 21850, 1000):\n",
        "    predicted_labelss.extend(neigh.predict(x1_test[m:m+1000]))    \n",
        "\n",
        "confusion= confusion_matrix(Y_train, predicted_labels)\n",
        "confusion_test= confusion_matrix(Y_test, predicted_labelss)\n",
        "label= [\"0\",\"1\"]\n",
        "confusion_pd = pd.DataFrame(confusion, index= label, columns= label)\n",
        "confusion_test_pd= pd.DataFrame(confusion_test, index= label, columns= label)\n",
        "\n",
        "plt.figure(figsize=(15,5))\n",
        "plt.subplot(1,2,1)\n",
        "sns.heatmap(confusion_pd, annot= True, fmt= \"d\")\n",
        "plt.xlabel(\"Predicted value\")\n",
        "plt.ylabel(\"Actual label\")\n",
        "plt.title(\"Confusion Matrix for Train data\")\n",
        "plt.subplot(1,2,2)\n",
        "plt.xlabel(\"Predicted value\")\n",
        "plt.ylabel(\"Actual label\")\n",
        "plt.title(\"Confusion Matrix for Test data\")\n",
        "sns.heatmap(confusion_test, annot= True, fmt= \"d\")\n",
        "plt.show()\n",
        "from sklearn.metrics import classification_report\n",
        "print(\"Metrics for Test data\"\"\\n\", classification_report(Y_train, predicted_labels))\n",
        "print(\"Metrics for Train data\"\"\\n\", classification_report(Y_test, predicted_labelss)) \n",
        "#https://scikit-learn.org/stable/modules/generated/sklearn.metrics.classification_report.html"
      ],
      "execution_count": 0,
      "outputs": [
        {
          "output_type": "stream",
          "text": [
            "100%|██████████| 66/66 [00:00<00:00, 520.52it/s]\n"
          ],
          "name": "stderr"
        },
        {
          "output_type": "display_data",
          "data": {
            "image/png": "[encoded data removed]",
            "text/plain": [
              "<Figure size 1080x360 with 4 Axes>"
            ]
          },
          "metadata": {
            "tags": []
          }
        },
        {
          "output_type": "stream",
          "text": [
            "Metrics for Test data\n",
            "               precision    recall  f1-score   support\n",
            "\n",
            "           0       0.27      0.71      0.40      9832\n",
            "           1       0.93      0.67      0.78     55716\n",
            "\n",
            "    accuracy                           0.67     65548\n",
            "   macro avg       0.60      0.69      0.59     65548\n",
            "weighted avg       0.83      0.67      0.72     65548\n",
            "\n",
            "Metrics for Train data\n",
            "               precision    recall  f1-score   support\n",
            "\n",
            "           0       0.27      0.68      0.38      3326\n",
            "           1       0.92      0.66      0.77     18524\n",
            "\n",
            "    accuracy                           0.67     21850\n",
            "   macro avg       0.59      0.67      0.58     21850\n",
            "weighted avg       0.82      0.67      0.71     21850\n",
            "\n"
          ],
          "name": "stdout"
        }
      ]
    },
    {
      "cell_type": "markdown",
      "metadata": {
        "id": "O-uP0afhW6Ma",
        "colab_type": "text"
      },
      "source": [
        "##### Definitions\n",
        "       1.True Postive: A true positive is an outcome where the model correctly predicts the positive class.\n",
        "       2.True Negative: A true negative is an outcome where the model correctly predicts the negative class.\n",
        "       3.False positive: A false positive is an outcome where the model incorrectly predicts the positive class.\n",
        "       4.False negative: A false negative is an outcome where the model incorrectly predicts the negative class.\n",
        "#### Observations\n",
        "        1. We find that the best accuracy of our model on test data is 70% \n",
        "        2. Here Logistic regression performs better than Naive Bayes and KNN.\n",
        "        3. The Recall is 0.64 and 0.70 for positive and negative class respectively\n",
        "        4. We find that false positives and false negatives are significantly less\n",
        "        5. The computation is better than that of KNN"
      ]
    },
    {
      "cell_type": "markdown",
      "metadata": {
        "colab_type": "text",
        "id": "s85gPOAbCyp1"
      },
      "source": [
        "### 2.4.2 Applying Logistic Regression on TFIDF,<font color='red'> SET 2</font>"
      ]
    },
    {
      "cell_type": "code",
      "metadata": {
        "id": "VXrrc96NzXoc",
        "colab_type": "code",
        "outputId": "3f3eab8c-74d3-4813-cc1d-c4f3ad36d6bf",
        "colab": {
          "base_uri": "https://localhost:8080/",
          "height": 104
        }
      },
      "source": [
        "#emcoding data using data modelling function\n",
        "x2_train, x2_test,x2_cv= data_modelling(2,data_train,data_test,data_cv)\n",
        "print(\"The shape of training data after encoding: \",x2_train.shape , \"Y_train: \", Y_train.shape)\n",
        "print(\"The shape of testing data after encoding: \",x2_test.shape , \"Y_test: \", Y_test.shape)\n",
        "print(\"The shape of cross validation data after encoding: \",x2_cv.shape,\"Y_cv: \",Y_cv.shape)"
      ],
      "execution_count": 0,
      "outputs": [
        {
          "output_type": "stream",
          "text": [
            "The shape of essay words after applying BOW:  (65548, 5000)\n",
            "All the features are encoded successfully and TF-IDF is used! \n",
            "The shape of training data after encoding:  (65548, 15305) Y_train:  (65548, 1)\n",
            "The shape of testing data after encoding:  (21850, 15305) Y_test:  (21850, 1)\n",
            "The shape of cross validation data after encoding:  (21850, 15305) Y_cv:  (21850, 1)\n"
          ],
          "name": "stdout"
        }
      ]
    },
    {
      "cell_type": "markdown",
      "metadata": {
        "id": "aHx1O_3Mzf91",
        "colab_type": "text"
      },
      "source": [
        "### Simple Cross Validation"
      ]
    },
    {
      "cell_type": "code",
      "metadata": {
        "id": "qJ5YUUrBzds2",
        "colab_type": "code",
        "outputId": "91a4d674-24e5-45b1-e9e9-5903960c74cb",
        "colab": {
          "base_uri": "https://localhost:8080/",
          "height": 312
        }
      },
      "source": [
        "train_auc = []\n",
        "cv_auc = []\n",
        "from sklearn.metrics import roc_curve, auc\n",
        "from sklearn.linear_model import LogisticRegression\n",
        "from sklearn.metrics import roc_auc_score\n",
        "from matplotlib import pylab\n",
        "from tqdm import tqdm\n",
        "import numpy as np\n",
        "rain_auc = []\n",
        "cv_auc = []\n",
        "#k1 = np.arange(0,2,0.0001)\n",
        "k1= [0.00001,0.0001,0.001,0.01,0.02,0.03,0.04,0.05,0.06,0.07,0.08,0.09,0.1,0.2,0.3,0.4,0.5,0.6,0.7,0.8,0.9,1]\n",
        "for i in tqdm(k1):\n",
        "    neigh = LogisticRegression(C=i, class_weight= \"balanced\")\n",
        "    neigh.fit(x2_train, Y_train)\n",
        "    # roc_auc_score(y_true, y_score) the 2nd parameter should be probability estimates of the positive class\n",
        "    # not the predicted outputs\n",
        "    predicted_labels = []\n",
        "    for j in range(0, 65548, 1000):\n",
        "        predicted_labels.extend(neigh.predict_proba(x2_train[j:j+1000])[:,1])\n",
        "    \n",
        "    #print(len(predicted_labels))\n",
        "    predicted_labelss = []\n",
        "    for k in range(0, 21850, 1000):\n",
        "        predicted_labelss.extend(neigh.predict_proba(x2_cv[k:k+1000])[:,1])\n",
        "\n",
        "    #y_train_pred =  neigh.predict_proba(x1_train)[:,1]\n",
        "    #y_cv_pred =  neigh.predict_proba(x1_cv)[:,1]\n",
        "    #print(len(predicted_labelss))\n",
        "\n",
        "    train_auc.append(roc_auc_score(Y_train,predicted_labels))\n",
        "    cv_auc.append(roc_auc_score(Y_cv, predicted_labelss))\n",
        "\n",
        "\n",
        "plt.plot(k1, train_auc, label='Train AUC')\n",
        "pylab.ylim([0,1])\n",
        "\n",
        "plt.plot(k1, cv_auc, label='CV AUC')\n",
        "pylab.ylim([0,1])\n",
        "\n",
        "plt.legend()\n",
        "plt.xlabel(\"K: hyperparameter\")\n",
        "plt.ylabel(\"AUC\")\n",
        "plt.title(\"ERROR PLOTS\")\n",
        "plt.show()"
      ],
      "execution_count": 0,
      "outputs": [
        {
          "output_type": "stream",
          "text": [
            "100%|██████████| 22/22 [01:52<00:00,  5.13s/it]\n"
          ],
          "name": "stderr"
        },
        {
          "output_type": "display_data",
          "data": {
            "image/png": "[encoded data removed]",
            "text/plain": [
              "<Figure size 432x288 with 1 Axes>"
            ]
          },
          "metadata": {
            "tags": []
          }
        }
      ]
    },
    {
      "cell_type": "markdown",
      "metadata": {
        "id": "h_U7aD5oW6Ml",
        "colab_type": "text"
      },
      "source": [
        "#### Observations\n",
        "    1. After applying Logistic Regression on TF-IDF model, the model is obtained. Both train and cv seem to be close or a\n",
        "       good value of C can be very close to zero.\n",
        "    2. Hence, by trail and error we can consider 0.3 as our optimal C.\n",
        "    3. As C value increases, We can say that the model tends to overfit, and as the value of C decreases, the model \n",
        "       underfits.\n",
        "    4. As the data is unbalanced, We used the feature balanced to assign weights for majority and minority class.\n",
        "    5. Logistic works better than NB and KNN"
      ]
    },
    {
      "cell_type": "markdown",
      "metadata": {
        "id": "hNGJv3t3W6Mm",
        "colab_type": "text"
      },
      "source": [
        "### Testing with Test data"
      ]
    },
    {
      "cell_type": "code",
      "metadata": {
        "id": "1EeUx0hTzh9l",
        "colab_type": "code",
        "outputId": "eb7e5609-dba1-42b9-80f7-98dcbf310fd6",
        "colab": {
          "base_uri": "https://localhost:8080/",
          "height": 329
        }
      },
      "source": [
        "from sklearn.metrics import roc_curve, auc\n",
        "from sklearn.metrics import roc_auc_score\n",
        "from sklearn.linear_model import LogisticRegression\n",
        "neigh = LogisticRegression(C=0.3, class_weight= \"balanced\")\n",
        "\n",
        "neigh.fit(x2_train, Y_train)\n",
        "# roc_auc_score(y_true, y_score) the 2nd parameter should be probability estimates of the positive class\n",
        "# not the predicted outputs\n",
        "predicted_labels=[]\n",
        "predicted_labelss=[]\n",
        "for j in tqdm(range(0, 65548, 1000)):\n",
        "    predicted_labels.extend(neigh.predict_proba(x2_train[j:j+1000])[:,1])\n",
        "for m in range(0, 21850, 1000):\n",
        "    predicted_labelss.extend(neigh.predict_proba(x2_test[m:m+1000])[:,1])    \n",
        "\n",
        "    \n",
        "train_fpr, train_tpr, threshold = roc_curve(Y_train, predicted_labels)\n",
        "test_fpr, test_tpr, thresholds = roc_curve(Y_test, predicted_labelss)\n",
        "#print(train_fpr[0:150])\n",
        "#print(threshold[0:150])\n",
        "plt.plot(train_fpr, train_tpr, label=\"train AUC =\"+str(np.round(auc(train_fpr, train_tpr),3)))\n",
        "plt.plot(test_fpr, test_tpr, label=\"test AUC =\"+str(np.round(auc(test_fpr, test_tpr),3)))\n",
        "plt.legend()\n",
        "plt.xlabel(\"fpr\")\n",
        "plt.ylabel(\"tpr\")\n",
        "plt.title(\"AUC\")\n",
        "plt.show()\n",
        "\n",
        "print(\"=\"*100)\n",
        "\n",
        "#from sklearn.metrics import confusion_matrix\n",
        "#print(\"Train confusion matrix\")\n",
        "#print(confusion_matrix(y_train, neigh.predict(X_train_bow)))\n",
        "#print(\"Test confusion matrix\")\n",
        "#print(confusion_matrix(y_test, neigh.predict(X_test_bow)))"
      ],
      "execution_count": 0,
      "outputs": [
        {
          "output_type": "stream",
          "text": [
            "100%|██████████| 66/66 [00:00<00:00, 512.83it/s]\n"
          ],
          "name": "stderr"
        },
        {
          "output_type": "display_data",
          "data": {
            "image/png": "[encoded data removed]",
            "text/plain": [
              "<Figure size 432x288 with 1 Axes>"
            ]
          },
          "metadata": {
            "tags": []
          }
        },
        {
          "output_type": "stream",
          "text": [
            "====================================================================================================\n"
          ],
          "name": "stdout"
        }
      ]
    },
    {
      "cell_type": "markdown",
      "metadata": {
        "id": "9OKNkQCpW6Mp",
        "colab_type": "text"
      },
      "source": [
        "#### Observations\n",
        "    1. We observe that the area under curve or the Roc plot shows that both train and test have an area of nearly\n",
        "       0.862 and 0.73.\n",
        "    2. After testing with various values of C, such an optimized result has been obtained.\n",
        "    3. As C value increases,the data tends to overfit and as C values decreases,the data tends to underfit.\n",
        "    3. After multiple trials, we find that the AUC is highest for C= 0.3."
      ]
    },
    {
      "cell_type": "markdown",
      "metadata": {
        "id": "VDUONNTnW6Mq",
        "colab_type": "text"
      },
      "source": [
        "### Confusion Matrix"
      ]
    },
    {
      "cell_type": "code",
      "metadata": {
        "id": "pobM5pU7zmw1",
        "colab_type": "code",
        "outputId": "24281619-0d72-47f1-bb70-d5fe5e7325ec",
        "colab": {
          "base_uri": "https://localhost:8080/",
          "height": 713
        }
      },
      "source": [
        "from sklearn.metrics import confusion_matrix#https://seaborn.pydata.org/generated/seaborn.heatmap.html\n",
        "import seaborn as sns\n",
        "from sklearn.metrics import roc_curve, auc\n",
        "from sklearn.neighbors import KNeighborsClassifier\n",
        "from sklearn.metrics import roc_auc_score\n",
        "from sklearn.linear_model import LogisticRegression\n",
        "neigh = LogisticRegression(C=0.3, class_weight= \"balanced\")\n",
        "predicted_labels=[]\n",
        "predicted_labelss=[]\n",
        "neigh.fit(x2_train, Y_train)\n",
        "for j in tqdm(range(0, 65548, 1000)):\n",
        "    predicted_labels.extend(neigh.predict(x2_train[j:j+1000]))\n",
        "for m in range(0, 21850, 1000):\n",
        "    predicted_labelss.extend(neigh.predict(x2_test[m:m+1000]))    \n",
        "\n",
        "confusion= confusion_matrix(Y_train, predicted_labels)\n",
        "confusion_test= confusion_matrix(Y_test, predicted_labelss)\n",
        "label= [\"0\",\"1\"]\n",
        "confusion_pd = pd.DataFrame(confusion, index= label, columns= label)\n",
        "confusion_test_pd= pd.DataFrame(confusion_test, index= label, columns= label)\n",
        "\n",
        "plt.figure(figsize=(15,5))\n",
        "plt.subplot(1,2,1)\n",
        "sns.heatmap(confusion_pd, annot= True, fmt= \"d\")\n",
        "plt.xlabel(\"Predicted value\")\n",
        "plt.ylabel(\"Actual label\")\n",
        "plt.title(\"Confusion Matrix for Train data\")\n",
        "plt.subplot(1,2,2)\n",
        "plt.xlabel(\"Predicted value\")\n",
        "plt.ylabel(\"Actual label\")\n",
        "plt.title(\"Confusion Matrix for Test data\")\n",
        "sns.heatmap(confusion_test, annot= True, fmt= \"d\")\n",
        "plt.show()\n",
        "from sklearn.metrics import classification_report\n",
        "print(\"Metrics for Test data\"\"\\n\", classification_report(Y_train, predicted_labels))\n",
        "print(\"Metrics for Train data\"\"\\n\", classification_report(Y_test, predicted_labelss)) \n",
        "#https://scikit-learn.org/stable/modules/generated/sklearn.metrics.classification_report.html\""
      ],
      "execution_count": 0,
      "outputs": [
        {
          "output_type": "stream",
          "text": [
            "100%|██████████| 66/66 [00:00<00:00, 516.48it/s]\n"
          ],
          "name": "stderr"
        },
        {
          "output_type": "display_data",
          "data": {
            "image/png": "[encoded data removed]",
            "text/plain": [
              "<Figure size 1080x360 with 4 Axes>"
            ]
          },
          "metadata": {
            "tags": []
          }
        },
        {
          "output_type": "stream",
          "text": [
            "Metrics for Test data\n",
            "               precision    recall  f1-score   support\n",
            "\n",
            "           0       0.25      0.66      0.37      9832\n",
            "           1       0.92      0.66      0.77     55716\n",
            "\n",
            "    accuracy                           0.66     65548\n",
            "   macro avg       0.58      0.66      0.57     65548\n",
            "weighted avg       0.82      0.66      0.71     65548\n",
            "\n",
            "Metrics for Train data\n",
            "               precision    recall  f1-score   support\n",
            "\n",
            "           0       0.24      0.63      0.35      3326\n",
            "           1       0.91      0.65      0.76     18524\n",
            "\n",
            "    accuracy                           0.65     21850\n",
            "   macro avg       0.58      0.64      0.55     21850\n",
            "weighted avg       0.81      0.65      0.70     21850\n",
            "\n"
          ],
          "name": "stdout"
        }
      ]
    },
    {
      "cell_type": "markdown",
      "metadata": {
        "id": "NZzgxeUOW6Mt",
        "colab_type": "text"
      },
      "source": [
        "##### Definitions\n",
        "       1.True Postive: A true positive is an outcome where the model correctly predicts the positive class.\n",
        "       2.True Negative: A true negative is an outcome where the model correctly predicts the negative class.\n",
        "       3.False positive: A false positive is an outcome where the model incorrectly predicts the positive class.\n",
        "       4.False negative: A false negative is an outcome where the model incorrectly predicts the negative class.\n",
        "#### Observations\n",
        "        1. We find that the best accuracy of our model on test data is 71.5% \n",
        "        2. Here Logistic regression performs better than the previous model.\n",
        "        3. The Recall is 0.60 and 0.74 for positive and negative class respectively\n",
        "        4. We find that false positives and false negatives are significantly less\n",
        "        5. The computation is better than that of KNN"
      ]
    },
    {
      "cell_type": "markdown",
      "metadata": {
        "id": "4z5E8X1mW6Mt",
        "colab_type": "text"
      },
      "source": [
        "### 2.4.3 Applying Logistic Regression on AVG W2V,<font color='red'> SET 3</font>"
      ]
    },
    {
      "cell_type": "code",
      "metadata": {
        "id": "v23VsZn1zriv",
        "colab_type": "code",
        "outputId": "4cf4d16a-ea8d-435e-e1c3-0c7117b0a7ad",
        "colab": {
          "base_uri": "https://localhost:8080/",
          "height": 138
        }
      },
      "source": [
        "#emcoding data using data modelling function\n",
        "x3_train, x3_test,x3_cv= data_modelling(3,data_train,data_test,data_cv)\n",
        "print(\"The shape of training data after encoding: \",x3_train.shape , \"Y_train: \", Y_train.shape)\n",
        "print(\"The shape of testing data after encoding: \",x3_test.shape , \"Y_test: \", Y_test.shape)\n",
        "print(\"The shape of cross validation data after encoding: \",x3_cv.shape,\"Y_cv: \",Y_cv.shape)"
      ],
      "execution_count": 0,
      "outputs": [
        {
          "output_type": "stream",
          "text": [
            "100%|██████████| 65548/65548 [00:14<00:00, 4592.50it/s]\n",
            "100%|██████████| 21850/21850 [00:04<00:00, 4633.10it/s]\n",
            "100%|██████████| 21850/21850 [00:04<00:00, 4711.38it/s]\n"
          ],
          "name": "stderr"
        },
        {
          "output_type": "stream",
          "text": [
            "All the features are encoded successfully and AVG-W2V is used! \n",
            "The shape of training data after encoding:  (65548, 1002) Y_train:  (65548, 1)\n",
            "The shape of testing data after encoding:  (21850, 1002) Y_test:  (21850, 1)\n",
            "The shape of cross validation data after encoding:  (21850, 1002) Y_cv:  (21850, 1)\n"
          ],
          "name": "stdout"
        }
      ]
    },
    {
      "cell_type": "markdown",
      "metadata": {
        "id": "6a1IsTA4W6M1",
        "colab_type": "text"
      },
      "source": [
        "### Simple Cross validation"
      ]
    },
    {
      "cell_type": "code",
      "metadata": {
        "id": "XVpi46NJzwvV",
        "colab_type": "code",
        "outputId": "ce624612-12b6-47bf-95a1-7a0b111cd30e",
        "colab": {
          "base_uri": "https://localhost:8080/",
          "height": 312
        }
      },
      "source": [
        "train_auc = []\n",
        "cv_auc = []\n",
        "from sklearn.metrics import roc_curve, auc\n",
        "from sklearn.linear_model import LogisticRegression\n",
        "from sklearn.metrics import roc_auc_score\n",
        "from matplotlib import pylab\n",
        "from tqdm import tqdm\n",
        "import numpy as np\n",
        "rain_auc = []\n",
        "cv_auc = []\n",
        "#k1 = np.arange(0,2,0.0001)\n",
        "k1= [0.00001,0.0001,0.001,0.01,0.02,0.03,0.04,0.05,0.06,0.07,0.08,0.09,0.1,0.2,0.3,0.4,0.5,0.6,0.7,0.8,0.9,1]\n",
        "for i in tqdm(k1):\n",
        "    neigh = LogisticRegression(C=i, class_weight= \"balanced\")\n",
        "    neigh.fit(x3_train, Y_train)\n",
        "    # roc_auc_score(y_true, y_score) the 2nd parameter should be probability estimates of the positive class\n",
        "    # not the predicted outputs\n",
        "    predicted_labels = []\n",
        "    for j in range(0, 65548, 1000):\n",
        "        predicted_labels.extend(neigh.predict_proba(x3_train[j:j+1000])[:,1])\n",
        "    \n",
        "    #print(len(predicted_labels))\n",
        "    predicted_labelss = []\n",
        "    for k in range(0, 21850, 1000):\n",
        "        predicted_labelss.extend(neigh.predict_proba(x3_cv[k:k+1000])[:,1])\n",
        "\n",
        "    #y_train_pred =  neigh.predict_proba(x1_train)[:,1]\n",
        "    #y_cv_pred =  neigh.predict_proba(x1_cv)[:,1]\n",
        "    #print(len(predicted_labelss))\n",
        "\n",
        "    train_auc.append(roc_auc_score(Y_train,predicted_labels))\n",
        "    cv_auc.append(roc_auc_score(Y_cv, predicted_labelss))\n",
        "\n",
        "\n",
        "plt.plot(k1, train_auc, label='Train AUC')\n",
        "pylab.ylim([0,1])\n",
        "\n",
        "plt.plot(k1, cv_auc, label='CV AUC')\n",
        "pylab.ylim([0,1])\n",
        "\n",
        "plt.legend()\n",
        "plt.xlabel(\"K: hyperparameter\")\n",
        "plt.ylabel(\"AUC\")\n",
        "plt.title(\"ERROR PLOTS\")\n",
        "plt.show()"
      ],
      "execution_count": 0,
      "outputs": [
        {
          "output_type": "stream",
          "text": [
            "100%|██████████| 22/22 [07:24<00:00, 20.21s/it]\n"
          ],
          "name": "stderr"
        },
        {
          "output_type": "display_data",
          "data": {
            "image/png": "[encoded data removed]",
            "text/plain": [
              "<Figure size 432x288 with 1 Axes>"
            ]
          },
          "metadata": {
            "tags": []
          }
        }
      ]
    },
    {
      "cell_type": "markdown",
      "metadata": {
        "id": "UzVkmpKrW6M3",
        "colab_type": "text"
      },
      "source": [
        "#### Observations \n",
        "    1. After applying Logistic Regression on BOW model, the model is obtained. Both train and cv seem to be close or a\n",
        "       good C can be very close to zero.\n",
        "    2. Hence, by trail and error we can consider 0.1 as our optimal C.\n",
        "    3. As C value increases, We can say that the model tends to overfit, and as the value of C decreases, the model \n",
        "       underfits.\n",
        "    4. As the data is unbalanced, We used the feature balanced to assign weights for majority and minority class."
      ]
    },
    {
      "cell_type": "markdown",
      "metadata": {
        "id": "1rAfbFMwW6M3",
        "colab_type": "text"
      },
      "source": [
        "### Testing with test data"
      ]
    },
    {
      "cell_type": "code",
      "metadata": {
        "id": "hPTA4J6Yz2um",
        "colab_type": "code",
        "outputId": "cc29502a-91b2-4fa1-93ad-4f7d060ec7d0",
        "colab": {
          "base_uri": "https://localhost:8080/",
          "height": 329
        }
      },
      "source": [
        "from sklearn.metrics import roc_curve, auc\n",
        "from sklearn.metrics import roc_auc_score\n",
        "from sklearn.linear_model import LogisticRegression\n",
        "neigh = LogisticRegression(C=0.1, class_weight= \"balanced\")\n",
        "\n",
        "neigh.fit(x3_train, Y_train)\n",
        "# roc_auc_score(y_true, y_score) the 2nd parameter should be probability estimates of the positive class\n",
        "# not the predicted outputs\n",
        "predicted_labels=[]\n",
        "predicted_labelss=[]\n",
        "for j in tqdm(range(0, 65548, 1000)):\n",
        "    predicted_labels.extend(neigh.predict_proba(x3_train[j:j+1000])[:,1])\n",
        "for m in range(0, 21850, 1000):\n",
        "    predicted_labelss.extend(neigh.predict_proba(x3_test[m:m+1000])[:,1])    \n",
        "\n",
        "    \n",
        "train_fpr, train_tpr, threshold = roc_curve(Y_train, predicted_labels)\n",
        "test_fpr, test_tpr, thresholds = roc_curve(Y_test, predicted_labelss)\n",
        "#print(train_fpr[0:150])\n",
        "#print(threshold[0:150])\n",
        "plt.plot(train_fpr, train_tpr, label=\"train AUC =\"+str(np.round(auc(train_fpr, train_tpr),3)))\n",
        "plt.plot(test_fpr, test_tpr, label=\"test AUC =\"+str(np.round(auc(test_fpr, test_tpr),3)))\n",
        "plt.legend()\n",
        "plt.xlabel(\"fpr\")\n",
        "plt.ylabel(\"tpr\")\n",
        "plt.title(\"AUC\")\n",
        "plt.show()\n",
        "\n",
        "print(\"=\"*100)\n",
        "\n",
        "#from sklearn.metrics import confusion_matrix\n",
        "#print(\"Train confusion matrix\")\n",
        "#print(confusion_matrix(y_train, neigh.predict(X_train_bow)))\n",
        "#print(\"Test confusion matrix\")\n",
        "#print(confusion_matrix(y_test, neigh.predict(X_test_bow)))"
      ],
      "execution_count": 0,
      "outputs": [
        {
          "output_type": "stream",
          "text": [
            "100%|██████████| 66/66 [00:00<00:00, 128.26it/s]\n"
          ],
          "name": "stderr"
        },
        {
          "output_type": "display_data",
          "data": {
            "image/png": "[encoded data removed]",
            "text/plain": [
              "<Figure size 432x288 with 1 Axes>"
            ]
          },
          "metadata": {
            "tags": []
          }
        },
        {
          "output_type": "stream",
          "text": [
            "====================================================================================================\n"
          ],
          "name": "stdout"
        }
      ]
    },
    {
      "cell_type": "markdown",
      "metadata": {
        "id": "JFTW3BzoW6M6",
        "colab_type": "text"
      },
      "source": [
        "#### Observations\n",
        "    1. We observe that the area under curve or the Roc plot shows that both train and test have an area of nearly\n",
        "       0.75 and 0.723.\n",
        "    2. After testing with various values of C, such an optimized result has been obtained.\n",
        "    3. As C value increases,the data tends to overfit and as C values decreases,the data tends to underfit.\n",
        "    3. After multiple trials, we find that the AUC is highest for C= 0.1."
      ]
    },
    {
      "cell_type": "markdown",
      "metadata": {
        "id": "jbV4IcbCW6M6",
        "colab_type": "text"
      },
      "source": [
        "### Confusion Matrix"
      ]
    },
    {
      "cell_type": "code",
      "metadata": {
        "id": "MkckvIF6z7BG",
        "colab_type": "code",
        "outputId": "011ab672-4d2d-41de-ea4c-ff42ffc61279",
        "colab": {
          "base_uri": "https://localhost:8080/",
          "height": 713
        }
      },
      "source": [
        "from sklearn.metrics import confusion_matrix#https://seaborn.pydata.org/generated/seaborn.heatmap.html\n",
        "import seaborn as sns\n",
        "from sklearn.metrics import roc_curve, auc\n",
        "from sklearn.neighbors import KNeighborsClassifier\n",
        "from sklearn.metrics import roc_auc_score\n",
        "from sklearn.linear_model import LogisticRegression\n",
        "neigh = LogisticRegression(C=0.1, class_weight= \"balanced\")\n",
        "predicted_labels=[]\n",
        "predicted_labelss=[]\n",
        "neigh.fit(x3_train, Y_train)\n",
        "for j in tqdm(range(0, 65548, 1000)):\n",
        "    predicted_labels.extend(neigh.predict(x3_train[j:j+1000]))\n",
        "for m in range(0, 21850, 1000):\n",
        "    predicted_labelss.extend(neigh.predict(x3_test[m:m+1000]))    \n",
        "\n",
        "confusion= confusion_matrix(Y_train, predicted_labels)\n",
        "confusion_test= confusion_matrix(Y_test, predicted_labelss)\n",
        "label= [\"0\",\"1\"]\n",
        "confusion_pd = pd.DataFrame(confusion, index= label, columns= label)\n",
        "confusion_test_pd= pd.DataFrame(confusion_test, index= label, columns= label)\n",
        "\n",
        "plt.figure(figsize=(15,5))\n",
        "plt.subplot(1,2,1)\n",
        "sns.heatmap(confusion_pd, annot= True, fmt= \"d\")\n",
        "plt.xlabel(\"Predicted value\")\n",
        "plt.ylabel(\"Actual label\")\n",
        "plt.title(\"Confusion Matrix for Train data\")\n",
        "plt.subplot(1,2,2)\n",
        "plt.xlabel(\"Predicted value\")\n",
        "plt.ylabel(\"Actual label\")\n",
        "plt.title(\"Confusion Matrix for Test data\")\n",
        "sns.heatmap(confusion_test, annot= True, fmt= \"d\")\n",
        "plt.show()\n",
        "from sklearn.metrics import classification_report\n",
        "print(\"Metrics for Test data\"\"\\n\", classification_report(Y_train, predicted_labels))\n",
        "print(\"Metrics for Train data\"\"\\n\", classification_report(Y_test, predicted_labelss)) \n",
        "#https://scikit-learn.org/stable/modules/generated/sklearn.metrics.classification_report.html"
      ],
      "execution_count": 0,
      "outputs": [
        {
          "output_type": "stream",
          "text": [
            "100%|██████████| 66/66 [00:00<00:00, 130.50it/s]\n"
          ],
          "name": "stderr"
        },
        {
          "output_type": "display_data",
          "data": {
            "image/png": "[encoded data removed]",
            "text/plain": [
              "<Figure size 1080x360 with 4 Axes>"
            ]
          },
          "metadata": {
            "tags": []
          }
        },
        {
          "output_type": "stream",
          "text": [
            "Metrics for Test data\n",
            "               precision    recall  f1-score   support\n",
            "\n",
            "           0       0.24      0.66      0.35      9832\n",
            "           1       0.91      0.63      0.75     55716\n",
            "\n",
            "    accuracy                           0.64     65548\n",
            "   macro avg       0.58      0.65      0.55     65548\n",
            "weighted avg       0.81      0.64      0.69     65548\n",
            "\n",
            "Metrics for Train data\n",
            "               precision    recall  f1-score   support\n",
            "\n",
            "           0       0.24      0.65      0.35      3326\n",
            "           1       0.91      0.63      0.75     18524\n",
            "\n",
            "    accuracy                           0.63     21850\n",
            "   macro avg       0.58      0.64      0.55     21850\n",
            "weighted avg       0.81      0.63      0.69     21850\n",
            "\n"
          ],
          "name": "stdout"
        }
      ]
    },
    {
      "cell_type": "markdown",
      "metadata": {
        "id": "sqYXEbqNW6M8",
        "colab_type": "text"
      },
      "source": [
        "##### Definitions\n",
        "       1.True Postive: A true positive is an outcome where the model correctly predicts the positive class.\n",
        "       2.True Negative: A true negative is an outcome where the model correctly predicts the negative class.\n",
        "       3.False positive: A false positive is an outcome where the model incorrectly predicts the positive class.\n",
        "       4.False negative: A false negative is an outcome where the model incorrectly predicts the negative class.\n",
        "#### Observations\n",
        "        1. We find that the best accuracy of our model on test data is 67% \n",
        "        2. Here AVG-W2V doesn't seem work as efficently as BOW and TF-IDF with logistic regression.\n",
        "        3. As dimensions increase, logistic regression becomes more efficient.\n",
        "        3. The Recall is 0.65 and 0.68 for positive and negative class respectively\n",
        "        4. The computation is better than that of KNN"
      ]
    },
    {
      "cell_type": "markdown",
      "metadata": {
        "id": "zm6uRXYnW6M8",
        "colab_type": "text"
      },
      "source": [
        "### 2.4.3 Applying Logistic Regression on TF-IDF W2V,<font color='red'> SET 4</font>"
      ]
    },
    {
      "cell_type": "code",
      "metadata": {
        "id": "evYq6LYwz_0U",
        "colab_type": "code",
        "outputId": "51eb408d-ee4c-4485-f154-16ee2b4d0b88",
        "colab": {
          "base_uri": "https://localhost:8080/",
          "height": 138
        }
      },
      "source": [
        "#emcoding data using data modelling function\n",
        "x4_train, x4_test,x4_cv= data_modelling(4,data_train,data_test,data_cv)\n",
        "print(\"The shape of training data after encoding: \",x4_train.shape , \"Y_train: \", Y_train.shape)\n",
        "print(\"The shape of testing data after encoding: \",x4_test.shape , \"Y_test: \", Y_test.shape)\n",
        "print(\"The shape of cross validation data after encoding: \",x4_cv.shape,\"Y_cv: \",Y_cv.shape)"
      ],
      "execution_count": 0,
      "outputs": [
        {
          "output_type": "stream",
          "text": [
            "100%|██████████| 65548/65548 [01:30<00:00, 722.95it/s]\n",
            "100%|██████████| 21850/21850 [00:30<00:00, 718.46it/s]\n",
            "100%|██████████| 21850/21850 [00:30<00:00, 723.81it/s]\n"
          ],
          "name": "stderr"
        },
        {
          "output_type": "stream",
          "text": [
            "All the features are encoded successfully and TFIDF-W2V is used! \n",
            "The shape of training data after encoding:  (65548, 1002) Y_train:  (65548, 1)\n",
            "The shape of testing data after encoding:  (21850, 1002) Y_test:  (21850, 1)\n",
            "The shape of cross validation data after encoding:  (21850, 1002) Y_cv:  (21850, 1)\n"
          ],
          "name": "stdout"
        }
      ]
    },
    {
      "cell_type": "markdown",
      "metadata": {
        "id": "co64wJ4tW6NF",
        "colab_type": "text"
      },
      "source": [
        "### Simple Cross Validation"
      ]
    },
    {
      "cell_type": "code",
      "metadata": {
        "id": "t8WZ9qe60ExV",
        "colab_type": "code",
        "outputId": "29c74fc8-d3dc-4b57-f24e-ee98714d1406",
        "colab": {
          "base_uri": "https://localhost:8080/",
          "height": 312
        }
      },
      "source": [
        "train_auc = []\n",
        "cv_auc = []\n",
        "from sklearn.metrics import roc_curve, auc\n",
        "from sklearn.linear_model import LogisticRegression\n",
        "from sklearn.metrics import roc_auc_score\n",
        "from matplotlib import pylab\n",
        "from tqdm import tqdm\n",
        "import numpy as np\n",
        "rain_auc = []\n",
        "cv_auc = []\n",
        "#k1 = np.arange(0,2,0.0001)\n",
        "k1= [0.00001,0.0001,0.001,0.01,0.02,0.03,0.04,0.05,0.06,0.07,0.08,0.09,0.1,0.2,0.3,0.4,0.5,0.6,0.7,0.8,0.9,1]\n",
        "for i in tqdm(k1):\n",
        "    neigh = LogisticRegression(C=i, class_weight= \"balanced\")\n",
        "    neigh.fit(x4_train, Y_train)\n",
        "    # roc_auc_score(y_true, y_score) the 2nd parameter should be probability estimates of the positive class\n",
        "    # not the predicted outputs\n",
        "    predicted_labels = []\n",
        "    for j in range(0, 65548, 1000):\n",
        "        predicted_labels.extend(neigh.predict_proba(x4_train[j:j+1000])[:,1])\n",
        "    \n",
        "    #print(len(predicted_labels))\n",
        "    predicted_labelss = []\n",
        "    for k in range(0, 21850, 1000):\n",
        "        predicted_labelss.extend(neigh.predict_proba(x4_cv[k:k+1000])[:,1])\n",
        "\n",
        "    #y_train_pred =  neigh.predict_proba(x1_train)[:,1]\n",
        "    #y_cv_pred =  neigh.predict_proba(x1_cv)[:,1]\n",
        "    #print(len(predicted_labelss))\n",
        "\n",
        "    train_auc.append(roc_auc_score(Y_train,predicted_labels))\n",
        "    cv_auc.append(roc_auc_score(Y_cv, predicted_labelss))\n",
        "\n",
        "\n",
        "plt.plot(k1, train_auc, label='Train AUC')\n",
        "pylab.ylim([0,1])\n",
        "\n",
        "plt.plot(k1, cv_auc, label='CV AUC')\n",
        "pylab.ylim([0,1])\n",
        "\n",
        "plt.legend()\n",
        "plt.xlabel(\"K: hyperparameter\")\n",
        "plt.ylabel(\"AUC\")\n",
        "plt.title(\"ERROR PLOTS\")\n",
        "plt.show()"
      ],
      "execution_count": 0,
      "outputs": [
        {
          "output_type": "stream",
          "text": [
            "100%|██████████| 22/22 [07:24<00:00, 20.22s/it]\n"
          ],
          "name": "stderr"
        },
        {
          "output_type": "display_data",
          "data": {
            "image/png": "[encoded data removed]",
            "text/plain": [
              "<Figure size 432x288 with 1 Axes>"
            ]
          },
          "metadata": {
            "tags": []
          }
        }
      ]
    },
    {
      "cell_type": "markdown",
      "metadata": {
        "id": "tn0e4VYKW6NH",
        "colab_type": "text"
      },
      "source": [
        "#### Observations \n",
        "    1. After applying Logistic Regression on BOW model, the model is obtained. Both train and cv seem to be close or a\n",
        "       good C can be taken in the range 0 to 1.\n",
        "    2. Hence, by trail and error we can consider 1 as our optimal C.\n",
        "    3. As C value increases, We can say that the model tends to overfit, and as the value of C decreases, the model \n",
        "       underfits.\n",
        "    4. As the data is unbalanced, We used the feature balanced to assign weights for majority and minority class."
      ]
    },
    {
      "cell_type": "markdown",
      "metadata": {
        "id": "UaQ4G_nSW6NH",
        "colab_type": "text"
      },
      "source": [
        "### Testing with Test data"
      ]
    },
    {
      "cell_type": "code",
      "metadata": {
        "id": "QMerTVc90Hlm",
        "colab_type": "code",
        "outputId": "4cc93e73-25cb-4475-829a-b57b75df29be",
        "colab": {
          "base_uri": "https://localhost:8080/",
          "height": 329
        }
      },
      "source": [
        "from sklearn.metrics import roc_curve, auc\n",
        "from sklearn.metrics import roc_auc_score\n",
        "from sklearn.linear_model import LogisticRegression\n",
        "neigh = LogisticRegression(C=1, class_weight= \"balanced\")\n",
        "\n",
        "neigh.fit(x4_train, Y_train)\n",
        "# roc_auc_score(y_true, y_score) the 2nd parameter should be probability estimates of the positive class\n",
        "# not the predicted outputs\n",
        "predicted_labels=[]\n",
        "predicted_labelss=[]\n",
        "for j in tqdm(range(0, 65548, 1000)):\n",
        "    predicted_labels.extend(neigh.predict_proba(x4_train[j:j+1000])[:,1])\n",
        "for m in range(0, 21850, 1000):\n",
        "    predicted_labelss.extend(neigh.predict_proba(x4_test[m:m+1000])[:,1])    \n",
        "\n",
        "    \n",
        "train_fpr, train_tpr, threshold = roc_curve(Y_train, predicted_labels)\n",
        "test_fpr, test_tpr, thresholds = roc_curve(Y_test, predicted_labelss)\n",
        "#print(train_fpr[0:150])\n",
        "#print(threshold[0:150])\n",
        "plt.plot(train_fpr, train_tpr, label=\"train AUC =\"+str(np.round(auc(train_fpr, train_tpr),3)))\n",
        "plt.plot(test_fpr, test_tpr, label=\"test AUC =\"+str(np.round(auc(test_fpr, test_tpr),3)))\n",
        "plt.legend()\n",
        "plt.xlabel(\"fpr\")\n",
        "plt.ylabel(\"tpr\")\n",
        "plt.title(\"AUC\")\n",
        "plt.show()\n",
        "\n",
        "print(\"=\"*100)\n",
        "\n",
        "#from sklearn.metrics import confusion_matrix\n",
        "#print(\"Train confusion matrix\")\n",
        "#print(confusion_matrix(y_train, neigh.predict(X_train_bow)))\n",
        "#print(\"Test confusion matrix\")\n",
        "#print(confusion_matrix(y_test, neigh.predict(X_test_bow)))"
      ],
      "execution_count": 0,
      "outputs": [
        {
          "output_type": "stream",
          "text": [
            "100%|██████████| 66/66 [00:00<00:00, 132.08it/s]\n"
          ],
          "name": "stderr"
        },
        {
          "output_type": "display_data",
          "data": {
            "image/png": "[encoded data removed]",
            "text/plain": [
              "<Figure size 432x288 with 1 Axes>"
            ]
          },
          "metadata": {
            "tags": []
          }
        },
        {
          "output_type": "stream",
          "text": [
            "====================================================================================================\n"
          ],
          "name": "stdout"
        }
      ]
    },
    {
      "cell_type": "markdown",
      "metadata": {
        "id": "37zlQsJuW6NK",
        "colab_type": "text"
      },
      "source": [
        "#### Observations\n",
        "    1. We observe that the area under curve or the Roc plot shows that both train and test have an area of nearly\n",
        "       0.734 and 0.708.\n",
        "    2. After testing with various values of C, such an optimized result has been obtained.\n",
        "    3. As C value increases,the data tends to overfit and as C values decreases,the data tends to underfit.\n",
        "    3. After multiple trials, we find that the AUC is highest for C= 1."
      ]
    },
    {
      "cell_type": "markdown",
      "metadata": {
        "id": "ig1QmGNxW6NK",
        "colab_type": "text"
      },
      "source": [
        "### Confusion Matrix"
      ]
    },
    {
      "cell_type": "code",
      "metadata": {
        "id": "Sw-eq4t_0MFl",
        "colab_type": "code",
        "outputId": "6c9527e0-02c8-4634-c04d-93aa0a1efa8b",
        "colab": {
          "base_uri": "https://localhost:8080/",
          "height": 713
        }
      },
      "source": [
        "from sklearn.metrics import confusion_matrix#https://seaborn.pydata.org/generated/seaborn.heatmap.html\n",
        "import seaborn as sns\n",
        "from sklearn.metrics import roc_curve, auc\n",
        "from sklearn.neighbors import KNeighborsClassifier\n",
        "from sklearn.metrics import roc_auc_score\n",
        "from sklearn.linear_model import LogisticRegression\n",
        "neigh = LogisticRegression(C=1, class_weight= \"balanced\")\n",
        "predicted_labels=[]\n",
        "predicted_labelss=[]\n",
        "neigh.fit(x4_train, Y_train)\n",
        "for j in tqdm(range(0, 65548, 1000)):\n",
        "    predicted_labels.extend(neigh.predict(x4_train[j:j+1000]))\n",
        "for m in range(0, 21850, 1000):\n",
        "    predicted_labelss.extend(neigh.predict(x4_test[m:m+1000]))    \n",
        "\n",
        "confusion= confusion_matrix(Y_train, predicted_labels)\n",
        "confusion_test= confusion_matrix(Y_test, predicted_labelss)\n",
        "label= [\"0\",\"1\"]\n",
        "confusion_pd = pd.DataFrame(confusion, index= label, columns= label)\n",
        "confusion_test_pd= pd.DataFrame(confusion_test, index= label, columns= label)\n",
        "\n",
        "plt.figure(figsize=(15,5))\n",
        "plt.subplot(1,2,1)\n",
        "sns.heatmap(confusion_pd, annot= True, fmt= \"d\")\n",
        "plt.xlabel(\"Predicted value\")\n",
        "plt.ylabel(\"Actual label\")\n",
        "plt.title(\"Confusion Matrix for Train data\")\n",
        "plt.subplot(1,2,2)\n",
        "plt.xlabel(\"Predicted value\")\n",
        "plt.ylabel(\"Actual label\")\n",
        "plt.title(\"Confusion Matrix for Test data\")\n",
        "sns.heatmap(confusion_test, annot= True, fmt= \"d\")\n",
        "plt.show()\n",
        "from sklearn.metrics import classification_report\n",
        "print(\"Metrics for Test data\"\"\\n\", classification_report(Y_train, predicted_labels))\n",
        "print(\"Metrics for Train data\"\"\\n\", classification_report(Y_test, predicted_labelss)) \n",
        "#https://scikit-learn.org/stable/modules/generated/sklearn.metrics.classification_report.html"
      ],
      "execution_count": 0,
      "outputs": [
        {
          "output_type": "stream",
          "text": [
            "100%|██████████| 66/66 [00:00<00:00, 128.61it/s]\n"
          ],
          "name": "stderr"
        },
        {
          "output_type": "display_data",
          "data": {
            "image/png": "[encoded data removed]",
            "text/plain": [
              "<Figure size 1080x360 with 4 Axes>"
            ]
          },
          "metadata": {
            "tags": []
          }
        },
        {
          "output_type": "stream",
          "text": [
            "Metrics for Test data\n",
            "               precision    recall  f1-score   support\n",
            "\n",
            "           0       0.24      0.67      0.35      9832\n",
            "           1       0.91      0.62      0.74     55716\n",
            "\n",
            "    accuracy                           0.63     65548\n",
            "   macro avg       0.57      0.64      0.54     65548\n",
            "weighted avg       0.81      0.63      0.68     65548\n",
            "\n",
            "Metrics for Train data\n",
            "               precision    recall  f1-score   support\n",
            "\n",
            "           0       0.24      0.66      0.35      3326\n",
            "           1       0.91      0.62      0.74     18524\n",
            "\n",
            "    accuracy                           0.62     21850\n",
            "   macro avg       0.57      0.64      0.54     21850\n",
            "weighted avg       0.81      0.62      0.68     21850\n",
            "\n"
          ],
          "name": "stdout"
        }
      ]
    },
    {
      "cell_type": "markdown",
      "metadata": {
        "id": "G8uEZbxhW6NL",
        "colab_type": "text"
      },
      "source": [
        "##### Definitions\n",
        "       1.True Postive: A true positive is an outcome where the model correctly predicts the positive class.\n",
        "       2.True Negative: A true negative is an outcome where the model correctly predicts the negative class.\n",
        "       3.False positive: A false positive is an outcome where the model incorrectly predicts the positive class.\n",
        "       4.False negative: A false negative is an outcome where the model incorrectly predicts the negative class.\n",
        "#### Observations\n",
        "        1. We find that the best accuracy of our model on test data is 67% \n",
        "        2. Here Logistic regression performs better than Naive Bayes and KNN.\n",
        "        3. The Recall is 0.67 and 0.64 for positive and negative class respectively.\n",
        "        5. We may still have to improve our model for better performance"
      ]
    },
    {
      "cell_type": "markdown",
      "metadata": {
        "id": "GDfHFofhW6NM",
        "colab_type": "text"
      },
      "source": [
        "### 2.4.3 Applying Logistic Regression on special features,<font color='red'> SET 5</font>"
      ]
    },
    {
      "cell_type": "code",
      "metadata": {
        "id": "J1oeW8mo0Qu1",
        "colab_type": "code",
        "outputId": "405d3fb6-6910-4bf8-9385-944bfd1c95c6",
        "colab": {
          "base_uri": "https://localhost:8080/",
          "height": 69
        }
      },
      "source": [
        "#emcoding data using data modelling function\n",
        "x5_train, x5_test,x5_cv= data_modelling(0,data_train,data_test,data_cv)\n",
        "print(\"The shape of training data after encoding: \",x5_train.shape , \"Y_train: \", Y_train.shape)\n",
        "print(\"The shape of testing data after encoding: \",x5_test.shape , \"Y_test: \", Y_test.shape)\n",
        "print(\"The shape of cross validation data after encoding: \",x5_cv.shape,\"Y_cv: \",Y_cv.shape)"
      ],
      "execution_count": 0,
      "outputs": [
        {
          "output_type": "stream",
          "text": [
            "The shape of training data after encoding:  (65548, 108) Y_train:  (65548, 1)\n",
            "The shape of testing data after encoding:  (21850, 108) Y_test:  (21850, 1)\n",
            "The shape of cross validation data after encoding:  (21850, 108) Y_cv:  (21850, 1)\n"
          ],
          "name": "stdout"
        }
      ]
    },
    {
      "cell_type": "markdown",
      "metadata": {
        "id": "uLbto1NZW6NT",
        "colab_type": "text"
      },
      "source": [
        "### Simple Cross Validation"
      ]
    },
    {
      "cell_type": "code",
      "metadata": {
        "id": "PiRd8y0b0V8W",
        "colab_type": "code",
        "outputId": "226237e3-6203-40df-8f12-c3dd611c99aa",
        "colab": {
          "base_uri": "https://localhost:8080/",
          "height": 312
        }
      },
      "source": [
        "train_auc = []\n",
        "cv_auc = []\n",
        "from sklearn.metrics import roc_curve, auc\n",
        "from sklearn.linear_model import LogisticRegression\n",
        "from sklearn.metrics import roc_auc_score\n",
        "from matplotlib import pylab\n",
        "from tqdm import tqdm\n",
        "import numpy as np\n",
        "rain_auc = []\n",
        "cv_auc = []\n",
        "#k1 = np.arange(0,2,0.0001)\n",
        "k1= [0.00001,0.0001,0.001,0.01,0.02,0.03,0.04,0.05,0.06,0.07,0.08,0.09,0.1,0.2,0.3,0.4,0.5,0.6,0.7,0.8,0.9,1]\n",
        "for i in tqdm(k1):\n",
        "    neigh = LogisticRegression(C=i, class_weight= \"balanced\")\n",
        "    neigh.fit(x5_train, Y_train)\n",
        "    # roc_auc_score(y_true, y_score) the 2nd parameter should be probability estimates of the positive class\n",
        "    # not the predicted outputs\n",
        "    predicted_labels = []\n",
        "    for j in range(0, 65548, 1000):\n",
        "        predicted_labels.extend(neigh.predict_proba(x5_train[j:j+1000])[:,1])\n",
        "    \n",
        "    #print(len(predicted_labels))\n",
        "    predicted_labelss = []\n",
        "    for k in range(0, 21850, 1000):\n",
        "        predicted_labelss.extend(neigh.predict_proba(x5_cv[k:k+1000])[:,1])\n",
        "\n",
        "    #y_train_pred =  neigh.predict_proba(x1_train)[:,1]\n",
        "    #y_cv_pred =  neigh.predict_proba(x1_cv)[:,1]\n",
        "    #print(len(predicted_labelss))\n",
        "\n",
        "    train_auc.append(roc_auc_score(Y_train,predicted_labels))\n",
        "    cv_auc.append(roc_auc_score(Y_cv, predicted_labelss))\n",
        "\n",
        "\n",
        "plt.plot(k1, train_auc, label='Train AUC')\n",
        "pylab.ylim([0,1])\n",
        "\n",
        "plt.plot(k1, cv_auc, label='CV AUC')\n",
        "pylab.ylim([0,1])\n",
        "\n",
        "plt.legend()\n",
        "plt.xlabel(\"K: hyperparameter\")\n",
        "plt.ylabel(\"AUC\")\n",
        "plt.title(\"ERROR PLOTS\")\n",
        "plt.show()"
      ],
      "execution_count": 0,
      "outputs": [
        {
          "output_type": "stream",
          "text": [
            "100%|██████████| 22/22 [00:19<00:00,  1.12it/s]\n"
          ],
          "name": "stderr"
        },
        {
          "output_type": "display_data",
          "data": {
            "image/png": "[encoded data removed]",
            "text/plain": [
              "<Figure size 432x288 with 1 Axes>"
            ]
          },
          "metadata": {
            "tags": []
          }
        }
      ]
    },
    {
      "cell_type": "markdown",
      "metadata": {
        "id": "4icN4gmgW6NW",
        "colab_type": "text"
      },
      "source": [
        "#### Observations \n",
        "    1. After applying Logistic Regression on BOW model, the model is obtained. Both train and cv seem to be close or a\n",
        "       good C can be taken in the range 0 to 1 since it's constant.\n",
        "    2. Hence, we can consider 0.5 as our optimal C.\n",
        "    3. As C value increases, We can say that the model tends to overfit, and as the value of C decreases, the model \n",
        "       underfits.\n",
        "    4. As the data is unbalanced, We used the feature balanced to assign weights for majority and minority class.\n",
        "    5. The model doesn't work well with frequency of words as AUC value is low compared to the previous models"
      ]
    },
    {
      "cell_type": "markdown",
      "metadata": {
        "id": "6bVIw-gXW6NX",
        "colab_type": "text"
      },
      "source": [
        "### Testing with test data"
      ]
    },
    {
      "cell_type": "code",
      "metadata": {
        "id": "wjVeIJra0ZIW",
        "colab_type": "code",
        "outputId": "8ec2b710-01c9-43bc-d45c-65e667162eae",
        "colab": {
          "base_uri": "https://localhost:8080/",
          "height": 89
        }
      },
      "source": [
        "from sklearn.metrics import roc_curve, auc\n",
        "from sklearn.metrics import roc_auc_score\n",
        "from sklearn.linear_model import LogisticRegression\n",
        "neigh = LogisticRegression(C=0.5, class_weight= \"balanced\")\n",
        "\n",
        "neigh.fit(x5_train, Y_train)\n",
        "# roc_auc_score(y_true, y_score) the 2nd parameter should be probability estimates of the positive class\n",
        "# not the predicted outputs\n",
        "predicted_labels=[]\n",
        "predicted_labelss=[]\n",
        "for j in tqdm(range(0, 65548, 1000)):\n",
        "    predicted_labels.extend(neigh.predict_proba(x5_train[j:j+1000])[:,1])\n",
        "for m in range(0, 21850, 1000):\n",
        "    predicted_labelss.extend(neigh.predict_proba(x5_test[m:m+1000])[:,1])    \n",
        "\n",
        "    \n",
        "train_fpr, train_tpr, threshold = roc_curve(Y_train, predicted_labels)\n",
        "test_fpr, test_tpr, thresholds = roc_curve(Y_test, predicted_labelss)\n",
        "#print(train_fpr[0:150])\n",
        "#print(threshold[0:150])\n",
        "plt.plot(train_fpr, train_tpr, label=\"train AUC =\"+str(np.round(auc(train_fpr, train_tpr),3)))\n",
        "plt.plot(test_fpr, test_tpr, label=\"test AUC =\"+str(np.round(auc(test_fpr, test_tpr),3)))\n",
        "plt.legend()\n",
        "plt.xlabel(\"fpr\")\n",
        "plt.ylabel(\"tpr\")\n",
        "plt.title(\"AUC\")\n",
        "plt.show()\n",
        "\n",
        "print(\"=\"*100)\n",
        "\n",
        "#from sklearn.metrics import confusion_matrix\n",
        "#print(\"Train confusion matrix\")\n",
        "#print(confusion_matrix(y_train, neigh.predict(X_train_bow)))\n",
        "#print(\"Test confusion matrix\")\n",
        "#print(confusion_matrix(y_test, neigh.predict(X_test_bow)))"
      ],
      "execution_count": 0,
      "outputs": [
        {
          "output_type": "stream",
          "text": [
            "100%|██████████| 66/66 [00:00<00:00, 2660.31it/s]\n"
          ],
          "name": "stderr"
        },
        {
          "output_type": "display_data",
          "data": {
            "image/png": "[encoded data removed]",
            "text/plain": [
              "<Figure size 432x288 with 1 Axes>"
            ]
          },
          "metadata": {
            "tags": []
          }
        },
        {
          "output_type": "stream",
          "text": [
            "====================================================================================================\n"
          ],
          "name": "stdout"
        }
      ]
    },
    {
      "cell_type": "markdown",
      "metadata": {
        "id": "SJwJZ9RoW6Na",
        "colab_type": "text"
      },
      "source": [
        "#### Observations\n",
        "    1. We observe that the area under curve or the Roc plot shows that both train and test have an area of nearly\n",
        "       0.616 and 0.614.\n",
        "    2. After testing with various values of C, such an optimized result has been obtained.\n",
        "    3. As C value increases,the data tends to overfit and as C values decreases,the data tends to underfit.\n",
        "    3. After multiple trials, we find that the AUC is highest for C= 0.5."
      ]
    },
    {
      "cell_type": "markdown",
      "metadata": {
        "id": "FzK7spmTW6Nb",
        "colab_type": "text"
      },
      "source": [
        "### Confusion Matrix"
      ]
    },
    {
      "cell_type": "code",
      "metadata": {
        "id": "lNGpF0tQ0dw2",
        "colab_type": "code",
        "outputId": "480709fa-4b79-48ee-b125-515b78a5a468",
        "colab": {
          "base_uri": "https://localhost:8080/",
          "height": 713
        }
      },
      "source": [
        "from sklearn.metrics import confusion_matrix#https://seaborn.pydata.org/generated/seaborn.heatmap.html\n",
        "import seaborn as sns\n",
        "from sklearn.metrics import roc_curve, auc\n",
        "from sklearn.neighbors import KNeighborsClassifier\n",
        "from sklearn.metrics import roc_auc_score\n",
        "from sklearn.linear_model import LogisticRegression\n",
        "neigh = LogisticRegression(C=0.5, class_weight= \"balanced\")\n",
        "predicted_labels=[]\n",
        "predicted_labelss=[]\n",
        "neigh.fit(x5_train, Y_train)\n",
        "for j in tqdm(range(0, 65548, 1000)):\n",
        "    predicted_labels.extend(neigh.predict(x5_train[j:j+1000]))\n",
        "for m in range(0, 21850, 1000):\n",
        "    predicted_labelss.extend(neigh.predict(x5_test[m:m+1000]))    \n",
        "\n",
        "confusion= confusion_matrix(Y_train, predicted_labels)\n",
        "confusion_test= confusion_matrix(Y_test, predicted_labelss)\n",
        "label= [\"0\",\"1\"]\n",
        "confusion_pd = pd.DataFrame(confusion, index= label, columns= label)\n",
        "confusion_test_pd= pd.DataFrame(confusion_test, index= label, columns= label)\n",
        "\n",
        "plt.figure(figsize=(15,5))\n",
        "plt.subplot(1,2,1)\n",
        "sns.heatmap(confusion_pd, annot= True, fmt= \"d\")\n",
        "plt.xlabel(\"Predicted value\")\n",
        "plt.ylabel(\"Actual label\")\n",
        "plt.title(\"Confusion Matrix for Train data\")\n",
        "plt.subplot(1,2,2)\n",
        "plt.xlabel(\"Predicted value\")\n",
        "plt.ylabel(\"Actual label\")\n",
        "plt.title(\"Confusion Matrix for Test data\")\n",
        "sns.heatmap(confusion_test, annot= True, fmt= \"d\")\n",
        "plt.show()\n",
        "from sklearn.metrics import classification_report\n",
        "print(\"Metrics for Test data\"\"\\n\", classification_report(Y_train, predicted_labels))\n",
        "print(\"Metrics for Train data\"\"\\n\", classification_report(Y_test, predicted_labelss)) \n",
        "#https://scikit-learn.org/stable/modules/generated/sklearn.metrics.classification_report.html"
      ],
      "execution_count": 0,
      "outputs": [
        {
          "output_type": "stream",
          "text": [
            "100%|██████████| 66/66 [00:00<00:00, 3203.87it/s]\n"
          ],
          "name": "stderr"
        },
        {
          "output_type": "display_data",
          "data": {
            "image/png": "[encoded data removed]",
            "text/plain": [
              "<Figure size 1080x360 with 4 Axes>"
            ]
          },
          "metadata": {
            "tags": []
          }
        },
        {
          "output_type": "stream",
          "text": [
            "Metrics for Test data\n",
            "               precision    recall  f1-score   support\n",
            "\n",
            "           0       0.20      0.58      0.29      9832\n",
            "           1       0.89      0.58      0.70     55716\n",
            "\n",
            "    accuracy                           0.58     65548\n",
            "   macro avg       0.54      0.58      0.50     65548\n",
            "weighted avg       0.78      0.58      0.64     65548\n",
            "\n",
            "Metrics for Train data\n",
            "               precision    recall  f1-score   support\n",
            "\n",
            "           0       0.20      0.57      0.29      3326\n",
            "           1       0.88      0.58      0.70     18524\n",
            "\n",
            "    accuracy                           0.58     21850\n",
            "   macro avg       0.54      0.58      0.50     21850\n",
            "weighted avg       0.78      0.58      0.64     21850\n",
            "\n"
          ],
          "name": "stdout"
        }
      ]
    },
    {
      "cell_type": "markdown",
      "metadata": {
        "id": "VZtbR3z2W6Ne",
        "colab_type": "text"
      },
      "source": [
        "##### Definitions\n",
        "       1.True Postive: A true positive is an outcome where the model correctly predicts the positive class.\n",
        "       2.True Negative: A true negative is an outcome where the model correctly predicts the negative class.\n",
        "       3.False positive: A false positive is an outcome where the model incorrectly predicts the positive class.\n",
        "       4.False negative: A false negative is an outcome where the model incorrectly predicts the negative class.\n",
        "#### Observations\n",
        "        1. We find that the accuracy of our model is quite low \n",
        "        2. The Recall is 0.58 and 0.59 for positive and negative class respectively\n",
        "        3. We find that false positives and false negatives are more compared to previous models.\n",
        "        4. The computation is better than that of KNN.\n",
        "        5. The model will not work well.\n",
        "        6. as number of dimensions increase, logistic regession results get better."
      ]
    },
    {
      "cell_type": "markdown",
      "metadata": {
        "colab_type": "text",
        "id": "bemispVtCyp-"
      },
      "source": [
        "<h1>3. Conclusions</h1>"
      ]
    },
    {
      "cell_type": "code",
      "metadata": {
        "id": "-JS_Vxbt0iDm",
        "colab_type": "code",
        "outputId": "c4b9efc2-c409-4ad3-dc63-5e08deb60775",
        "colab": {
          "base_uri": "https://localhost:8080/",
          "height": 173
        }
      },
      "source": [
        "from prettytable import PrettyTable\n",
        "#http://zetcode.com/python/prettytable/\n",
        "    \n",
        "x = PrettyTable()\n",
        "\n",
        "x.field_names = [\"Vectorizer\", \"Model\", \"Hyper parameter\", \"AUC for TEST\"]\n",
        "\n",
        "x.add_row([\"BOW\", \"Logistic Regression\",0.005 ,0.727])\n",
        "x.add_row([\"TF-IDF\", \"Logistic Regression\", 0.3, 0.688])\n",
        "x.add_row([\"AVG-W2v\", \"Logistic Regression\", 0.1, 0.69])\n",
        "x.add_row([\"TFIDF- W2V\", \"Logistic Regression\", 1, 0.682])\n",
        "x.add_row([\"Column-Frequency\", \"Logistic Regression\", 0.5, 0.61])\n",
        "\n",
        "\n",
        "print(x)"
      ],
      "execution_count": 1,
      "outputs": [
        {
          "output_type": "stream",
          "text": [
            "+------------------+---------------------+-----------------+--------------+\n",
            "|    Vectorizer    |        Model        | Hyper parameter | AUC for TEST |\n",
            "+------------------+---------------------+-----------------+--------------+\n",
            "|       BOW        | Logistic Regression |      0.005      |    0.727     |\n",
            "|      TF-IDF      | Logistic Regression |       0.3       |    0.688     |\n",
            "|     AVG-W2v      | Logistic Regression |       0.1       |     0.69     |\n",
            "|    TFIDF- W2V    | Logistic Regression |        1        |    0.682     |\n",
            "| Column-Frequency | Logistic Regression |       0.5       |     0.61     |\n",
            "+------------------+---------------------+-----------------+--------------+\n"
          ],
          "name": "stdout"
        }
      ]
    },
    {
      "cell_type": "markdown",
      "metadata": {
        "id": "xF-oy7S30pSJ",
        "colab_type": "text"
      },
      "source": [
        "### Final Observations\n",
        "    1. We've trained our data set with BOW,TF-IDF, AVG-W2V, TFIDF- W2V and word-column frequency and tested it to \n",
        "       precict whether a given project would be accepted or not.\n",
        "    2. As we couldn't find any concrete paramaters for the approval/rejection of projects in EDA, it is likely that our\n",
        "       our models couldn't be highly efficient(>90%) with given techniques either.\n",
        "    3. The computation time significantly reduced compared to the KNN.\n",
        "    4. We've incorporated every possible feature into the data to train the model efficiently in order to obtain good \n",
        "       results.\n",
        "    5. We can also see that Logistic regression works well for higher dimensions\n",
        "    6. C works opposite to the hyperparamter K in KNN. As C increases, the model overfits and as C decreases, the\n",
        "       model underfits."
      ]
    }
  ]
}