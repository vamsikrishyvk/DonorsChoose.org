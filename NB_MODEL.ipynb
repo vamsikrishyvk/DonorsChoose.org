{
  "nbformat": 4,
  "nbformat_minor": 0,
  "metadata": {
    "colab": {
      "name": "NB_MODEL.ipynb",
      "provenance": []
    },
    "kernelspec": {
      "name": "python3",
      "display_name": "Python 3"
    },
    "accelerator": "GPU"
  },
  "cells": [
    {
      "cell_type": "markdown",
      "metadata": {
        "colab_type": "text",
        "id": "-Ab-X-IrCyl0"
      },
      "source": [
        "# DonorsChoose"
      ]
    },
    {
      "cell_type": "markdown",
      "metadata": {
        "colab_type": "text",
        "id": "etNpzy7rCyl2"
      },
      "source": [
        "<p>\n",
        "DonorsChoose.org receives hundreds of thousands of project proposals each year for classroom projects in need of funding. Right now, a large number of volunteers is needed to manually screen each submission before it's approved to be posted on the DonorsChoose.org website.\n",
        "</p>\n",
        "<p>\n",
        "    Next year, DonorsChoose.org expects to receive close to 500,000 project proposals. As a result, there are three main problems they need to solve:\n",
        "<ul>\n",
        "<li>\n",
        "    How to scale current manual processes and resources to screen 500,000 projects so that they can be posted as quickly and as efficiently as possible</li>\n",
        "    <li>How to increase the consistency of project vetting across different volunteers to improve the experience for teachers</li>\n",
        "    <li>How to focus volunteer time on the applications that need the most assistance</li>\n",
        "    </ul>\n",
        "</p>    \n",
        "<p>\n",
        "The goal of the competition is to predict whether or not a DonorsChoose.org project proposal submitted by a teacher will be approved, using the text of project descriptions as well as additional metadata about the project, teacher, and school. DonorsChoose.org can then use this information to identify projects most likely to need further review before approval.\n",
        "</p>"
      ]
    },
    {
      "cell_type": "markdown",
      "metadata": {
        "colab_type": "text",
        "id": "kO2Kg7TgCyl4"
      },
      "source": [
        "## About the DonorsChoose Data Set\n",
        "\n",
        "The `train.csv` data set provided by DonorsChoose contains the following features:\n",
        "\n",
        "Feature | Description \n",
        "----------|---------------\n",
        "**`project_id`** | A unique identifier for the proposed project. **Example:** `p036502`   \n",
        "**`project_title`**    | Title of the project. **Examples:**<br><ul><li><code>Art Will Make You Happy!</code></li><li><code>First Grade Fun</code></li></ul> \n",
        "**`project_grade_category`** | Grade level of students for which the project is targeted. One of the following enumerated values: <br/><ul><li><code>Grades PreK-2</code></li><li><code>Grades 3-5</code></li><li><code>Grades 6-8</code></li><li><code>Grades 9-12</code></li></ul>  \n",
        " **`project_subject_categories`** | One or more (comma-separated) subject categories for the project from the following enumerated list of values:  <br/><ul><li><code>Applied Learning</code></li><li><code>Care &amp; Hunger</code></li><li><code>Health &amp; Sports</code></li><li><code>History &amp; Civics</code></li><li><code>Literacy &amp; Language</code></li><li><code>Math &amp; Science</code></li><li><code>Music &amp; The Arts</code></li><li><code>Special Needs</code></li><li><code>Warmth</code></li></ul><br/> **Examples:** <br/><ul><li><code>Music &amp; The Arts</code></li><li><code>Literacy &amp; Language, Math &amp; Science</code></li>  \n",
        "  **`school_state`** | State where school is located ([Two-letter U.S. postal code](https://en.wikipedia.org/wiki/List_of_U.S._state_abbreviations#Postal_codes)). **Example:** `WY`\n",
        "**`project_subject_subcategories`** | One or more (comma-separated) subject subcategories for the project. **Examples:** <br/><ul><li><code>Literacy</code></li><li><code>Literature &amp; Writing, Social Sciences</code></li></ul> \n",
        "**`project_resource_summary`** | An explanation of the resources needed for the project. **Example:** <br/><ul><li><code>My students need hands on literacy materials to manage sensory needs!</code</li></ul> \n",
        "**`project_essay_1`**    | First application essay<sup>*</sup>  \n",
        "**`project_essay_2`**    | Second application essay<sup>*</sup> \n",
        "**`project_essay_3`**    | Third application essay<sup>*</sup> \n",
        "**`project_essay_4`**    | Fourth application essay<sup>*</sup> \n",
        "**`project_submitted_datetime`** | Datetime when project application was submitted. **Example:** `2016-04-28 12:43:56.245`   \n",
        "**`teacher_id`** | A unique identifier for the teacher of the proposed project. **Example:** `bdf8baa8fedef6bfeec7ae4ff1c15c56`  \n",
        "**`teacher_prefix`** | Teacher's title. One of the following enumerated values: <br/><ul><li><code>nan</code></li><li><code>Dr.</code></li><li><code>Mr.</code></li><li><code>Mrs.</code></li><li><code>Ms.</code></li><li><code>Teacher.</code></li></ul>  \n",
        "**`teacher_number_of_previously_posted_projects`** | Number of project applications previously submitted by the same teacher. **Example:** `2` \n",
        "\n",
        "<sup>*</sup> See the section <b>Notes on the Essay Data</b> for more details about these features.\n",
        "\n",
        "Additionally, the `resources.csv` data set provides more data about the resources required for each project. Each line in this file represents a resource required by a project:\n",
        "\n",
        "Feature | Description \n",
        "----------|---------------\n",
        "**`id`** | A `project_id` value from the `train.csv` file.  **Example:** `p036502`   \n",
        "**`description`** | Desciption of the resource. **Example:** `Tenor Saxophone Reeds, Box of 25`   \n",
        "**`quantity`** | Quantity of the resource required. **Example:** `3`   \n",
        "**`price`** | Price of the resource required. **Example:** `9.95`   \n",
        "\n",
        "**Note:** Many projects require multiple resources. The `id` value corresponds to a `project_id` in train.csv, so you use it as a key to retrieve all resources needed for a project:\n",
        "\n",
        "The data set contains the following label (the value you will attempt to predict):\n",
        "\n",
        "Label | Description\n",
        "----------|---------------\n",
        "`project_is_approved` | A binary flag indicating whether DonorsChoose approved the project. A value of `0` indicates the project was not approved, and a value of `1` indicates the project was approved."
      ]
    },
    {
      "cell_type": "markdown",
      "metadata": {
        "colab_type": "text",
        "id": "dBGA_YStCyl6"
      },
      "source": [
        "### Notes on the Essay Data\n",
        "\n",
        "<ul>\n",
        "Prior to May 17, 2016, the prompts for the essays were as follows:\n",
        "<li>__project_essay_1:__ \"Introduce us to your classroom\"</li>\n",
        "<li>__project_essay_2:__ \"Tell us more about your students\"</li>\n",
        "<li>__project_essay_3:__ \"Describe how your students will use the materials you're requesting\"</li>\n",
        "<li>__project_essay_3:__ \"Close by sharing why your project will make a difference\"</li>\n",
        "</ul>\n",
        "\n",
        "\n",
        "<ul>\n",
        "Starting on May 17, 2016, the number of essays was reduced from 4 to 2, and the prompts for the first 2 essays were changed to the following:<br>\n",
        "<li>__project_essay_1:__ \"Describe your students: What makes your students special? Specific details about their background, your neighborhood, and your school are all helpful.\"</li>\n",
        "<li>__project_essay_2:__ \"About your project: How will these materials make a difference in your students' learning and improve their school lives?\"</li>\n",
        "<br>For all projects with project_submitted_datetime of 2016-05-17 and later, the values of project_essay_3 and project_essay_4 will be NaN.\n",
        "</ul>\n"
      ]
    },
    {
      "cell_type": "code",
      "metadata": {
        "id": "5SvRQrPDNdis",
        "colab_type": "code",
        "colab": {
          "base_uri": "https://localhost:8080/",
          "height": 124
        },
        "outputId": "a356d492-e592-40e0-9d1d-ccee3b329fcc"
      },
      "source": [
        "from google.colab import drive\n",
        "drive.mount('/content/drive')"
      ],
      "execution_count": 1,
      "outputs": [
        {
          "output_type": "stream",
          "text": [
            "Go to this URL in a browser: https://accounts.google.com/o/oauth2/auth?client_id=947318989803-6bn6qk8qdgf4n4g3pfee6491hc0brc4i.apps.googleusercontent.com&redirect_uri=urn%3aietf%3awg%3aoauth%3a2.0%3aoob&response_type=code&scope=email%20https%3a%2f%2fwww.googleapis.com%2fauth%2fdocs.test%20https%3a%2f%2fwww.googleapis.com%2fauth%2fdrive%20https%3a%2f%2fwww.googleapis.com%2fauth%2fdrive.photos.readonly%20https%3a%2f%2fwww.googleapis.com%2fauth%2fpeopleapi.readonly\n",
            "\n",
            "Enter your authorization code:\n",
            "··········\n",
            "Mounted at /content/drive\n"
          ],
          "name": "stdout"
        }
      ]
    },
    {
      "cell_type": "code",
      "metadata": {
        "id": "drroRH2FNd9F",
        "colab_type": "code",
        "colab": {
          "base_uri": "https://localhost:8080/",
          "height": 262
        },
        "outputId": "4bf451a6-3dee-470d-e9ca-c62b1574b5ca"
      },
      "source": [
        "!pip install chart_studio"
      ],
      "execution_count": 2,
      "outputs": [
        {
          "output_type": "stream",
          "text": [
            "Collecting chart_studio\n",
            "\u001b[?25l  Downloading https://files.pythonhosted.org/packages/ca/ce/330794a6b6ca4b9182c38fc69dd2a9cbff60fd49421cb8648ee5fee352dc/chart_studio-1.1.0-py3-none-any.whl (64kB)\n",
            "\r\u001b[K     |█████                           | 10kB 29.8MB/s eta 0:00:01\r\u001b[K     |██████████▏                     | 20kB 3.0MB/s eta 0:00:01\r\u001b[K     |███████████████▎                | 30kB 4.4MB/s eta 0:00:01\r\u001b[K     |████████████████████▍           | 40kB 3.0MB/s eta 0:00:01\r\u001b[K     |█████████████████████████▍      | 51kB 3.6MB/s eta 0:00:01\r\u001b[K     |██████████████████████████████▌ | 61kB 4.3MB/s eta 0:00:01\r\u001b[K     |████████████████████████████████| 71kB 3.7MB/s \n",
            "\u001b[?25hRequirement already satisfied: plotly in /usr/local/lib/python3.6/dist-packages (from chart_studio) (4.4.1)\n",
            "Requirement already satisfied: requests in /usr/local/lib/python3.6/dist-packages (from chart_studio) (2.21.0)\n",
            "Requirement already satisfied: six in /usr/local/lib/python3.6/dist-packages (from chart_studio) (1.12.0)\n",
            "Requirement already satisfied: retrying>=1.3.3 in /usr/local/lib/python3.6/dist-packages (from chart_studio) (1.3.3)\n",
            "Requirement already satisfied: idna<2.9,>=2.5 in /usr/local/lib/python3.6/dist-packages (from requests->chart_studio) (2.8)\n",
            "Requirement already satisfied: certifi>=2017.4.17 in /usr/local/lib/python3.6/dist-packages (from requests->chart_studio) (2019.11.28)\n",
            "Requirement already satisfied: chardet<3.1.0,>=3.0.2 in /usr/local/lib/python3.6/dist-packages (from requests->chart_studio) (3.0.4)\n",
            "Requirement already satisfied: urllib3<1.25,>=1.21.1 in /usr/local/lib/python3.6/dist-packages (from requests->chart_studio) (1.24.3)\n",
            "Installing collected packages: chart-studio\n",
            "Successfully installed chart-studio-1.1.0\n"
          ],
          "name": "stdout"
        }
      ]
    },
    {
      "cell_type": "code",
      "metadata": {
        "id": "eeA18y_ONnQT",
        "colab_type": "code",
        "colab": {}
      },
      "source": [
        "import chart_studio.plotly as py\n",
        "import plotly.graph_objs as go"
      ],
      "execution_count": 0,
      "outputs": []
    },
    {
      "cell_type": "code",
      "metadata": {
        "id": "Ck7f2nI5No5T",
        "colab_type": "code",
        "colab": {}
      },
      "source": [
        "%matplotlib inline\n",
        "import warnings\n",
        "warnings.filterwarnings(\"ignore\")\n",
        "\n",
        "import sqlite3\n",
        "import pandas as pd\n",
        "import numpy as np\n",
        "import nltk\n",
        "import string\n",
        "import matplotlib.pyplot as plt\n",
        "import seaborn as sns\n",
        "from sklearn.feature_extraction.text import TfidfTransformer\n",
        "from sklearn.feature_extraction.text import TfidfVectorizer\n",
        "\n",
        "from sklearn.feature_extraction.text import CountVectorizer\n",
        "from sklearn.metrics import confusion_matrix\n",
        "from sklearn import metrics\n",
        "from sklearn.metrics import roc_curve, auc\n",
        "from nltk.stem.porter import PorterStemmer\n",
        "\n",
        "import re\n",
        "# Tutorial about Python regular expressions: https://pymotw.com/2/re/\n",
        "import string\n",
        "from nltk.corpus import stopwords\n",
        "from nltk.stem import PorterStemmer\n",
        "from nltk.stem.wordnet import WordNetLemmatizer\n",
        "\n",
        "from gensim.models import Word2Vec\n",
        "from gensim.models import KeyedVectors\n",
        "import pickle\n",
        "\n",
        "from tqdm import tqdm\n",
        "import os\n",
        "\n",
        "\n",
        "from collections import Counter"
      ],
      "execution_count": 0,
      "outputs": []
    },
    {
      "cell_type": "markdown",
      "metadata": {
        "colab_type": "text",
        "id": "MjknLZQqCymQ"
      },
      "source": [
        "## 1.1 Reading Data"
      ]
    },
    {
      "cell_type": "code",
      "metadata": {
        "id": "zM4wfhGkNqs0",
        "colab_type": "code",
        "colab": {}
      },
      "source": [
        "project_data = pd.read_csv('/content/drive/My Drive/Copy of train_data.csv')\n",
        "resource_data = pd.read_csv('/content/drive/My Drive/Copy of resources.csv')"
      ],
      "execution_count": 0,
      "outputs": []
    },
    {
      "cell_type": "code",
      "metadata": {
        "id": "KLi8xIPuNxEj",
        "colab_type": "code",
        "colab": {
          "base_uri": "https://localhost:8080/",
          "height": 155
        },
        "outputId": "303e6e27-1fdd-495f-c7c4-1309ea5f40f0"
      },
      "source": [
        "print(\"Number of data points in train data\", project_data.shape)\n",
        "print('-'*50)\n",
        "print(\"The attributes of data :\", project_data.columns.values)"
      ],
      "execution_count": 12,
      "outputs": [
        {
          "output_type": "stream",
          "text": [
            "Number of data points in train data (109248, 17)\n",
            "--------------------------------------------------\n",
            "The attributes of data : ['Unnamed: 0' 'id' 'teacher_id' 'teacher_prefix' 'school_state'\n",
            " 'project_submitted_datetime' 'project_grade_category'\n",
            " 'project_subject_categories' 'project_subject_subcategories'\n",
            " 'project_title' 'project_essay_1' 'project_essay_2' 'project_essay_3'\n",
            " 'project_essay_4' 'project_resource_summary'\n",
            " 'teacher_number_of_previously_posted_projects' 'project_is_approved']\n"
          ],
          "name": "stdout"
        }
      ]
    },
    {
      "cell_type": "code",
      "metadata": {
        "id": "kdRyhUw0NyXy",
        "colab_type": "code",
        "colab": {
          "base_uri": "https://localhost:8080/",
          "height": 249
        },
        "outputId": "958b5d96-ab4d-4da0-f7be-66a77167dc5f"
      },
      "source": [
        "# how to replace elements in list python: https://stackoverflow.com/a/2582163/4084039\n",
        "cols = ['Date' if x=='project_submitted_datetime' else x for x in list(project_data.columns)]\n",
        "\n",
        "\n",
        "#sort dataframe based on time pandas python: https://stackoverflow.com/a/49702492/4084039\n",
        "project_data['Date'] = pd.to_datetime(project_data['project_submitted_datetime'])\n",
        "project_data.drop('project_submitted_datetime', axis=1, inplace=True)\n",
        "project_data.sort_values(by=['Date'], inplace=True)\n",
        "\n",
        "\n",
        "# how to reorder columns pandas python: https://stackoverflow.com/a/13148611/4084039\n",
        "project_data = project_data[cols]\n",
        "\n",
        "\n",
        "project_data.head(2)"
      ],
      "execution_count": 13,
      "outputs": [
        {
          "output_type": "execute_result",
          "data": {
            "text/html": [
              "<div>\n",
              "<style scoped>\n",
              "    .dataframe tbody tr th:only-of-type {\n",
              "        vertical-align: middle;\n",
              "    }\n",
              "\n",
              "    .dataframe tbody tr th {\n",
              "        vertical-align: top;\n",
              "    }\n",
              "\n",
              "    .dataframe thead th {\n",
              "        text-align: right;\n",
              "    }\n",
              "</style>\n",
              "<table border=\"1\" class=\"dataframe\">\n",
              "  <thead>\n",
              "    <tr style=\"text-align: right;\">\n",
              "      <th></th>\n",
              "      <th>Unnamed: 0</th>\n",
              "      <th>id</th>\n",
              "      <th>teacher_id</th>\n",
              "      <th>teacher_prefix</th>\n",
              "      <th>school_state</th>\n",
              "      <th>Date</th>\n",
              "      <th>project_grade_category</th>\n",
              "      <th>project_subject_categories</th>\n",
              "      <th>project_subject_subcategories</th>\n",
              "      <th>project_title</th>\n",
              "      <th>project_essay_1</th>\n",
              "      <th>project_essay_2</th>\n",
              "      <th>project_essay_3</th>\n",
              "      <th>project_essay_4</th>\n",
              "      <th>project_resource_summary</th>\n",
              "      <th>teacher_number_of_previously_posted_projects</th>\n",
              "      <th>project_is_approved</th>\n",
              "    </tr>\n",
              "  </thead>\n",
              "  <tbody>\n",
              "    <tr>\n",
              "      <th>55660</th>\n",
              "      <td>8393</td>\n",
              "      <td>p205479</td>\n",
              "      <td>2bf07ba08945e5d8b2a3f269b2b3cfe5</td>\n",
              "      <td>Mrs.</td>\n",
              "      <td>CA</td>\n",
              "      <td>2016-04-27 00:27:36</td>\n",
              "      <td>Grades PreK-2</td>\n",
              "      <td>Math &amp; Science</td>\n",
              "      <td>Applied Sciences, Health &amp; Life Science</td>\n",
              "      <td>Engineering STEAM into the Primary Classroom</td>\n",
              "      <td>I have been fortunate enough to use the Fairy ...</td>\n",
              "      <td>My students come from a variety of backgrounds...</td>\n",
              "      <td>Each month I try to do several science or STEM...</td>\n",
              "      <td>It is challenging to develop high quality scie...</td>\n",
              "      <td>My students need STEM kits to learn critical s...</td>\n",
              "      <td>53</td>\n",
              "      <td>1</td>\n",
              "    </tr>\n",
              "    <tr>\n",
              "      <th>76127</th>\n",
              "      <td>37728</td>\n",
              "      <td>p043609</td>\n",
              "      <td>3f60494c61921b3b43ab61bdde2904df</td>\n",
              "      <td>Ms.</td>\n",
              "      <td>UT</td>\n",
              "      <td>2016-04-27 00:31:25</td>\n",
              "      <td>Grades 3-5</td>\n",
              "      <td>Special Needs</td>\n",
              "      <td>Special Needs</td>\n",
              "      <td>Sensory Tools for Focus</td>\n",
              "      <td>Imagine being 8-9 years old. You're in your th...</td>\n",
              "      <td>Most of my students have autism, anxiety, anot...</td>\n",
              "      <td>It is tough to do more than one thing at a tim...</td>\n",
              "      <td>When my students are able to calm themselves d...</td>\n",
              "      <td>My students need Boogie Boards for quiet senso...</td>\n",
              "      <td>4</td>\n",
              "      <td>1</td>\n",
              "    </tr>\n",
              "  </tbody>\n",
              "</table>\n",
              "</div>"
            ],
            "text/plain": [
              "       Unnamed: 0  ... project_is_approved\n",
              "55660        8393  ...                   1\n",
              "76127       37728  ...                   1\n",
              "\n",
              "[2 rows x 17 columns]"
            ]
          },
          "metadata": {
            "tags": []
          },
          "execution_count": 13
        }
      ]
    },
    {
      "cell_type": "code",
      "metadata": {
        "id": "5Zr3sg27Rggn",
        "colab_type": "code",
        "colab": {
          "base_uri": "https://localhost:8080/",
          "height": 143
        },
        "outputId": "9e476c30-fbeb-486f-c8d7-856e005f1ebd"
      },
      "source": [
        "print(\"Number of data points in train data\", resource_data.shape)\n",
        "print(resource_data.columns.values)\n",
        "resource_data.head(2)"
      ],
      "execution_count": 14,
      "outputs": [
        {
          "output_type": "stream",
          "text": [
            "Number of data points in train data (1541272, 4)\n",
            "['id' 'description' 'quantity' 'price']\n"
          ],
          "name": "stdout"
        },
        {
          "output_type": "execute_result",
          "data": {
            "text/html": [
              "<div>\n",
              "<style scoped>\n",
              "    .dataframe tbody tr th:only-of-type {\n",
              "        vertical-align: middle;\n",
              "    }\n",
              "\n",
              "    .dataframe tbody tr th {\n",
              "        vertical-align: top;\n",
              "    }\n",
              "\n",
              "    .dataframe thead th {\n",
              "        text-align: right;\n",
              "    }\n",
              "</style>\n",
              "<table border=\"1\" class=\"dataframe\">\n",
              "  <thead>\n",
              "    <tr style=\"text-align: right;\">\n",
              "      <th></th>\n",
              "      <th>id</th>\n",
              "      <th>description</th>\n",
              "      <th>quantity</th>\n",
              "      <th>price</th>\n",
              "    </tr>\n",
              "  </thead>\n",
              "  <tbody>\n",
              "    <tr>\n",
              "      <th>0</th>\n",
              "      <td>p233245</td>\n",
              "      <td>LC652 - Lakeshore Double-Space Mobile Drying Rack</td>\n",
              "      <td>1</td>\n",
              "      <td>149.00</td>\n",
              "    </tr>\n",
              "    <tr>\n",
              "      <th>1</th>\n",
              "      <td>p069063</td>\n",
              "      <td>Bouncy Bands for Desks (Blue support pipes)</td>\n",
              "      <td>3</td>\n",
              "      <td>14.95</td>\n",
              "    </tr>\n",
              "  </tbody>\n",
              "</table>\n",
              "</div>"
            ],
            "text/plain": [
              "        id                                        description  quantity   price\n",
              "0  p233245  LC652 - Lakeshore Double-Space Mobile Drying Rack         1  149.00\n",
              "1  p069063        Bouncy Bands for Desks (Blue support pipes)         3   14.95"
            ]
          },
          "metadata": {
            "tags": []
          },
          "execution_count": 14
        }
      ]
    },
    {
      "cell_type": "markdown",
      "metadata": {
        "colab_type": "text",
        "id": "6WZaYhwJCymp"
      },
      "source": [
        "## 1.2 preprocessing of `project_subject_categories`"
      ]
    },
    {
      "cell_type": "code",
      "metadata": {
        "id": "cUBQAlhHRiKg",
        "colab_type": "code",
        "colab": {}
      },
      "source": [
        "catogories = list(project_data['project_subject_categories'].values)\n",
        "# remove special characters from list of strings python: https://stackoverflow.com/a/47301924/4084039\n",
        "\n",
        "# https://www.geeksforgeeks.org/removing-stop-words-nltk-python/\n",
        "# https://stackoverflow.com/questions/23669024/how-to-strip-a-specific-word-from-a-string\n",
        "# https://stackoverflow.com/questions/8270092/remove-all-whitespace-in-a-string-in-python\n",
        "cat_list = []\n",
        "for i in catogories:\n",
        "    temp = \"\"\n",
        "    # consider we have text like this \"Math & Science, Warmth, Care & Hunger\"\n",
        "    for j in i.split(','): # it will split it in three parts [\"Math & Science\", \"Warmth\", \"Care & Hunger\"]\n",
        "        if 'The' in j.split(): # this will split each of the catogory based on space \"Math & Science\"=> \"Math\",\"&\", \"Science\"\n",
        "            j=j.replace('The','') # if we have the words \"The\" we are going to replace it with ''(i.e removing 'The')\n",
        "        j = j.replace(' ','') # we are placeing all the ' '(space) with ''(empty) ex:\"Math & Science\"=>\"Math&Science\"\n",
        "        temp+=j.strip()+\" \" #\" abc \".strip() will return \"abc\", remove the trailing spaces\n",
        "        temp = temp.replace('&','_') # we are replacing the & value into \n",
        "    cat_list.append(temp.strip())\n",
        "    \n",
        "project_data['clean_categories'] = cat_list\n",
        "project_data.drop(['project_subject_categories'], axis=1, inplace=True)\n",
        "\n",
        "from collections import Counter\n",
        "my_counter = Counter()\n",
        "for word in project_data['clean_categories'].values:\n",
        "    my_counter.update(word.split())\n",
        "\n",
        "cat_dict = dict(my_counter)\n",
        "sorted_cat_dict = dict(sorted(cat_dict.items(), key=lambda kv: kv[1]))\n"
      ],
      "execution_count": 0,
      "outputs": []
    },
    {
      "cell_type": "markdown",
      "metadata": {
        "colab_type": "text",
        "id": "386yx3T2Cymv"
      },
      "source": [
        "## 1.3 preprocessing of `project_subject_subcategories`"
      ]
    },
    {
      "cell_type": "code",
      "metadata": {
        "id": "g_CDIybdRpJg",
        "colab_type": "code",
        "colab": {}
      },
      "source": [
        "sub_catogories = list(project_data['project_subject_subcategories'].values)\n",
        "# remove special characters from list of strings python: https://stackoverflow.com/a/47301924/4084039\n",
        "\n",
        "# https://www.geeksforgeeks.org/removing-stop-words-nltk-python/\n",
        "# https://stackoverflow.com/questions/23669024/how-to-strip-a-specific-word-from-a-string\n",
        "# https://stackoverflow.com/questions/8270092/remove-all-whitespace-in-a-string-in-python\n",
        "\n",
        "sub_cat_list = []\n",
        "for i in sub_catogories:\n",
        "    temp = \"\"\n",
        "    # consider we have text like this \"Math & Science, Warmth, Care & Hunger\"\n",
        "    for j in i.split(','): # it will split it in three parts [\"Math & Science\", \"Warmth\", \"Care & Hunger\"]\n",
        "        if 'The' in j.split(): # this will split each of the catogory based on space \"Math & Science\"=> \"Math\",\"&\", \"Science\"\n",
        "            j=j.replace('The','') # if we have the words \"The\" we are going to replace it with ''(i.e removing 'The')\n",
        "        j = j.replace(' ','') # we are placeing all the ' '(space) with ''(empty) ex:\"Math & Science\"=>\"Math&Science\"\n",
        "        temp +=j.strip()+\" \"#\" abc \".strip() will return \"abc\", remove the trailing spaces\n",
        "        temp = temp.replace('&','_')\n",
        "    sub_cat_list.append(temp.strip())\n",
        "\n",
        "project_data['clean_subcategories'] = sub_cat_list\n",
        "project_data.drop(['project_subject_subcategories'], axis=1, inplace=True)\n",
        "\n",
        "# count of all the words in corpus python: https://stackoverflow.com/a/22898595/4084039\n",
        "my_counter = Counter()\n",
        "for word in project_data['clean_subcategories'].values:\n",
        "    my_counter.update(word.split())\n",
        "    \n",
        "sub_cat_dict = dict(my_counter)\n",
        "sorted_sub_cat_dict = dict(sorted(sub_cat_dict.items(), key=lambda kv: kv[1]))"
      ],
      "execution_count": 0,
      "outputs": []
    },
    {
      "cell_type": "markdown",
      "metadata": {
        "colab_type": "text",
        "id": "NANzhWlLCynN"
      },
      "source": [
        "## 1.3 Text preprocessing"
      ]
    },
    {
      "cell_type": "code",
      "metadata": {
        "id": "af7kfEnKRs6w",
        "colab_type": "code",
        "colab": {}
      },
      "source": [
        "# merge two column text dataframe: \n",
        "project_data[\"essay\"] = project_data[\"project_essay_1\"].map(str) +\\\n",
        "                        project_data[\"project_essay_2\"].map(str) + \\\n",
        "                        project_data[\"project_essay_3\"].map(str) + \\\n",
        "                        project_data[\"project_essay_4\"].map(str)"
      ],
      "execution_count": 0,
      "outputs": []
    },
    {
      "cell_type": "code",
      "metadata": {
        "id": "3O2H-TSdRwWC",
        "colab_type": "code",
        "colab": {
          "base_uri": "https://localhost:8080/",
          "height": 335
        },
        "outputId": "dade5b50-9563-4084-c14e-6b037ccfa4b0"
      },
      "source": [
        "project_data.head(2)"
      ],
      "execution_count": 18,
      "outputs": [
        {
          "output_type": "execute_result",
          "data": {
            "text/html": [
              "<div>\n",
              "<style scoped>\n",
              "    .dataframe tbody tr th:only-of-type {\n",
              "        vertical-align: middle;\n",
              "    }\n",
              "\n",
              "    .dataframe tbody tr th {\n",
              "        vertical-align: top;\n",
              "    }\n",
              "\n",
              "    .dataframe thead th {\n",
              "        text-align: right;\n",
              "    }\n",
              "</style>\n",
              "<table border=\"1\" class=\"dataframe\">\n",
              "  <thead>\n",
              "    <tr style=\"text-align: right;\">\n",
              "      <th></th>\n",
              "      <th>Unnamed: 0</th>\n",
              "      <th>id</th>\n",
              "      <th>teacher_id</th>\n",
              "      <th>teacher_prefix</th>\n",
              "      <th>school_state</th>\n",
              "      <th>Date</th>\n",
              "      <th>project_grade_category</th>\n",
              "      <th>project_title</th>\n",
              "      <th>project_essay_1</th>\n",
              "      <th>project_essay_2</th>\n",
              "      <th>project_essay_3</th>\n",
              "      <th>project_essay_4</th>\n",
              "      <th>project_resource_summary</th>\n",
              "      <th>teacher_number_of_previously_posted_projects</th>\n",
              "      <th>project_is_approved</th>\n",
              "      <th>clean_categories</th>\n",
              "      <th>clean_subcategories</th>\n",
              "      <th>essay</th>\n",
              "    </tr>\n",
              "  </thead>\n",
              "  <tbody>\n",
              "    <tr>\n",
              "      <th>55660</th>\n",
              "      <td>8393</td>\n",
              "      <td>p205479</td>\n",
              "      <td>2bf07ba08945e5d8b2a3f269b2b3cfe5</td>\n",
              "      <td>Mrs.</td>\n",
              "      <td>CA</td>\n",
              "      <td>2016-04-27 00:27:36</td>\n",
              "      <td>Grades PreK-2</td>\n",
              "      <td>Engineering STEAM into the Primary Classroom</td>\n",
              "      <td>I have been fortunate enough to use the Fairy ...</td>\n",
              "      <td>My students come from a variety of backgrounds...</td>\n",
              "      <td>Each month I try to do several science or STEM...</td>\n",
              "      <td>It is challenging to develop high quality scie...</td>\n",
              "      <td>My students need STEM kits to learn critical s...</td>\n",
              "      <td>53</td>\n",
              "      <td>1</td>\n",
              "      <td>Math_Science</td>\n",
              "      <td>AppliedSciences Health_LifeScience</td>\n",
              "      <td>I have been fortunate enough to use the Fairy ...</td>\n",
              "    </tr>\n",
              "    <tr>\n",
              "      <th>76127</th>\n",
              "      <td>37728</td>\n",
              "      <td>p043609</td>\n",
              "      <td>3f60494c61921b3b43ab61bdde2904df</td>\n",
              "      <td>Ms.</td>\n",
              "      <td>UT</td>\n",
              "      <td>2016-04-27 00:31:25</td>\n",
              "      <td>Grades 3-5</td>\n",
              "      <td>Sensory Tools for Focus</td>\n",
              "      <td>Imagine being 8-9 years old. You're in your th...</td>\n",
              "      <td>Most of my students have autism, anxiety, anot...</td>\n",
              "      <td>It is tough to do more than one thing at a tim...</td>\n",
              "      <td>When my students are able to calm themselves d...</td>\n",
              "      <td>My students need Boogie Boards for quiet senso...</td>\n",
              "      <td>4</td>\n",
              "      <td>1</td>\n",
              "      <td>SpecialNeeds</td>\n",
              "      <td>SpecialNeeds</td>\n",
              "      <td>Imagine being 8-9 years old. You're in your th...</td>\n",
              "    </tr>\n",
              "  </tbody>\n",
              "</table>\n",
              "</div>"
            ],
            "text/plain": [
              "       Unnamed: 0  ...                                              essay\n",
              "55660        8393  ...  I have been fortunate enough to use the Fairy ...\n",
              "76127       37728  ...  Imagine being 8-9 years old. You're in your th...\n",
              "\n",
              "[2 rows x 18 columns]"
            ]
          },
          "metadata": {
            "tags": []
          },
          "execution_count": 18
        }
      ]
    },
    {
      "cell_type": "markdown",
      "metadata": {
        "id": "alCB19e6Rzij",
        "colab_type": "text"
      },
      "source": [
        "#### 1.4.2.3 Using Pretrained Models: TFIDF weighted W2V"
      ]
    },
    {
      "cell_type": "code",
      "metadata": {
        "id": "9TqqNDk0RxrC",
        "colab_type": "code",
        "colab": {
          "base_uri": "https://localhost:8080/",
          "height": 210
        },
        "outputId": "c15382ba-792f-431b-d846-2712716435c7"
      },
      "source": [
        "# printing some random reviews\n",
        "print(project_data['essay'].values[0])\n",
        "print(\"=\"*50)\n",
        "print(project_data['essay'].values[150])\n",
        "print(\"=\"*50)\n",
        "print(project_data['essay'].values[1000])\n",
        "print(\"=\"*50)\n",
        "print(project_data['essay'].values[20000])\n",
        "print(\"=\"*50)\n",
        "print(project_data['essay'].values[99999])\n",
        "print(\"=\"*50)"
      ],
      "execution_count": 19,
      "outputs": [
        {
          "output_type": "stream",
          "text": [
            "I have been fortunate enough to use the Fairy Tale STEM kits in my classroom as well as the STEM journals, which my students really enjoyed.  I would love to implement more of the Lakeshore STEM kits in my classroom for the next school year as they provide excellent and engaging STEM lessons.My students come from a variety of backgrounds, including language and socioeconomic status.  Many of them don't have a lot of experience in science and engineering and these kits give me the materials to provide these exciting opportunities for my students.Each month I try to do several science or STEM/STEAM projects.  I would use the kits and robot to help guide my science instruction in engaging and meaningful ways.  I can adapt the kits to my current language arts pacing guide where we already teach some of the material in the kits like tall tales (Paul Bunyan) or Johnny Appleseed.  The following units will be taught in the next school year where I will implement these kits: magnets, motion, sink vs. float, robots.  I often get to these units and don't know If I am teaching the right way or using the right materials.    The kits will give me additional ideas, strategies, and lessons to prepare my students in science.It is challenging to develop high quality science activities.  These kits give me the materials I need to provide my students with science activities that will go along with the curriculum in my classroom.  Although I have some things (like magnets) in my classroom, I don't know how to use them effectively.  The kits will provide me with the right amount of materials and show me how to use them in an appropriate way.\n",
            "==================================================\n",
            "I teach high school English to students with learning and behavioral disabilities. My students all vary in their ability level. However, the ultimate goal is to increase all students literacy levels. This includes their reading, writing, and communication levels.I teach a really dynamic group of students. However, my students face a lot of challenges. My students all live in poverty and in a dangerous neighborhood. Despite these challenges, I have students who have the the desire to defeat these challenges. My students all have learning disabilities and currently all are performing below grade level. My students are visual learners and will benefit from a classroom that fulfills their preferred learning style.The materials I am requesting will allow my students to be prepared for the classroom with the necessary supplies.  Too often I am challenged with students who come to school unprepared for class due to economic challenges.  I want my students to be able to focus on learning and not how they will be able to get school supplies.  The supplies will last all year.  Students will be able to complete written assignments and maintain a classroom journal.  The chart paper will be used to make learning more visual in class and to create posters to aid students in their learning.  The students have access to a classroom printer.  The toner will be used to print student work that is completed on the classroom Chromebooks.I want to try and remove all barriers for the students learning and create opportunities for learning. One of the biggest barriers is the students not having the resources to get pens, paper, and folders. My students will be able to increase their literacy skills because of this project.\n",
            "==================================================\n",
            "\\\"Life moves pretty fast. If you don't stop and look around once in awhile, you could miss it.\\\"  from the movie, Ferris Bueller's Day Off.  Think back...what do you remember about your grandparents?  How amazing would it be to be able to flip through a book to see a day in their lives?My second graders are voracious readers! They love to read both fiction and nonfiction books.  Their favorite characters include Pete the Cat, Fly Guy, Piggie and Elephant, and Mercy Watson. They also love to read about insects, space and plants. My students are hungry bookworms! My students are eager to learn and read about the world around them. My kids love to be at school and are like little sponges absorbing everything around them. Their parents work long hours and usually do not see their children. My students are usually cared for by their grandparents or a family friend. Most of my students do not have someone who speaks English at home. Thus it is difficult for my students to acquire language.Now think forward... wouldn't it mean a lot to your kids, nieces or nephews or grandchildren, to be able to see a day in your life today 30 years from now? Memories are so precious to us and being able to share these memories with future generations will be a rewarding experience.  As part of our social studies curriculum, students will be learning about changes over time.  Students will be studying photos to learn about how their community has changed over time.  In particular, we will look at photos to study how the land, buildings, clothing, and schools have changed over time.  As a culminating activity, my students will capture a slice of their history and preserve it through scrap booking. Key important events in their young lives will be documented with the date, location, and names.   Students will be using photos from home and from school to create their second grade memories.   Their scrap books will preserve their unique stories for future generations to enjoy.Your donation to this project will provide my second graders with an opportunity to learn about social studies in a fun and creative manner.  Through their scrapbooks, children will share their story with others and have a historical document for the rest of their lives.\n",
            "==================================================\n",
            "\\\"A person's a person, no matter how small.\\\" (Dr.Seuss) I teach the smallest students with the biggest enthusiasm for learning. My students learn in many different ways using all of our senses and multiple intelligences. I use a wide range of techniques to help all my students succeed. \\r\\nStudents in my class come from a variety of different backgrounds which makes for wonderful sharing of experiences and cultures, including Native Americans.\\r\\nOur school is a caring community of successful learners which can be seen through collaborative student project based learning in and out of the classroom. Kindergarteners in my class love to work with hands-on materials and have many different opportunities to practice a skill before it is mastered. Having the social skills to work cooperatively with friends is a crucial aspect of the kindergarten curriculum.Montana is the perfect place to learn about agriculture and nutrition. My students love to role play in our pretend kitchen in the early childhood classroom. I have had several kids ask me, \\\"Can we try cooking with REAL food?\\\" I will take their idea and create \\\"Common Core Cooking Lessons\\\" where we learn important math and writing concepts while cooking delicious healthy food for snack time. My students will have a grounded appreciation for the work that went into making the food and knowledge of where the ingredients came from as well as how it's healthy for their bodies. This project would expand our learning of nutrition and agricultural cooking recipes by having us peel our own apples to make homemade applesauce, make our own bread, and mix up healthy plants from our classroom garden in the spring. We will also create our own cookbooks to be printed and shared with families. \\r\\nStudents will gain math and literature skills as well as a life long enjoyment for healthy cooking.nannan\n",
            "==================================================\n",
            "My classroom consists of twenty-two amazing sixth graders from different cultures and backgrounds. They are a social bunch who enjoy working in partners and working with groups. They are hard-working and eager to head to middle school next year. My job is to get them ready to make this transition and make it as smooth as possible. In order to do this, my students need to come to school every day and feel safe and ready to learn. Because they are getting ready to head to middle school, I give them lots of choice- choice on where to sit and work, the order to complete assignments, choice of projects, etc. Part of the students feeling safe is the ability for them to come into a welcoming, encouraging environment. My room is colorful and the atmosphere is casual. I want them to take ownership of the classroom because we ALL share it together. Because my time with them is limited, I want to ensure they get the most of this time and enjoy it to the best of their abilities.Currently, we have twenty-two desks of differing sizes, yet the desks are similar to the ones the students will use in middle school. We also have a kidney table with crates for seating. I allow my students to choose their own spots while they are working independently or in groups. More often than not, most of them move out of their desks and onto the crates. Believe it or not, this has proven to be more successful than making them stay at their desks! It is because of this that I am looking toward the “Flexible Seating” option for my classroom.\\r\\n The students look forward to their work time so they can move around the room. I would like to get rid of the constricting desks and move toward more “fun” seating options. I am requesting various seating so my students have more options to sit. Currently, I have a stool and a papasan chair I inherited from the previous sixth-grade teacher as well as five milk crate seats I made, but I would like to give them more options and reduce the competition for the “good seats”. I am also requesting two rugs as not only more seating options but to make the classroom more welcoming and appealing. In order for my students to be able to write and complete work without desks, I am requesting a class set of clipboards. Finally, due to curriculum that requires groups to work together, I am requesting tables that we can fold up when we are not using them to leave more room for our flexible seating options.\\r\\nI know that with more seating options, they will be that much more excited about coming to school! Thank you for your support in making my classroom one students will remember forever!nannan\n",
            "==================================================\n"
          ],
          "name": "stdout"
        }
      ]
    },
    {
      "cell_type": "code",
      "metadata": {
        "id": "GGTv4UEDR1fC",
        "colab_type": "code",
        "colab": {}
      },
      "source": [
        "# https://stackoverflow.com/a/47091490/4084039\n",
        "import re\n",
        "\n",
        "def decontracted(phrase):\n",
        "    # specific\n",
        "    phrase = re.sub(r\"won't\", \"will not\", phrase)\n",
        "    phrase = re.sub(r\"can\\'t\", \"can not\", phrase)\n",
        "\n",
        "    # general\n",
        "    phrase = re.sub(r\"n\\'t\", \" not\", phrase)\n",
        "    phrase = re.sub(r\"\\'re\", \" are\", phrase)\n",
        "    phrase = re.sub(r\"\\'s\", \" is\", phrase)\n",
        "    phrase = re.sub(r\"\\'d\", \" would\", phrase)\n",
        "    phrase = re.sub(r\"\\'ll\", \" will\", phrase)\n",
        "    phrase = re.sub(r\"\\'t\", \" not\", phrase)\n",
        "    phrase = re.sub(r\"\\'ve\", \" have\", phrase)\n",
        "    phrase = re.sub(r\"\\'m\", \" am\", phrase)\n",
        "    return phrase"
      ],
      "execution_count": 0,
      "outputs": []
    },
    {
      "cell_type": "code",
      "metadata": {
        "id": "sahMYS5fR3JB",
        "colab_type": "code",
        "colab": {
          "base_uri": "https://localhost:8080/",
          "height": 72
        },
        "outputId": "16fc5387-2a07-4e0c-9d01-3c56996285ed"
      },
      "source": [
        "sent = decontracted(project_data['essay'].values[20000])\n",
        "print(sent)\n",
        "print(\"=\"*50)"
      ],
      "execution_count": 21,
      "outputs": [
        {
          "output_type": "stream",
          "text": [
            "\\\"A person is a person, no matter how small.\\\" (Dr.Seuss) I teach the smallest students with the biggest enthusiasm for learning. My students learn in many different ways using all of our senses and multiple intelligences. I use a wide range of techniques to help all my students succeed. \\r\\nStudents in my class come from a variety of different backgrounds which makes for wonderful sharing of experiences and cultures, including Native Americans.\\r\\nOur school is a caring community of successful learners which can be seen through collaborative student project based learning in and out of the classroom. Kindergarteners in my class love to work with hands-on materials and have many different opportunities to practice a skill before it is mastered. Having the social skills to work cooperatively with friends is a crucial aspect of the kindergarten curriculum.Montana is the perfect place to learn about agriculture and nutrition. My students love to role play in our pretend kitchen in the early childhood classroom. I have had several kids ask me, \\\"Can we try cooking with REAL food?\\\" I will take their idea and create \\\"Common Core Cooking Lessons\\\" where we learn important math and writing concepts while cooking delicious healthy food for snack time. My students will have a grounded appreciation for the work that went into making the food and knowledge of where the ingredients came from as well as how it is healthy for their bodies. This project would expand our learning of nutrition and agricultural cooking recipes by having us peel our own apples to make homemade applesauce, make our own bread, and mix up healthy plants from our classroom garden in the spring. We will also create our own cookbooks to be printed and shared with families. \\r\\nStudents will gain math and literature skills as well as a life long enjoyment for healthy cooking.nannan\n",
            "==================================================\n"
          ],
          "name": "stdout"
        }
      ]
    },
    {
      "cell_type": "code",
      "metadata": {
        "id": "Vllzg1KUR4nB",
        "colab_type": "code",
        "colab": {
          "base_uri": "https://localhost:8080/",
          "height": 54
        },
        "outputId": "fc96d424-69f3-47eb-b78e-b36d75cb592c"
      },
      "source": [
        "# \\r \\n \\t remove from string python: http://texthandler.com/info/remove-line-breaks-python/\n",
        "sent = sent.replace('\\\\r', ' ')\n",
        "sent = sent.replace('\\\\\"', ' ')\n",
        "sent = sent.replace('\\\\n', ' ')\n",
        "print(sent)"
      ],
      "execution_count": 22,
      "outputs": [
        {
          "output_type": "stream",
          "text": [
            " A person is a person, no matter how small.  (Dr.Seuss) I teach the smallest students with the biggest enthusiasm for learning. My students learn in many different ways using all of our senses and multiple intelligences. I use a wide range of techniques to help all my students succeed.   Students in my class come from a variety of different backgrounds which makes for wonderful sharing of experiences and cultures, including Native Americans.  Our school is a caring community of successful learners which can be seen through collaborative student project based learning in and out of the classroom. Kindergarteners in my class love to work with hands-on materials and have many different opportunities to practice a skill before it is mastered. Having the social skills to work cooperatively with friends is a crucial aspect of the kindergarten curriculum.Montana is the perfect place to learn about agriculture and nutrition. My students love to role play in our pretend kitchen in the early childhood classroom. I have had several kids ask me,  Can we try cooking with REAL food?  I will take their idea and create  Common Core Cooking Lessons  where we learn important math and writing concepts while cooking delicious healthy food for snack time. My students will have a grounded appreciation for the work that went into making the food and knowledge of where the ingredients came from as well as how it is healthy for their bodies. This project would expand our learning of nutrition and agricultural cooking recipes by having us peel our own apples to make homemade applesauce, make our own bread, and mix up healthy plants from our classroom garden in the spring. We will also create our own cookbooks to be printed and shared with families.   Students will gain math and literature skills as well as a life long enjoyment for healthy cooking.nannan\n"
          ],
          "name": "stdout"
        }
      ]
    },
    {
      "cell_type": "code",
      "metadata": {
        "id": "0AjCfIXRR6PC",
        "colab_type": "code",
        "colab": {
          "base_uri": "https://localhost:8080/",
          "height": 54
        },
        "outputId": "c38d3224-e8c1-4169-bd0c-a1ad36eedd0c"
      },
      "source": [
        "#remove spacial character: https://stackoverflow.com/a/5843547/4084039\n",
        "sent = re.sub('[^A-Za-z0-9]+', ' ', sent)\n",
        "print(sent)"
      ],
      "execution_count": 23,
      "outputs": [
        {
          "output_type": "stream",
          "text": [
            " A person is a person no matter how small Dr Seuss I teach the smallest students with the biggest enthusiasm for learning My students learn in many different ways using all of our senses and multiple intelligences I use a wide range of techniques to help all my students succeed Students in my class come from a variety of different backgrounds which makes for wonderful sharing of experiences and cultures including Native Americans Our school is a caring community of successful learners which can be seen through collaborative student project based learning in and out of the classroom Kindergarteners in my class love to work with hands on materials and have many different opportunities to practice a skill before it is mastered Having the social skills to work cooperatively with friends is a crucial aspect of the kindergarten curriculum Montana is the perfect place to learn about agriculture and nutrition My students love to role play in our pretend kitchen in the early childhood classroom I have had several kids ask me Can we try cooking with REAL food I will take their idea and create Common Core Cooking Lessons where we learn important math and writing concepts while cooking delicious healthy food for snack time My students will have a grounded appreciation for the work that went into making the food and knowledge of where the ingredients came from as well as how it is healthy for their bodies This project would expand our learning of nutrition and agricultural cooking recipes by having us peel our own apples to make homemade applesauce make our own bread and mix up healthy plants from our classroom garden in the spring We will also create our own cookbooks to be printed and shared with families Students will gain math and literature skills as well as a life long enjoyment for healthy cooking nannan\n"
          ],
          "name": "stdout"
        }
      ]
    },
    {
      "cell_type": "code",
      "metadata": {
        "id": "s7J3fU1bR71S",
        "colab_type": "code",
        "colab": {}
      },
      "source": [
        "# https://gist.github.com/sebleier/554280\n",
        "# we are removing the words from the stop words list: 'no', 'nor', 'not'\n",
        "stopwords= ['i', 'me', 'my', 'myself', 'we', 'our', 'ours', 'ourselves', 'you', \"you're\", \"you've\",\\\n",
        "            \"you'll\", \"you'd\", 'your', 'yours', 'yourself', 'yourselves', 'he', 'him', 'his', 'himself', \\\n",
        "            'she', \"she's\", 'her', 'hers', 'herself', 'it', \"it's\", 'its', 'itself', 'they', 'them', 'their',\\\n",
        "            'theirs', 'themselves', 'what', 'which', 'who', 'whom', 'this', 'that', \"that'll\", 'these', 'those', \\\n",
        "            'am', 'is', 'are', 'was', 'were', 'be', 'been', 'being', 'have', 'has', 'had', 'having', 'do', 'does', \\\n",
        "            'did', 'doing', 'a', 'an', 'the', 'and', 'but', 'if', 'or', 'because', 'as', 'until', 'while', 'of', \\\n",
        "            'at', 'by', 'for', 'with', 'about', 'against', 'between', 'into', 'through', 'during', 'before', 'after',\\\n",
        "            'above', 'below', 'to', 'from', 'up', 'down', 'in', 'out', 'on', 'off', 'over', 'under', 'again', 'further',\\\n",
        "            'then', 'once', 'here', 'there', 'when', 'where', 'why', 'how', 'all', 'any', 'both', 'each', 'few', 'more',\\\n",
        "            'most', 'other', 'some', 'such', 'only', 'own', 'same', 'so', 'than', 'too', 'very', \\\n",
        "            's', 't', 'can', 'will', 'just', 'don', \"don't\", 'should', \"should've\", 'now', 'd', 'll', 'm', 'o', 're', \\\n",
        "            've', 'y', 'ain', 'aren', \"aren't\", 'couldn', \"couldn't\", 'didn', \"didn't\", 'doesn', \"doesn't\", 'hadn',\\\n",
        "            \"hadn't\", 'hasn', \"hasn't\", 'haven', \"haven't\", 'isn', \"isn't\", 'ma', 'mightn', \"mightn't\", 'mustn',\\\n",
        "            \"mustn't\", 'needn', \"needn't\", 'shan', \"shan't\", 'shouldn', \"shouldn't\", 'wasn', \"wasn't\", 'weren', \"weren't\", \\\n",
        "            'won', \"won't\", 'wouldn', \"wouldn't\"]"
      ],
      "execution_count": 0,
      "outputs": []
    },
    {
      "cell_type": "code",
      "metadata": {
        "id": "krVY8GqqR9eC",
        "colab_type": "code",
        "colab": {
          "base_uri": "https://localhost:8080/",
          "height": 34
        },
        "outputId": "545fec07-037f-4cd1-bc72-994298d213aa"
      },
      "source": [
        "# Combining all the above stundents \n",
        "from tqdm import tqdm\n",
        "preprocessed_essays = []\n",
        "# tqdm is for printing the status bar\n",
        "for sentance in tqdm(project_data['essay'].values):\n",
        "    sent = decontracted(sentance)\n",
        "    sent = sent.replace('\\\\r', ' ')\n",
        "    sent = sent.replace('\\\\\"', ' ')\n",
        "    sent = sent.replace('\\\\n', ' ')\n",
        "    sent = re.sub('[^A-Za-z0-9]+', ' ', sent)\n",
        "    # https://gist.github.com/sebleier/554280\n",
        "    sent = ' '.join(e for e in sent.split() if e.lower() not in stopwords)\n",
        "    preprocessed_essays.append(sent.lower().strip())"
      ],
      "execution_count": 25,
      "outputs": [
        {
          "output_type": "stream",
          "text": [
            "100%|██████████| 109248/109248 [00:58<00:00, 1856.91it/s]\n"
          ],
          "name": "stderr"
        }
      ]
    },
    {
      "cell_type": "code",
      "metadata": {
        "id": "_pNwRIySR-7v",
        "colab_type": "code",
        "colab": {
          "base_uri": "https://localhost:8080/",
          "height": 54
        },
        "outputId": "2d5a7599-9935-4778-ac28-9b410fc7c7ae"
      },
      "source": [
        "# after preprocesing\n",
        "preprocessed_essays[20000]"
      ],
      "execution_count": 26,
      "outputs": [
        {
          "output_type": "execute_result",
          "data": {
            "text/plain": [
              "'person person no matter small dr seuss teach smallest students biggest enthusiasm learning students learn many different ways using senses multiple intelligences use wide range techniques help students succeed students class come variety different backgrounds makes wonderful sharing experiences cultures including native americans school caring community successful learners seen collaborative student project based learning classroom kindergarteners class love work hands materials many different opportunities practice skill mastered social skills work cooperatively friends crucial aspect kindergarten curriculum montana perfect place learn agriculture nutrition students love role play pretend kitchen early childhood classroom several kids ask try cooking real food take idea create common core cooking lessons learn important math writing concepts cooking delicious healthy food snack time students grounded appreciation work went making food knowledge ingredients came well healthy bodies project would expand learning nutrition agricultural cooking recipes us peel apples make homemade applesauce make bread mix healthy plants classroom garden spring also create cookbooks printed shared families students gain math literature skills well life long enjoyment healthy cooking nannan'"
            ]
          },
          "metadata": {
            "tags": []
          },
          "execution_count": 26
        }
      ]
    },
    {
      "cell_type": "markdown",
      "metadata": {
        "colab_type": "text",
        "id": "QeUw6WMKCyn7"
      },
      "source": [
        "<h2><font color='black'> 1.4 Preprocessing of `project_title`</font></h2>"
      ]
    },
    {
      "cell_type": "code",
      "metadata": {
        "id": "74qyKQoPSBTf",
        "colab_type": "code",
        "colab": {
          "base_uri": "https://localhost:8080/",
          "height": 52
        },
        "outputId": "b14a2caf-609c-4f9c-cd83-99eb662049bd"
      },
      "source": [
        "# similarly you can preprocess the titles also\n",
        "from tqdm import tqdm\n",
        "preprocessed_titles = []\n",
        "# tqdm is for printing the status bar\n",
        "for sentance in tqdm(project_data['project_title'].values):\n",
        "    sent = decontracted(sentance)\n",
        "    sent = sent.replace('\\\\r', ' ')\n",
        "    sent = sent.replace('\\\\\"', ' ')\n",
        "    sent = sent.replace('\\\\n', ' ')\n",
        "    sent = re.sub('[^A-Za-z0-9]+', ' ', sent)\n",
        "    # https://gist.github.com/sebleier/554280\n",
        "    sent = ' '.join(e for e in sent.split() if e.lower() not in stopwords)\n",
        "    preprocessed_titles.append(sent.lower().strip())\n",
        "preprocessed_titles[2]"
      ],
      "execution_count": 27,
      "outputs": [
        {
          "output_type": "stream",
          "text": [
            "100%|██████████| 109248/109248 [00:02<00:00, 44338.80it/s]\n"
          ],
          "name": "stderr"
        },
        {
          "output_type": "execute_result",
          "data": {
            "text/plain": [
              "'mobile learning mobile listening center'"
            ]
          },
          "metadata": {
            "tags": []
          },
          "execution_count": 27
        }
      ]
    },
    {
      "cell_type": "markdown",
      "metadata": {
        "id": "8wkxclSm907W",
        "colab_type": "text"
      },
      "source": [
        "### resource summary"
      ]
    },
    {
      "cell_type": "code",
      "metadata": {
        "id": "xD5Gagx4SGbA",
        "colab_type": "code",
        "colab": {
          "base_uri": "https://localhost:8080/",
          "height": 52
        },
        "outputId": "8ae2dbb2-8fa6-450f-db35-ac274903fda2"
      },
      "source": [
        "from tqdm import tqdm\n",
        "preprocessed_summary = []\n",
        "# tqdm is for printing the status bar\n",
        "for sentance in tqdm(project_data['project_resource_summary'].values):\n",
        "    sent = decontracted(sentance)\n",
        "    sent = sent.replace('\\\\r', ' ')\n",
        "    sent = sent.replace('\\\\\"', ' ')\n",
        "    sent = sent.replace('\\\\n', ' ')\n",
        "    sent = re.sub('[^A-Za-z0-9]+', ' ', sent)\n",
        "    # https://gist.github.com/sebleier/554280\n",
        "    sent = ' '.join(e for e in sent.split() if e.lower() not in stopwords)\n",
        "    preprocessed_summary.append(sent.lower().strip())\n",
        "preprocessed_summary[2]"
      ],
      "execution_count": 28,
      "outputs": [
        {
          "output_type": "stream",
          "text": [
            "100%|██████████| 109248/109248 [00:05<00:00, 18366.07it/s]\n"
          ],
          "name": "stderr"
        },
        {
          "output_type": "execute_result",
          "data": {
            "text/plain": [
              "'students need mobile listening center able enhance learning'"
            ]
          },
          "metadata": {
            "tags": []
          },
          "execution_count": 28
        }
      ]
    },
    {
      "cell_type": "markdown",
      "metadata": {
        "colab_type": "text",
        "id": "NQg4ZfFtCyn9"
      },
      "source": [
        "## 1.5 Preparing data for models"
      ]
    },
    {
      "cell_type": "code",
      "metadata": {
        "id": "DkaL5NUzSKGA",
        "colab_type": "code",
        "colab": {
          "base_uri": "https://localhost:8080/",
          "height": 138
        },
        "outputId": "8289e9dd-4d02-4196-8f0b-e21766aba59f"
      },
      "source": [
        "project_data.columns"
      ],
      "execution_count": 29,
      "outputs": [
        {
          "output_type": "execute_result",
          "data": {
            "text/plain": [
              "Index(['Unnamed: 0', 'id', 'teacher_id', 'teacher_prefix', 'school_state',\n",
              "       'Date', 'project_grade_category', 'project_title', 'project_essay_1',\n",
              "       'project_essay_2', 'project_essay_3', 'project_essay_4',\n",
              "       'project_resource_summary',\n",
              "       'teacher_number_of_previously_posted_projects', 'project_is_approved',\n",
              "       'clean_categories', 'clean_subcategories', 'essay'],\n",
              "      dtype='object')"
            ]
          },
          "metadata": {
            "tags": []
          },
          "execution_count": 29
        }
      ]
    },
    {
      "cell_type": "markdown",
      "metadata": {
        "colab_type": "text",
        "id": "6FDsc1epCyoD"
      },
      "source": [
        "we are going to consider\n",
        "\n",
        "       - school_state : categorical data\n",
        "       - clean_categories : categorical data\n",
        "       - clean_subcategories : categorical data\n",
        "       - project_grade_category : categorical data\n",
        "       - teacher_prefix : categorical data\n",
        "       \n",
        "       - project_title : text data\n",
        "       - text : text data\n",
        "       - project_resource_summary: text data (optinal)\n",
        "       \n",
        "       - quantity : numerical (optinal)\n",
        "       - teacher_number_of_previously_posted_projects : numerical\n",
        "       - price : numerical"
      ]
    },
    {
      "cell_type": "markdown",
      "metadata": {
        "colab_type": "text",
        "id": "0d0QeeQ-CyoD"
      },
      "source": [
        "### 1.5.1 Vectorizing Categorical data"
      ]
    },
    {
      "cell_type": "markdown",
      "metadata": {
        "colab_type": "text",
        "id": "YHwGesZUCyo1"
      },
      "source": [
        "#### 1.5.2.3 Using Pretrained Models: Avg W2V"
      ]
    },
    {
      "cell_type": "code",
      "metadata": {
        "id": "bFldbNN3SPiO",
        "colab_type": "code",
        "colab": {}
      },
      "source": [
        "# stronging variables into pickle files python: http://www.jessicayung.com/how-to-use-pickle-to-save-and-load-variables-in-python/\n",
        "# make sure you have the glove_vectors file\n",
        "with open('/content/drive/My Drive/6_Donors_choose_NB/glove_vectors', 'rb') as f:\n",
        "    model = pickle.load(f)\n",
        "    glove_words =  set(model.keys())"
      ],
      "execution_count": 0,
      "outputs": []
    },
    {
      "cell_type": "markdown",
      "metadata": {
        "colab_type": "text",
        "id": "6Em6Kb2-CypR"
      },
      "source": [
        "### 1.5.3 Vectorizing Numerical features"
      ]
    },
    {
      "cell_type": "code",
      "metadata": {
        "id": "H6wk5gobSW-U",
        "colab_type": "code",
        "colab": {}
      },
      "source": [
        "price_data = resource_data.groupby('id').agg({'price':'sum', 'quantity':'sum'}).reset_index()\n",
        "project_data = pd.merge(project_data, price_data, on='id', how='left')"
      ],
      "execution_count": 0,
      "outputs": []
    },
    {
      "cell_type": "code",
      "metadata": {
        "id": "J-xbQGaLSj4j",
        "colab_type": "code",
        "colab": {
          "base_uri": "https://localhost:8080/",
          "height": 34
        },
        "outputId": "857420d9-d43e-4037-a8d0-57cb7a184046"
      },
      "source": [
        "# check this one: https://www.youtube.com/watch?v=0HOqOcln3Z4&t=530s\n",
        "# standardization sklearn: https://scikit-learn.org/stable/modules/generated/sklearn.preprocessing.StandardScaler.html\n",
        "from sklearn.preprocessing import StandardScaler\n",
        "\n",
        "# price_standardized = standardScalar.fit(project_data['price'].values)\n",
        "# this will rise the error\n",
        "# ValueError: Expected 2D array, got 1D array instead: array=[725.05 213.03 329.   ... 399.   287.73   5.5 ].\n",
        "# Reshape your data either using array.reshape(-1, 1)\n",
        "\n",
        "price_scalar = StandardScaler()\n",
        "price_scalar.fit(project_data['price'].values.reshape(-1,1)) # finding the mean and standard deviation of this data\n",
        "print(f\"Mean : {price_scalar.mean_[0]}, Standard deviation : {np.sqrt(price_scalar.var_[0])}\")\n",
        "\n",
        "# Now standardize the data with above maen and variance.\n",
        "price_standardized = price_scalar.transform(project_data['price'].values.reshape(-1, 1))"
      ],
      "execution_count": 33,
      "outputs": [
        {
          "output_type": "stream",
          "text": [
            "Mean : 298.1193425966608, Standard deviation : 367.49634838483496\n"
          ],
          "name": "stdout"
        }
      ]
    },
    {
      "cell_type": "markdown",
      "metadata": {
        "colab_type": "text",
        "id": "u7svGNyWCypl"
      },
      "source": [
        "<h1>2. Naive Bayesr</h1>"
      ]
    },
    {
      "cell_type": "markdown",
      "metadata": {
        "colab_type": "text",
        "id": "W6fBRNBMCypl"
      },
      "source": [
        "<h2>2.1 Splitting data into Train and cross validation(or test): Stratified Sampling</h2>"
      ]
    },
    {
      "cell_type": "code",
      "metadata": {
        "id": "f_1rN5A_SldS",
        "colab_type": "code",
        "colab": {
          "base_uri": "https://localhost:8080/",
          "height": 294
        },
        "outputId": "e5a067c9-227d-4e3d-8b7d-f6fa40a94dfa"
      },
      "source": [
        "#prepare a dataframe  \n",
        "print(project_data.columns)\n",
        "#print(project_data[\"Date\"].head(10))\n",
        "#must inlcude categories,subcategories, preprocessed essay,preprocessed title,state,grade and prefix\n",
        "print(\"=\"*70)\n",
        "important_data= project_data[['teacher_number_of_previously_posted_projects','teacher_prefix', 'school_state','Date', 'project_grade_category','project_is_approved','clean_categories', 'clean_subcategories','price']].copy()\n",
        "#include preprocessed titles,essays\n",
        "#important_data = important_data.sort_values(by = \"Date\")\n",
        "#print(important_data[\"Date\"].head(10))\n",
        "important_data[\"teacher_prefix\"].fillna(\"None\", inplace = True)\n",
        "important_data[\"processed_essays\"]= preprocessed_essays\n",
        "important_data[\"processed_titles\"]= preprocessed_titles\n",
        "important_data[\"processed_summary\"]= preprocessed_summary\n",
        "print(important_data.columns)\n",
        "print(\"=\"*70)\n",
        "print(\"shape of new data is: \",important_data.shape)\n",
        "#important_data.project_is_approved = important_data.project_is_approved.map({0.0: -1, 1.0: 1})\n"
      ],
      "execution_count": 34,
      "outputs": [
        {
          "output_type": "stream",
          "text": [
            "Index(['Unnamed: 0', 'id', 'teacher_id', 'teacher_prefix', 'school_state',\n",
            "       'Date', 'project_grade_category', 'project_title', 'project_essay_1',\n",
            "       'project_essay_2', 'project_essay_3', 'project_essay_4',\n",
            "       'project_resource_summary',\n",
            "       'teacher_number_of_previously_posted_projects', 'project_is_approved',\n",
            "       'clean_categories', 'clean_subcategories', 'essay', 'price',\n",
            "       'quantity'],\n",
            "      dtype='object')\n",
            "======================================================================\n",
            "Index(['teacher_number_of_previously_posted_projects', 'teacher_prefix',\n",
            "       'school_state', 'Date', 'project_grade_category', 'project_is_approved',\n",
            "       'clean_categories', 'clean_subcategories', 'price', 'processed_essays',\n",
            "       'processed_titles', 'processed_summary'],\n",
            "      dtype='object')\n",
            "======================================================================\n",
            "shape of new data is:  (109248, 12)\n"
          ],
          "name": "stdout"
        }
      ]
    },
    {
      "cell_type": "code",
      "metadata": {
        "id": "TAE-IsbOSrQw",
        "colab_type": "code",
        "colab": {}
      },
      "source": [
        "#splitting data into train test and cv\n",
        "#https://stackoverflow.com/questions/24147278/how-do-i-create-test-and-train-samples-from-one-dataframe-with-pandas\n",
        "from sklearn.model_selection import train_test_split\n",
        "train_data1, data_test= train_test_split(important_data, test_size=0.2, random_state=0)#splitting data into train and test\n",
        "data_train, data_cv= train_test_split(train_data1, test_size= 0.25, random_state=0)\n",
        "Y_train= data_train[\"project_is_approved\"].values.reshape(-1,1)\n",
        "Y_test=  data_test[\"project_is_approved\"].values.reshape(-1,1)\n",
        "Y_cv=  data_cv[\"project_is_approved\"].values.reshape(-1,1)\n"
      ],
      "execution_count": 0,
      "outputs": []
    },
    {
      "cell_type": "code",
      "metadata": {
        "id": "PgrLl_wJSwgw",
        "colab_type": "code",
        "colab": {
          "base_uri": "https://localhost:8080/",
          "height": 69
        },
        "outputId": "62dcec7c-0ca4-429a-9e8a-b9b67cab966d"
      },
      "source": [
        "print(\"the shape of train data is: \",data_train.shape) \n",
        "print(\"the shape of test data is: \",data_test.shape)\n",
        "print(\"the shape of cv data is: \",data_cv.shape)\n"
      ],
      "execution_count": 36,
      "outputs": [
        {
          "output_type": "stream",
          "text": [
            "the shape of train data is:  (65548, 12)\n",
            "the shape of test data is:  (21850, 12)\n",
            "the shape of cv data is:  (21850, 12)\n"
          ],
          "name": "stdout"
        }
      ]
    },
    {
      "cell_type": "markdown",
      "metadata": {
        "colab_type": "text",
        "id": "VG7SrQdCCypn"
      },
      "source": [
        "<h2>2.2 Make Data Model Ready: encoding numerical, categorical features, essays and titles</h2>"
      ]
    },
    {
      "cell_type": "code",
      "metadata": {
        "id": "kUsNjrAQSzCA",
        "colab_type": "code",
        "colab": {}
      },
      "source": [
        "def data_modelling(y,x,z,u):#function for vectorizing numerical,categorical data along with essays and titles\n",
        "    %matplotlib inline\n",
        "    import warnings\n",
        "    warnings.filterwarnings(\"ignore\")\n",
        "\n",
        "    import sqlite3\n",
        "    import pandas as pd\n",
        "    import numpy as np\n",
        "    import nltk\n",
        "    import string\n",
        "    import matplotlib.pyplot as plt\n",
        "    import seaborn as sns\n",
        "    from sklearn.feature_extraction.text import TfidfTransformer\n",
        "    from sklearn.feature_extraction.text import TfidfVectorizer\n",
        "\n",
        "    from sklearn.feature_extraction.text import CountVectorizer\n",
        "    from sklearn.metrics import confusion_matrix\n",
        "    from sklearn import metrics\n",
        "    from sklearn.metrics import roc_curve, auc\n",
        "    from nltk.stem.porter import PorterStemmer\n",
        "\n",
        "    import re\n",
        "    # Tutorial about Python regular expressions: https://pymotw.com/2/re/\n",
        "    import string\n",
        "    from nltk.corpus import stopwords\n",
        "    from nltk.stem import PorterStemmer\n",
        "    from nltk.stem.wordnet import WordNetLemmatizer\n",
        "\n",
        "    from gensim.models import Word2Vec\n",
        "    from gensim.models import KeyedVectors\n",
        "    import pickle\n",
        "\n",
        "    from tqdm import tqdm\n",
        "    import os\n",
        "\n",
        "\n",
        "    from collections import Counter\n",
        "    \n",
        "    #state encoding\n",
        "    from collections import Counter\n",
        "    my_count = Counter()\n",
        "    for wor in x['school_state'].values:\n",
        "        my_count.update(wor.split())\n",
        "    cat_dicti = dict(my_count)\n",
        "    #print(my_count)\n",
        "    sorted_cat_dicti = dict(sorted(cat_dicti.items(), key=lambda kv: kv[1]))\n",
        "\n",
        "    vectorize = CountVectorizer(vocabulary=list(sorted_cat_dicti.keys()), lowercase=False, binary=True)\n",
        "    vectorize.fit(x['school_state'].values)\n",
        "    a1= vectorize.get_feature_names()\n",
        "\n",
        "    categories_state = vectorize.transform(x['school_state'].values)\n",
        "    categories_state1 = vectorize.transform(z['school_state'].values)\n",
        "    categories_state2 = vectorize.transform(u['school_state'].values)\n",
        "    #print(\"Shape of matrix after one hot encodig \",categories_state.shape)\n",
        "    #print(\"=\"*50)\n",
        "    ##############\n",
        "\n",
        "    #teacher_prefix encoding\n",
        "    from tqdm import tqdm\n",
        "    import string\n",
        "    \n",
        "    #https://www.geeksforgeeks.org/python-pandas-dataframe-fillna-to-replace-null-values-in-dataframe/\n",
        "    my_coun = Counter()\n",
        "    for wo in x.teacher_prefix.values:\n",
        "        my_coun.update(wo.split())\n",
        "    cat_dictio = dict(my_coun)\n",
        "    sorted_cat_dictio = dict(sorted(cat_dictio.items(), key=lambda kv: kv[1]))\n",
        "\n",
        "    vectoriz = CountVectorizer(vocabulary=list(sorted_cat_dictio.keys()), lowercase=False, binary=True)\n",
        "    vectoriz.fit(x['teacher_prefix'].values)\n",
        "    a2= vectoriz.get_feature_names()#print(vectoriz.get_feature_names())\n",
        "    categories_prefix = vectoriz.transform(x['teacher_prefix'].values)\n",
        "    categories_prefix1 = vectoriz.transform(z['teacher_prefix'].values)\n",
        "    categories_prefix2 = vectoriz.transform(u['teacher_prefix'].values)\n",
        "    #print(\"Shape of matrix after one hot encoding \",categories_prefix.shape)\n",
        "    #print(\"=\"*50)\n",
        "\n",
        "\n",
        "    #project grade category\n",
        "    my_count = Counter()\n",
        "    for w in x['project_grade_category'].values:\n",
        "        my_count.update(w.split(\",\"))\n",
        "    cat_dic = dict(my_count)\n",
        "    sorted_cat_dic = dict(sorted(cat_dic.items(), key=lambda kv: kv[1]))\n",
        "\n",
        "    vector = CountVectorizer(vocabulary=list(sorted_cat_dic.keys()), lowercase=False, binary=True)\n",
        "    vector.fit(x['project_grade_category'].values)\n",
        "    a3= vector.get_feature_names()\n",
        "    categories_grade= vector.transform(x['project_grade_category'].values)\n",
        "    categories_grade1= vector.transform(z['project_grade_category'].values)\n",
        "    categories_grade2= vector.transform(u['project_grade_category'].values)\n",
        "    #print(\"Shape of matrix after one hot encoding \",categories_grade.shape)\n",
        "    #print(\"=\"*50)\n",
        "\n",
        "\n",
        "    #categories_encoding\n",
        "    from collections import Counter\n",
        "    my_counter = Counter()\n",
        "    for word in x['clean_categories'].values:\n",
        "        my_counter.update(word.split())\n",
        "\n",
        "    cat_dict = dict(my_counter)\n",
        "    sorted_cat_dict = dict(sorted(cat_dict.items(), key=lambda kv: kv[1]))\n",
        "    from sklearn.feature_extraction.text import CountVectorizer\n",
        "    vectorizer = CountVectorizer(vocabulary=list(sorted_cat_dict.keys()), lowercase=False, binary=True)\n",
        "    categories_one_hot= vectorizer.fit_transform(x['clean_categories'].values)\n",
        "    categories_one_hot1= vectorizer.fit_transform(z['clean_categories'].values)\n",
        "    categories_one_hot2= vectorizer.fit_transform(u['clean_categories'].values)\n",
        "    a4= vectorizer.get_feature_names()\n",
        "    #print(\"Shape of matrix after one hot encoding \",categories_one_hot.shape)\n",
        "    #print(\"=\"*50)\n",
        "\n",
        "\n",
        "    #sub_categories_encoding\n",
        "    my_counter = Counter()\n",
        "    for word in x['clean_subcategories'].values:\n",
        "        my_counter.update(word.split())    \n",
        "    sub_cat_dict = dict(my_counter)\n",
        "    sorted_sub_cat_dict = dict(sorted(sub_cat_dict.items(), key=lambda kv: kv[1]))\n",
        "\n",
        "    vectorizer = CountVectorizer(vocabulary=list(sorted_sub_cat_dict.keys()), lowercase=False, binary=True)\n",
        "    sub_categories_one_hot = vectorizer.fit_transform(x['clean_subcategories'].values)\n",
        "    sub_categories_one_hot1 = vectorizer.fit_transform(z['clean_subcategories'].values)\n",
        "    sub_categories_one_hot2 = vectorizer.fit_transform(u['clean_subcategories'].values)\n",
        "    a5= vectorizer.get_feature_names()\n",
        "    #rint(\"Shape of matrix after one hot encoding \",sub_categories_one_hot.shape)\n",
        "    #print(\"=\"*50)\n",
        "\n",
        "    #price_standardization\n",
        "    from sklearn.preprocessing import StandardScaler\n",
        "\n",
        "    # price_standardized = standardScalar.fit(project_data['price'].values)\n",
        "    # this will rise the error\n",
        "    # ValueError: Expected 2D array, got 1D array instead: array=[725.05 213.03 329.   ... 399.   287.73   5.5 ].\n",
        "    # Reshape your data either using array.reshape(-1, 1)\n",
        "\n",
        "    price_scalar = StandardScaler()\n",
        "    price_scalar.fit(x['price'].values.reshape(-1,1)) # finding the mean and standard deviation of this data\n",
        "    price_standardized= price_scalar.transform(x['price'].values.reshape(-1, 1))\n",
        "    price_standardized1= price_scalar.transform(z['price'].values.reshape(-1, 1))\n",
        "    price_standardized2= price_scalar.transform(u['price'].values.reshape(-1, 1))\n",
        "    #print(\"the shape of matrix for price is: \", price_standardized.shape)\n",
        "    #print(\"=\"*50)\n",
        "    a6= [\"price\"]\n",
        "    #number_of_previously_posted_projects\n",
        "    from sklearn.preprocessing import StandardScaler\n",
        "    project_scalar = StandardScaler()\n",
        "    project_scalar.fit(x['teacher_number_of_previously_posted_projects'].values.reshape(-1,1)) # finding the mean and standard deviation of this data\n",
        "    project_standardized= project_scalar.transform(x['teacher_number_of_previously_posted_projects'].values.reshape(-1, 1))\n",
        "    project_standardized1= project_scalar.transform(z['teacher_number_of_previously_posted_projects'].values.reshape(-1, 1))\n",
        "    project_standardized2= project_scalar.transform(u['teacher_number_of_previously_posted_projects'].values.reshape(-1, 1))\n",
        "    a7= [\"number_of_projects\"]\n",
        "    #print(\"the shape of matrix for price is: \", price_standardized.shape)\n",
        "    #print(\"=\"*50)\n",
        "    from scipy.sparse import hstack\n",
        "    if y==0:\n",
        "        X1_model= hstack((categories_prefix,categories_state,categories_grade,categories_one_hot,sub_categories_one_hot, price_standardized))\n",
        "        #print(\"x1\",X1_model.shape)\n",
        "        return X1_model\n",
        "    if y==1:\n",
        "        #project_essay \n",
        "        #bow\n",
        "        vectorizer = CountVectorizer(min_df=5)\n",
        "        vectorizer.fit(x.processed_essays)\n",
        "        a8= vectorizer.get_feature_names()\n",
        "        text_bow= vectorizer.transform(x.processed_essays)\n",
        "        A= text_bow\n",
        "        #print(\"Shape of matrix after one hot encoding(BOW): \",text_bow.shape)\n",
        "        #print(\"=\"*50)\n",
        "        ###########\n",
        "        #summary\n",
        "        vectorizerc = CountVectorizer(min_df=5)\n",
        "        vectorizerc.fit(x.processed_summary)\n",
        "        a9= vectorizerc.get_feature_names()\n",
        "        resource_bow= vectorizerc.transform(x.processed_summary)\n",
        "        A1= resource_bow\n",
        "        #project_title\n",
        "        #bow\n",
        "        vectorizers = CountVectorizer(min_df=5)\n",
        "        vectorizers.fit(x.processed_titles)\n",
        "        a10= vectorizers.get_feature_names()\n",
        "        text_bowt= vectorizers.transform(x.processed_titles)\n",
        "        B= text_bowt\n",
        "        #print(B.shape)\n",
        "        from scipy.sparse import hstack\n",
        "        D=vectorizer.transform(z.processed_essays)\n",
        "        A2= vectorizerc.transform(z.processed_summary)\n",
        "        #print(D.shape)\n",
        "        E=vectorizers.transform(z.processed_titles)\n",
        "        #print(E.shape)\n",
        "        #a_b= z  \n",
        "        F=vectorizer.transform(u.processed_essays)\n",
        "        G=vectorizers.transform(u.processed_titles)\n",
        "        A3= vectorizerc.transform(u.processed_summary)\n",
        "    \n",
        "        print(\"All the features are encoded successfully and BOW is used! \")\n",
        "        #print(\"=\"*50)\n",
        "    if y==2:\n",
        "        #project_essay\n",
        "        #tfidf\n",
        "        vectorizer = TfidfVectorizer(min_df=5)\n",
        "        vectorizer.fit(x.processed_essays)\n",
        "        a8= vectorizer.get_feature_names()\n",
        "        text_tfidf= vectorizer.transform(x.processed_essays)\n",
        "        A= text_tfidf\n",
        "        \n",
        "        #print(\"Shape of matrix after one hot encoding(BOW): \",text_bow.shape)\n",
        "        #print(\"=\"*50)\n",
        "        #review\n",
        "        vectorizerc = TfidfVectorizer(min_df=5)\n",
        "        vectorizerc.fit(x.processed_summary)\n",
        "        a10= vectorizerc.get_feature_names()\n",
        "        A1= vectorizerc.transform(x.processed_summary)\n",
        "        A2= vectorizerc.transform(z.processed_summary)\n",
        "        A3= vectorizerc.transform(u.processed_summary)\n",
        "        \n",
        "        \n",
        "        #project_title\n",
        "        vectorizers = TfidfVectorizer(min_df=5)\n",
        "        vectorizers.fit(x.processed_titles)\n",
        "        a9= vectorizers.get_feature_names()\n",
        "        text_tfidft= vectorizers.transform(x.processed_titles)\n",
        "        B= text_tfidft\n",
        "        #print(B.shape)\n",
        "        from scipy.sparse import hstack\n",
        "        D=vectorizer.transform(z.processed_essays)\n",
        "        #print(D.shape)\n",
        "        E=vectorizers.transform(z.processed_titles)   \n",
        "        F=vectorizer.transform(u.processed_essays)\n",
        "        G=vectorizers.transform(u.processed_titles)\n",
        "        print(\"All the features are encoded successfully and TF-IDF is used! \")\n",
        "        #print(\"=\"*50)\n",
        "    if y==3:\n",
        "        A,B,A1= pre_model(1,x)\n",
        "        D,E,A2= pre_model(1,z)\n",
        "        F,G,A3= pre_model(1,u)\n",
        "        print(\"All the features are encoded successfully and AVG-W2V is used! \")\n",
        "    if y==4:\n",
        "        A,B,A1= pre_model(2,x)\n",
        "        D,E,A2= pre_model(2,z)\n",
        "        F,G,A3= pre_model(2,u)\n",
        "\n",
        "        print(\"All the features are encoded successfully and TFIDF-W2V is used! \")\n",
        "    from scipy.sparse import hstack\n",
        "    X_model= hstack((x['teacher_number_of_previously_posted_projects'].values.reshape(-1, 1),categories_prefix,categories_state,categories_grade,categories_one_hot,sub_categories_one_hot,x['price'].values.reshape(-1, 1),A,B,A1))\n",
        "    Y_model= hstack((z['teacher_number_of_previously_posted_projects'].values.reshape(-1, 1),categories_prefix1,categories_state1,categories_grade1,categories_one_hot1,sub_categories_one_hot1,z['price'].values.reshape(-1, 1),D,E,A2))\n",
        "    Z_model= hstack((u['teacher_number_of_previously_posted_projects'].values.reshape(-1, 1),categories_prefix2,categories_state2,categories_grade2,categories_one_hot2,sub_categories_one_hot2,u['price'].values.reshape(-1, 1),F,G,A3))\n",
        "    #print(\"x model\", X_model.shape)\n",
        "    X_model= X_model.tocsr()\n",
        "    Y_model= Y_model.tocsr()\n",
        "    Z_model= Z_model.tocsr()\n",
        "    afinal= a7+a2+a1+a3+a4+a5+a6+a8+a10+a9\n",
        "    #X_model= X_model[:, :-2]\n",
        "    #print(X_model.shape)\n",
        "    return X_model,Y_model,Z_model,afinal\n"
      ],
      "execution_count": 0,
      "outputs": []
    },
    {
      "cell_type": "markdown",
      "metadata": {
        "id": "bk0IxPcg907z",
        "colab_type": "text"
      },
      "source": [
        "<h2>2.4 Appling NB() on different kind of featurization as mentioned in the instructions</h2>\n",
        "\n",
        "<br>Apply Naive Bayes on different kind of featurization as mentioned in the instructions\n",
        "<br> For Every model that you work on make sure you do the step 2 and step 3 of instrucations"
      ]
    },
    {
      "cell_type": "markdown",
      "metadata": {
        "colab_type": "text",
        "id": "B1dIm8PiCypw"
      },
      "source": [
        "### 2.4.1 Applying Naive Bayes on BOW,<font color='red'> SET 1</font>"
      ]
    },
    {
      "cell_type": "code",
      "metadata": {
        "id": "AmOXb42US6my",
        "colab_type": "code",
        "colab": {
          "base_uri": "https://localhost:8080/",
          "height": 86
        },
        "outputId": "c2ff2880-fea3-4fb4-e3a4-efb19386ce82"
      },
      "source": [
        "#emcoding data using data modelling function\n",
        "x1_train, x1_test,x1_cv,feature_names= data_modelling(1,data_train,data_test,data_cv)\n",
        "print(\"The shape of training data after encoding: \",x1_train.shape , \"Y_train: \", Y_train.shape)\n",
        "print(\"The shape of testing data after encoding: \",x1_test.shape , \"Y_test: \", Y_test.shape)\n",
        "print(\"The shape of cross validation data after encoding: \",x1_cv.shape,\"Y_cv: \",Y_cv.shape)"
      ],
      "execution_count": 40,
      "outputs": [
        {
          "output_type": "stream",
          "text": [
            "All the features are encoded successfully and BOW is used! \n",
            "The shape of training data after encoding:  (65548, 28477) Y_train:  (65548, 1)\n",
            "The shape of testing data after encoding:  (21850, 28477) Y_test:  (21850, 1)\n",
            "The shape of cross validation data after encoding:  (21850, 28477) Y_cv:  (21850, 1)\n"
          ],
          "name": "stdout"
        }
      ]
    },
    {
      "cell_type": "markdown",
      "metadata": {
        "id": "hHOrYBbk9076",
        "colab_type": "text"
      },
      "source": [
        "### Simple Cross validation(Maximum AUC value)"
      ]
    },
    {
      "cell_type": "code",
      "metadata": {
        "id": "BKhQxVZ1TDkR",
        "colab_type": "code",
        "colab": {
          "base_uri": "https://localhost:8080/",
          "height": 312
        },
        "outputId": "37b205c9-b32c-480e-d061-4ab91f517020"
      },
      "source": [
        "train_auc = []\n",
        "cv_auc = []\n",
        "from sklearn.metrics import roc_curve, auc\n",
        "from sklearn.naive_bayes import MultinomialNB\n",
        "from sklearn.metrics import roc_auc_score\n",
        "from matplotlib import pylab\n",
        "from tqdm import tqdm\n",
        "import numpy as np\n",
        "import math\n",
        "rain_auc = []\n",
        "cv_auc = []\n",
        "k1 = np.arange(0,2,0.0001)\n",
        "k1= [0.00001,0.0001,0.001,0.01,0.02,0.03,0.04,0.05,0.06,0.07,0.08,0.09,0.1,0.2,0.3,0.4,0.5,0.6,0.7,0.8,0.9,1,2,3,10,20,30,40,100]\n",
        "k2=[]\n",
        "for i in k1:\n",
        "    k2.append(math.log(i))\n",
        "for i in tqdm(k1):\n",
        "    neigh = MultinomialNB(alpha=i)\n",
        "    neigh.fit(x1_train, Y_train)\n",
        "    # roc_auc_score(y_true, y_score) the 2nd parameter should be probability estimates of the positive class\n",
        "    # not the predicted outputs\n",
        "    predicted_labels = []\n",
        "    for j in range(0, 65548, 1000):\n",
        "        predicted_labels.extend(neigh.predict_proba(x1_train[j:j+1000])[:,1])\n",
        "    \n",
        "    #print(len(predicted_labels))\n",
        "    predicted_labelss = []\n",
        "    for k in range(0, 21850, 1000):\n",
        "        predicted_labelss.extend(neigh.predict_proba(x1_cv[k:k+1000])[:,1])\n",
        "\n",
        "    #y_train_pred =  neigh.predict_proba(x1_train)[:,1]\n",
        "    #y_cv_pred =  neigh.predict_proba(x1_cv)[:,1]\n",
        "    #print(len(predicted_labelss))\n",
        "\n",
        "    train_auc.append(roc_auc_score(Y_train,predicted_labels))\n",
        "    cv_auc.append(roc_auc_score(Y_cv, predicted_labelss))\n",
        "\n",
        "\n",
        "plt.plot(k2, train_auc, label='Train AUC')\n",
        "pylab.ylim([0,1])\n",
        "\n",
        "plt.plot(k2, cv_auc, label='CV AUC')\n",
        "pylab.ylim([0,1])\n",
        "\n",
        "plt.legend()\n",
        "plt.xlabel(\"K: hyperparameter(logarithm)\")\n",
        "plt.ylabel(\"AUC\")\n",
        "plt.title(\"ERROR PLOTS\")\n",
        "plt.show()"
      ],
      "execution_count": 41,
      "outputs": [
        {
          "output_type": "stream",
          "text": [
            "100%|██████████| 29/29 [00:07<00:00,  3.63it/s]\n"
          ],
          "name": "stderr"
        },
        {
          "output_type": "display_data",
          "data": {
            "image/png": "[encoded data removed]",
            "text/plain": [
              "<Figure size 432x288 with 1 Axes>"
            ]
          },
          "metadata": {
            "tags": []
          }
        }
      ]
    },
    {
      "cell_type": "markdown",
      "metadata": {
        "id": "37BFV2579079",
        "colab_type": "text"
      },
      "source": [
        "#### Observations\n",
        "    1. After applying NaiveBayes on BOW model, the model is obtained. Both train and cv seem to be close or a good alpha \n",
        "       can be 0.8.\n",
        "    2. Hence, we can consider this as our optimal alpha.\n",
        "    3. As alpha value increases, We can say that the model tends to underfit,the value of cv decreases"
      ]
    },
    {
      "cell_type": "markdown",
      "metadata": {
        "id": "VwKbCNom907-",
        "colab_type": "text"
      },
      "source": [
        "### Testing with Test data"
      ]
    },
    {
      "cell_type": "code",
      "metadata": {
        "id": "KlHGCPuNTRFw",
        "colab_type": "code",
        "colab": {
          "base_uri": "https://localhost:8080/",
          "height": 329
        },
        "outputId": "d1c384d2-74a1-48e4-a4cf-75c6e5ec5dc4"
      },
      "source": [
        "from sklearn.metrics import roc_curve, auc\n",
        "from sklearn.metrics import roc_auc_score\n",
        "from sklearn.naive_bayes import MultinomialNB\n",
        "neigh = MultinomialNB(alpha=0.8)\n",
        "\n",
        "\n",
        "neigh.fit(x1_train, Y_train)\n",
        "# roc_auc_score(y_true, y_score) the 2nd parameter should be probability estimates of the positive class\n",
        "# not the predicted outputs\n",
        "predicted_labels=[]\n",
        "predicted_labelss=[]\n",
        "for j in tqdm(range(0, 65548, 1000)):\n",
        "    predicted_labels.extend(neigh.predict_proba(x1_train[j:j+1000])[:,1])\n",
        "for m in range(0, 21850, 1000):\n",
        "    predicted_labelss.extend(neigh.predict_proba(x1_test[m:m+1000])[:,1])    \n",
        "\n",
        "    \n",
        "train_fpr, train_tpr, threshold = roc_curve(Y_train, predicted_labels)\n",
        "test_fpr, test_tpr, thresholds = roc_curve(Y_test, predicted_labelss)\n",
        "#print(train_fpr[0:150])\n",
        "#print(threshold[0:150])\n",
        "plt.plot(train_fpr, train_tpr, label=\"train AUC =\"+str(np.round(auc(train_fpr, train_tpr),3)))\n",
        "plt.plot(test_fpr, test_tpr, label=\"test AUC =\"+str(np.round(auc(test_fpr, test_tpr),3)))\n",
        "plt.legend()\n",
        "plt.xlabel(\"fpr\")\n",
        "plt.ylabel(\"tpr\")\n",
        "plt.title(\"AUC\")\n",
        "plt.show()\n",
        "\n",
        "print(\"=\"*100)\n",
        "\n",
        "#from sklearn.metrics import confusion_matrix\n",
        "#print(\"Train confusion matrix\")\n",
        "#print(confusion_matrix(y_train, neigh.predict(X_train_bow)))\n",
        "#print(\"Test confusion matrix\")\n",
        "#print(confusion_matrix(y_test, neigh.predict(X_test_bow)))"
      ],
      "execution_count": 42,
      "outputs": [
        {
          "output_type": "stream",
          "text": [
            "100%|██████████| 66/66 [00:00<00:00, 434.58it/s]\n"
          ],
          "name": "stderr"
        },
        {
          "output_type": "display_data",
          "data": {
            "image/png": "[encoded data removed]",
            "text/plain": [
              "<Figure size 432x288 with 1 Axes>"
            ]
          },
          "metadata": {
            "tags": []
          }
        },
        {
          "output_type": "stream",
          "text": [
            "====================================================================================================\n"
          ],
          "name": "stdout"
        }
      ]
    },
    {
      "cell_type": "markdown",
      "metadata": {
        "id": "tNfcdna2908A",
        "colab_type": "text"
      },
      "source": [
        "#### Observations\n",
        "    1. We observe that the area under curve or the Roc plot shows that both train and test have an area of nearly\n",
        "       0.697 and 0.67.\n",
        "    2. We may need to improve this model as it is not very useful for accurate prediction.\n",
        "    3. After multiple trials, we find that the AUC is highest for alpha= 0.8."
      ]
    },
    {
      "cell_type": "markdown",
      "metadata": {
        "id": "Pmn5LqnQ908A",
        "colab_type": "text"
      },
      "source": [
        "### Confusion matrix"
      ]
    },
    {
      "cell_type": "code",
      "metadata": {
        "id": "M44FcCMZTboS",
        "colab_type": "code",
        "colab": {
          "base_uri": "https://localhost:8080/",
          "height": 713
        },
        "outputId": "e264e904-acb5-4268-a0b9-a9892fb885b2"
      },
      "source": [
        "from sklearn.metrics import confusion_matrix#https://seaborn.pydata.org/generated/seaborn.heatmap.html\n",
        "import seaborn as sns\n",
        "from sklearn.metrics import roc_curve, auc\n",
        "from sklearn.neighbors import KNeighborsClassifier\n",
        "from sklearn.metrics import roc_auc_score\n",
        "from sklearn.naive_bayes import MultinomialNB\n",
        "neigh = MultinomialNB(alpha=0.8)\n",
        "predicted_labels=[]\n",
        "predicted_labelss=[]\n",
        "neigh.fit(x1_train, Y_train)\n",
        "for j in tqdm(range(0, 65548, 1000)):\n",
        "    predicted_labels.extend(neigh.predict(x1_train[j:j+1000]))\n",
        "for m in range(0, 21850, 1000):\n",
        "    predicted_labelss.extend(neigh.predict(x1_test[m:m+1000]))    \n",
        "\n",
        "confusion= confusion_matrix(Y_train, predicted_labels)\n",
        "confusion_test= confusion_matrix(Y_test, predicted_labelss)\n",
        "label= [\"0\",\"1\"]\n",
        "confusion_pd = pd.DataFrame(confusion, index= label, columns= label)\n",
        "confusion_test_pd= pd.DataFrame(confusion_test, index= label, columns= label)\n",
        "\n",
        "plt.figure(figsize=(15,5))\n",
        "plt.subplot(1,2,1)\n",
        "sns.heatmap(confusion_pd, annot= True, fmt= \"d\")\n",
        "plt.xlabel(\"Predicted value\")\n",
        "plt.ylabel(\"Actual label\")\n",
        "plt.title(\"Confusion Matrix for Train data\")\n",
        "plt.subplot(1,2,2)\n",
        "plt.xlabel(\"Predicted value\")\n",
        "plt.ylabel(\"Actual label\")\n",
        "plt.title(\"Confusion Matrix for Test data\")\n",
        "sns.heatmap(confusion_test, annot= True, fmt= \"d\")\n",
        "plt.show()\n",
        "from sklearn.metrics import classification_report\n",
        "print(\"Metrics for Test data\"\"\\n\", classification_report(Y_train, predicted_labels))\n",
        "print(\"Metrics for Train data\"\"\\n\", classification_report(Y_test, predicted_labelss)) \n",
        "#https://scikit-learn.org/stable/modules/generated/sklearn.metrics.classification_report.html"
      ],
      "execution_count": 43,
      "outputs": [
        {
          "output_type": "stream",
          "text": [
            "100%|██████████| 66/66 [00:00<00:00, 505.56it/s]\n"
          ],
          "name": "stderr"
        },
        {
          "output_type": "display_data",
          "data": {
            "image/png": "[encoded data removed]",
            "text/plain": [
              "<Figure size 1080x360 with 4 Axes>"
            ]
          },
          "metadata": {
            "tags": []
          }
        },
        {
          "output_type": "stream",
          "text": [
            "Metrics for Test data\n",
            "               precision    recall  f1-score   support\n",
            "\n",
            "           0       0.26      0.53      0.35      9832\n",
            "           1       0.90      0.73      0.81     55716\n",
            "\n",
            "    accuracy                           0.70     65548\n",
            "   macro avg       0.58      0.63      0.58     65548\n",
            "weighted avg       0.80      0.70      0.74     65548\n",
            "\n",
            "Metrics for Train data\n",
            "               precision    recall  f1-score   support\n",
            "\n",
            "           0       0.25      0.49      0.33      3326\n",
            "           1       0.89      0.73      0.80     18524\n",
            "\n",
            "    accuracy                           0.69     21850\n",
            "   macro avg       0.57      0.61      0.56     21850\n",
            "weighted avg       0.79      0.69      0.73     21850\n",
            "\n"
          ],
          "name": "stdout"
        }
      ]
    },
    {
      "cell_type": "markdown",
      "metadata": {
        "id": "fzIZXcTC908D",
        "colab_type": "text"
      },
      "source": [
        "##### Definitions\n",
        "       1.True Postive: A true positive is an outcome where the model correctly predicts the positive class.\n",
        "       2.True Negative: A true negative is an outcome where the model correctly predicts the negative class.\n",
        "       3.False positive: A false positive is an outcome where the model incorrectly predicts the positive class.\n",
        "       4.False negative: A false negative is an outcome where the model incorrectly predicts the negative class.\n",
        "#### Observations\n",
        "        1. The metrics show that our data may not work well\n",
        "        2. The recall is 0.73 and 0.49 for positive and negative class respectively\n",
        "        3. We find that false positives and false negatives are significantly less"
      ]
    },
    {
      "cell_type": "markdown",
      "metadata": {
        "id": "WSVsCpO8908E",
        "colab_type": "text"
      },
      "source": [
        "# Top 10 postive and negative class features<font color='red'> SET 1</font>"
      ]
    },
    {
      "cell_type": "code",
      "metadata": {
        "id": "7_pFfi2rTjuS",
        "colab_type": "code",
        "colab": {
          "base_uri": "https://localhost:8080/",
          "height": 449
        },
        "outputId": "54d0e3cb-1a9d-4abc-daea-662b0e58de70"
      },
      "source": [
        "nb = MultinomialNB(alpha=0.8)\n",
        "nb.fit(x1_train, Y_train)\n",
        "import pandas as pd\n",
        "#https://stackoverflow.com/questions/34649969/how-to-find-the-features-names-of-the-coefficients-using-scikit-linear-regressio\n",
        "a= nb.coef_\n",
        "print(\"The shape of matrix is: \",a.shape)\n",
        "feature= pd.DataFrame(a, columns= feature_names)\n",
        "\n",
        "A= feature.T\n",
        "#A.head(5)\n",
        "C= A.abs()\n",
        "#C.head(5)\n",
        "#C.head(5)\n",
        "B= C.sort_values(by=[0], axis=0, ascending=True, inplace=False, kind='quicksort', na_position='last')\n",
        "D= C.sort_values(by=[0], axis=0, ascending=False, inplace=False, kind='quicksort', na_position='last')\n",
        "print(\"the top 10 features positive features are as follows: \"\"\\n\", B[0:10]) \n",
        "print(\"the top 10 features negative features are as follows: \"\"\\n\", D[0:10])"
      ],
      "execution_count": 44,
      "outputs": [
        {
          "output_type": "stream",
          "text": [
            "The shape of matrix is:  (1, 28477)\n",
            "the top 10 features positive features are as follows: \n",
            "                            0\n",
            "price               0.464762\n",
            "number_of_projects  3.647815\n",
            "students            4.133622\n",
            "school              5.279074\n",
            "learning            5.645882\n",
            "classroom           5.668512\n",
            "not                 5.940943\n",
            "learn               5.978911\n",
            "help                6.010179\n",
            "students            6.037920\n",
            "the top 10 features negative features are as follows: \n",
            "                        0\n",
            "Grades 3-5     17.275665\n",
            "Grades 6-8     17.275665\n",
            "Dr.            17.275665\n",
            "Mr.            17.275665\n",
            "Ms.            17.275665\n",
            "Mrs.           17.275665\n",
            "Grades PreK-2  17.275665\n",
            "tstudents      17.275665\n",
            "Grades 9-12    17.275665\n",
            "simmons        16.464735\n"
          ],
          "name": "stdout"
        }
      ]
    },
    {
      "cell_type": "markdown",
      "metadata": {
        "colab_type": "text",
        "id": "s85gPOAbCyp1"
      },
      "source": [
        "### 2.4.2 Applying Naive Bayes on TFIDF,<font color='red'> SET 2</font>"
      ]
    },
    {
      "cell_type": "code",
      "metadata": {
        "id": "hIHHxy0NTx1S",
        "colab_type": "code",
        "colab": {
          "base_uri": "https://localhost:8080/",
          "height": 86
        },
        "outputId": "d865f51e-dfa2-40d2-bb11-cb97bf44151f"
      },
      "source": [
        "#emcoding data using data modelling function\n",
        "x2_train, x2_test,x2_cv, feature_names= data_modelling(2,data_train,data_test,data_cv)\n",
        "print(\"The shape of training data after encoding: \",x2_train.shape , \"Y_train: \", Y_train.shape)\n",
        "print(\"The shape of testing data after encoding: \",x2_test.shape , \"Y_test: \", Y_test.shape)\n",
        "print(\"The shape of cross validation data after encoding: \",x2_cv.shape,\"Y_cv: \",Y_cv.shape)"
      ],
      "execution_count": 45,
      "outputs": [
        {
          "output_type": "stream",
          "text": [
            "All the features are encoded successfully and TF-IDF is used! \n",
            "The shape of training data after encoding:  (65548, 28477) Y_train:  (65548, 1)\n",
            "The shape of testing data after encoding:  (21850, 28477) Y_test:  (21850, 1)\n",
            "The shape of cross validation data after encoding:  (21850, 28477) Y_cv:  (21850, 1)\n"
          ],
          "name": "stdout"
        }
      ]
    },
    {
      "cell_type": "markdown",
      "metadata": {
        "id": "d2bMf8QOT3_-",
        "colab_type": "text"
      },
      "source": [
        "### Simple Cross Validation"
      ]
    },
    {
      "cell_type": "code",
      "metadata": {
        "id": "C1VqFitUT2T_",
        "colab_type": "code",
        "colab": {
          "base_uri": "https://localhost:8080/",
          "height": 312
        },
        "outputId": "59c2fabb-e506-4cd9-af68-b1d197f3834b"
      },
      "source": [
        "train_auc = []\n",
        "cv_auc = []\n",
        "from sklearn.metrics import roc_curve, auc\n",
        "from sklearn.naive_bayes import MultinomialNB\n",
        "from sklearn.metrics import roc_auc_score\n",
        "from matplotlib import pylab\n",
        "from tqdm import tqdm\n",
        "import numpy as np\n",
        "rain_auc = []\n",
        "cv_auc = []\n",
        "k1 = [0.00001,0.0001,0.001,0.01,0.02,0.03,0.04,0.05,0.06,0.07,0.08,0.09,0.1,0.2,0.3,0.4,0.5,0.6,0.7,0.8,0.9,1,2,3,4,5,6,7,8,9,10]\n",
        "k2=[]\n",
        "for i in k1:\n",
        "    k2.append(math.log(i))\n",
        "for i in tqdm(k1):\n",
        "    neigh = MultinomialNB(alpha=i)\n",
        "    neigh.fit(x2_train, Y_train)\n",
        "    # roc_auc_score(y_true, y_score) the 2nd parameter should be probability estimates of the positive class\n",
        "    # not the predicted outputs\n",
        "    predicted_labels = []\n",
        "    for j in range(0, 65548, 1000):\n",
        "        predicted_labels.extend(neigh.predict_proba(x2_train[j:j+1000])[:,1])\n",
        "    \n",
        "    #print(len(predicted_labels))\n",
        "    predicted_labelss = []\n",
        "    for k in range(0, 21850, 1000):\n",
        "        predicted_labelss.extend(neigh.predict_proba(x2_cv[k:k+1000])[:,1])\n",
        "\n",
        "    #y_train_pred =  neigh.predict_proba(x1_train)[:,1]\n",
        "    #y_cv_pred =  neigh.predict_proba(x1_cv)[:,1]\n",
        "    #print(len(predicted_labelss))\n",
        "\n",
        "    train_auc.append(roc_auc_score(Y_train,predicted_labels))\n",
        "    cv_auc.append(roc_auc_score(Y_cv, predicted_labelss))\n",
        "\n",
        "\n",
        "\n",
        "plt.plot(k2, train_auc, label='Train AUC')\n",
        "plt.plot(k2, cv_auc, label='CV AUC')\n",
        "plt.legend()\n",
        "plt.xlabel(\"K: hyperparameter(logarithm)\")\n",
        "plt.ylabel(\"AUC\")\n",
        "pylab.ylim([0,1])\n",
        "plt.title(\"ERROR PLOTS\")\n",
        "plt.show()"
      ],
      "execution_count": 46,
      "outputs": [
        {
          "output_type": "stream",
          "text": [
            "100%|██████████| 31/31 [00:08<00:00,  3.54it/s]\n"
          ],
          "name": "stderr"
        },
        {
          "output_type": "display_data",
          "data": {
            "image/png": "[encoded data removed]",
            "text/plain": [
              "<Figure size 432x288 with 1 Axes>"
            ]
          },
          "metadata": {
            "tags": []
          }
        }
      ]
    },
    {
      "cell_type": "markdown",
      "metadata": {
        "id": "you__ovG908a",
        "colab_type": "text"
      },
      "source": [
        "#### Observations\n",
        "\n",
        "     1. After applying NaiveBayes on TF-IDF model, the model is obtained. Both train and cv seem to be close or a good alpha \n",
        "        can be 0.01.\n",
        "     2. Hence, we can consider this as our optimal alpha.\n",
        "     3. As alpha value increases, We can say that the model tends to underfit,the value of cv decreases   "
      ]
    },
    {
      "cell_type": "markdown",
      "metadata": {
        "id": "AeYAXuS5908b",
        "colab_type": "text"
      },
      "source": [
        "### Testing with Test data"
      ]
    },
    {
      "cell_type": "code",
      "metadata": {
        "id": "gbnt1ShqT6U_",
        "colab_type": "code",
        "colab": {
          "base_uri": "https://localhost:8080/",
          "height": 329
        },
        "outputId": "827eff83-d713-4450-9b68-8b361228af35"
      },
      "source": [
        "from sklearn.metrics import roc_curve, auc\n",
        "from sklearn.metrics import roc_auc_score\n",
        "from sklearn.naive_bayes import MultinomialNB\n",
        "neigh = MultinomialNB(alpha=0.01)\n",
        "\n",
        "\n",
        "neigh.fit(x2_train, Y_train)\n",
        "# roc_auc_score(y_true, y_score) the 2nd parameter should be probability estimates of the positive class\n",
        "# not the predicted outputs\n",
        "predicted_labels=[]\n",
        "predicted_labelss=[]\n",
        "for j in tqdm(range(0, 65548, 1000)):\n",
        "    predicted_labels.extend(neigh.predict_proba(x2_train[j:j+1000])[:,1])\n",
        "for m in range(0, 21850, 1000):\n",
        "    predicted_labelss.extend(neigh.predict_proba(x2_test[m:m+1000])[:,1])    \n",
        "\n",
        "    \n",
        "train_fpr, train_tpr, threshold = roc_curve(Y_train, predicted_labels)\n",
        "test_fpr, test_tpr, thresholds = roc_curve(Y_test, predicted_labelss)\n",
        "#print(train_fpr[0:150])\n",
        "#print(threshold[0:150])\n",
        "plt.plot(train_fpr, train_tpr, label=\"train AUC =\"+str(np.round(auc(train_fpr, train_tpr),3)))\n",
        "plt.plot(test_fpr, test_tpr, label=\"test AUC =\"+str(np.round(auc(test_fpr, test_tpr),3)))\n",
        "plt.legend()\n",
        "plt.xlabel(\"fpr\")\n",
        "plt.ylabel(\"tpr\")\n",
        "plt.title(\"AUC\")\n",
        "plt.show()\n",
        "\n",
        "print(\"=\"*100)\n"
      ],
      "execution_count": 47,
      "outputs": [
        {
          "output_type": "stream",
          "text": [
            "100%|██████████| 66/66 [00:00<00:00, 474.86it/s]\n"
          ],
          "name": "stderr"
        },
        {
          "output_type": "display_data",
          "data": {
            "image/png": "[encoded data removed]",
            "text/plain": [
              "<Figure size 432x288 with 1 Axes>"
            ]
          },
          "metadata": {
            "tags": []
          }
        },
        {
          "output_type": "stream",
          "text": [
            "====================================================================================================\n"
          ],
          "name": "stdout"
        }
      ]
    },
    {
      "cell_type": "markdown",
      "metadata": {
        "id": "28gcxR4Z908h",
        "colab_type": "text"
      },
      "source": [
        "##### Observations\n",
        "    1. We observe that the area under curve or the Roc plot shows that both train and test have an area of nearly\n",
        "       0.665 and 0.637.   \n",
        "    2. We may need to improve this model as it is not very useful for accurate prediction.\n",
        "    3. After multiple trials, we find that the AUC is highest for alpha= 0.01.\n",
        "    4. Previous model seems to be performing better than this."
      ]
    },
    {
      "cell_type": "markdown",
      "metadata": {
        "id": "f0gQvdwT908i",
        "colab_type": "text"
      },
      "source": [
        "### Confusion Matrix"
      ]
    },
    {
      "cell_type": "code",
      "metadata": {
        "id": "Uc3vm_hRUBZO",
        "colab_type": "code",
        "colab": {
          "base_uri": "https://localhost:8080/",
          "height": 713
        },
        "outputId": "24fed4ff-c41f-4c0a-9ea3-ecb2518035ae"
      },
      "source": [
        "from sklearn.metrics import confusion_matrix#https://seaborn.pydata.org/generated/seaborn.heatmap.html\n",
        "import seaborn as sns\n",
        "from sklearn.metrics import roc_curve, auc\n",
        "from sklearn.neighbors import KNeighborsClassifier\n",
        "from sklearn.metrics import roc_auc_score\n",
        "from sklearn.naive_bayes import MultinomialNB\n",
        "neigh = MultinomialNB(alpha=0.01)\n",
        "predicted_labels=[]\n",
        "predicted_labelss=[]\n",
        "neigh.fit(x1_train, Y_train)\n",
        "for j in tqdm(range(0, 65548, 1000)):\n",
        "    predicted_labels.extend(neigh.predict(x2_train[j:j+1000]))\n",
        "for m in range(0, 21850, 1000):\n",
        "    predicted_labelss.extend(neigh.predict(x2_test[m:m+1000]))    \n",
        "\n",
        "confusion= confusion_matrix(Y_train, predicted_labels)\n",
        "confusion_test= confusion_matrix(Y_test, predicted_labelss)\n",
        "label= [\"0\",\"1\"]\n",
        "confusion_pd = pd.DataFrame(confusion, index= label, columns= label)\n",
        "confusion_test_pd= pd.DataFrame(confusion_test, index= label, columns= label)\n",
        "\n",
        "plt.figure(figsize=(15,5))\n",
        "plt.subplot(1,2,1)\n",
        "sns.heatmap(confusion_pd, annot= True, fmt= \"d\")\n",
        "plt.xlabel(\"Predicted value\")\n",
        "plt.ylabel(\"Actual label\")\n",
        "plt.title(\"Confusion Matrix for Train data\")\n",
        "plt.subplot(1,2,2)\n",
        "plt.xlabel(\"Predicted value\")\n",
        "plt.ylabel(\"Actual label\")\n",
        "plt.title(\"Confusion Matrix for Test data\")\n",
        "sns.heatmap(confusion_test, annot= True, fmt= \"d\")\n",
        "plt.show()\n",
        "from sklearn.metrics import classification_report\n",
        "print(\"Metrics for Test data\"\"\\n\", classification_report(Y_train, predicted_labels))\n",
        "print(\"Metrics for Train data\"\"\\n\", classification_report(Y_test, predicted_labelss)) \n",
        "#https://scikit-learn.org/stable/modules/generated/sklearn.metrics.classification_report.html"
      ],
      "execution_count": 48,
      "outputs": [
        {
          "output_type": "stream",
          "text": [
            "100%|██████████| 66/66 [00:00<00:00, 515.75it/s]\n"
          ],
          "name": "stderr"
        },
        {
          "output_type": "display_data",
          "data": {
            "image/png": "[encoded data removed]",
            "text/plain": [
              "<Figure size 1080x360 with 4 Axes>"
            ]
          },
          "metadata": {
            "tags": []
          }
        },
        {
          "output_type": "stream",
          "text": [
            "Metrics for Test data\n",
            "               precision    recall  f1-score   support\n",
            "\n",
            "           0       0.18      0.88      0.30      9832\n",
            "           1       0.93      0.29      0.45     55716\n",
            "\n",
            "    accuracy                           0.38     65548\n",
            "   macro avg       0.56      0.59      0.37     65548\n",
            "weighted avg       0.82      0.38      0.43     65548\n",
            "\n",
            "Metrics for Train data\n",
            "               precision    recall  f1-score   support\n",
            "\n",
            "           0       0.18      0.87      0.30      3326\n",
            "           1       0.92      0.29      0.44     18524\n",
            "\n",
            "    accuracy                           0.38     21850\n",
            "   macro avg       0.55      0.58      0.37     21850\n",
            "weighted avg       0.81      0.38      0.42     21850\n",
            "\n"
          ],
          "name": "stdout"
        }
      ]
    },
    {
      "cell_type": "markdown",
      "metadata": {
        "id": "eJnd_XHe908o",
        "colab_type": "text"
      },
      "source": [
        "##### Definitions\n",
        "       1.True Postive: A true positive is an outcome where the model correctly predicts the positive class.\n",
        "       2.True Negative: A true negative is an outcome where the model correctly predicts the negative class.\n",
        "       3.False positive: A false positive is an outcome where the model incorrectly predicts the positive class.\n",
        "       4.False negative: A false negative is an outcome where the model incorrectly predicts the negative class.\n",
        "#### Observations\n",
        "        1. The metrics show that our data may not work well\n",
        "        2. The model is a dumb model and won't work even after choosing best optimal alpha.\n",
        "        3. We find that false positives and false negatives are significantly more.\n",
        "        4. Recall value is pretty low for positive class"
      ]
    },
    {
      "cell_type": "markdown",
      "metadata": {
        "id": "ZqHCwSPk908o",
        "colab_type": "text"
      },
      "source": [
        "# Top 10 postive and negative class features<font color='red'> SET 2</font>"
      ]
    },
    {
      "cell_type": "code",
      "metadata": {
        "id": "SvSQQesUUHQT",
        "colab_type": "code",
        "colab": {
          "base_uri": "https://localhost:8080/",
          "height": 449
        },
        "outputId": "87d6cd8f-d91c-451c-ab6a-2106232c65d3"
      },
      "source": [
        "nb = MultinomialNB(alpha=0.8)\n",
        "nb.fit(x2_train, Y_train)\n",
        "import pandas as pd\n",
        "#https://stackoverflow.com/questions/34649969/how-to-find-the-features-names-of-the-coefficients-using-scikit-linear-regressio\n",
        "a= nb.coef_\n",
        "print(\"The shape of matrix is: \",a.shape)\n",
        "feature= pd.DataFrame(a, columns= feature_names)\n",
        "\n",
        "A= feature.T\n",
        "#A.head(5)\n",
        "C= A.abs()\n",
        "#C.head(5)\n",
        "#C.head(5)\n",
        "B= C.sort_values(by=[0], axis=0, ascending=True, inplace=False, kind='quicksort', na_position='last')\n",
        "D= C.sort_values(by=[0], axis=0, ascending=False, inplace=False, kind='quicksort', na_position='last')\n",
        "print(\"the top 10 features positive features are as follows: \"\"\\n\", B[0:10]) \n",
        "print(\"the top 10 features negative features are as follows: \"\"\\n\", D[0:10])"
      ],
      "execution_count": 49,
      "outputs": [
        {
          "output_type": "stream",
          "text": [
            "The shape of matrix is:  (1, 28477)\n",
            "the top 10 features positive features are as follows: \n",
            "                            0\n",
            "price               0.098540\n",
            "number_of_projects  3.281593\n",
            "Literacy_Language   6.476365\n",
            "Math_Science        6.741920\n",
            "Literacy            6.910373\n",
            "Mathematics         7.125598\n",
            "Literature_Writing  7.334217\n",
            "CA                  7.710569\n",
            "students            7.790779\n",
            "Health_Sports       7.794953\n",
            "the top 10 features negative features are as follows: \n",
            "                        0\n",
            "Grades 3-5     16.909443\n",
            "Grades PreK-2  16.909443\n",
            "Dr.            16.909443\n",
            "Grades 6-8     16.909443\n",
            "Mr.            16.909443\n",
            "Ms.            16.909443\n",
            "Mrs.           16.909443\n",
            "tstudents      16.909443\n",
            "Grades 9-12    16.909443\n",
            "refreshments   16.783124\n"
          ],
          "name": "stdout"
        }
      ]
    },
    {
      "cell_type": "markdown",
      "metadata": {
        "colab_type": "text",
        "id": "bemispVtCyp-"
      },
      "source": [
        "<h1>3. Conclusions</h1>"
      ]
    },
    {
      "cell_type": "code",
      "metadata": {
        "id": "vvAgsjjlUMly",
        "colab_type": "code",
        "colab": {
          "base_uri": "https://localhost:8080/",
          "height": 121
        },
        "outputId": "9981400e-3577-4651-e884-a37005d6a703"
      },
      "source": [
        "from prettytable import PrettyTable\n",
        "#http://zetcode.com/python/prettytable/\n",
        "    \n",
        "x = PrettyTable()\n",
        "\n",
        "x.field_names = [\"Vectorizer\", \"Model\", \"Hyper parameter\", \"AUC for TEST\"]\n",
        "\n",
        "x.add_row([\"BOW\", \"MultinomialNB\",0.8 ,0.671])\n",
        "x.add_row([\"TF-IDF\", \"MultinomialNB\", 0.01, 0.637])\n",
        "\n",
        "\n",
        "print(x)"
      ],
      "execution_count": 50,
      "outputs": [
        {
          "output_type": "stream",
          "text": [
            "+------------+---------------+-----------------+--------------+\n",
            "| Vectorizer |     Model     | Hyper parameter | AUC for TEST |\n",
            "+------------+---------------+-----------------+--------------+\n",
            "|    BOW     | MultinomialNB |       0.8       |    0.671     |\n",
            "|   TF-IDF   | MultinomialNB |       0.01      |    0.637     |\n",
            "+------------+---------------+-----------------+--------------+\n"
          ],
          "name": "stdout"
        }
      ]
    },
    {
      "cell_type": "markdown",
      "metadata": {
        "id": "MSSlT2ypUr7P",
        "colab_type": "text"
      },
      "source": [
        "### Final Observations\n",
        "    1. We've trained our data set with BOW and TF-IDF and tested it to precict whether a given project would be accepted\n",
        "       or not.\n",
        "    2. As there we couldn't find any concrete paramaters for the approval/rejection of projects in EDA, it is likely that our\n",
        "       our models couldn't perform well with given techniques either.\n",
        "    3. The computation significantly reduced compared to the previous models.\n",
        "    4. We also found out the top 20 features using coef_ feature. All these features appeared to be words.\n",
        "    5. We've incorporated every possible feature into the data to train the model efficiently in order to obtain good \n",
        "       results."
      ]
    }
  ]
}